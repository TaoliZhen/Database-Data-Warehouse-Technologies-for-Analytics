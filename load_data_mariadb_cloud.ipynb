{
 "cells": [
  {
   "cell_type": "markdown",
   "source": [
    "# Migrate the Database From MySQL to MariaDB Cloud (SkySQL)\n",
    "# Setup HTAP Replication, Insert data to Row Store and Auto Replicate to Column Store\n",
    "\n",
    "Here we are actually using cloud MariaDB, the MariaDB Platform optimized for smart transaction processing in the cloud,\n",
    "storing data both as rows on persistent block storage and as columns on object storage.\n",
    "It can practically use as data warehouse depending on the setup.\n",
    "\n",
    "We can specify the Row Store tables with certain prefix to automatically replicate to Column Store. Which can feed data\n",
    "directly to the datawarehouse.\n",
    "\n",
    "Because the mariadb connector is not working properly locally, we used mysql.connector to connect to the cloud database\n",
    "which Mariadb supports. And the cloud server is call SkySQL."
   ],
   "metadata": {
    "collapsed": false,
    "pycharm": {
     "name": "#%% md\n"
    }
   }
  },
  {
   "cell_type": "code",
   "execution_count": 1,
   "metadata": {
    "collapsed": true
   },
   "outputs": [],
   "source": [
    "import pandas as pd\n",
    "from IPython.display import display\n",
    "import mysql.connector"
   ]
  },
  {
   "cell_type": "code",
   "execution_count": 2,
   "outputs": [],
   "source": [
    "def create_connection():\n",
    "    conn = None\n",
    "    try:\n",
    "       conn = mysql.connector.connect(\n",
    "          user=\"DB00004175\",\n",
    "          password=\"tTNlXEirHh)EmwXhtp4koTR\",\n",
    "          host=\"menu-data-db.mdb0002067.db.skysql.net\",\n",
    "          ssl_ca=\"skysql_chain.pem\",\n",
    "          port=5001)\n",
    "       conn.autocommit = False\n",
    "       return conn\n",
    "    except mysql.connector.Error as e:\n",
    "       print(f\"Error connecting to MariaDB Platform: {e}\")\n",
    "    return conn\n",
    "\n",
    "conn = create_connection()"
   ],
   "metadata": {
    "collapsed": false,
    "pycharm": {
     "name": "#%%\n"
    }
   }
  },
  {
   "cell_type": "code",
   "execution_count": 3,
   "outputs": [],
   "source": [
    "# For DDL, DCL, DML\n",
    "def sql_execute(conn, sql):\n",
    "\n",
    "    try:\n",
    "        cur = conn.cursor()\n",
    "        cur.execute(sql, multi=True)\n",
    "        conn.commit()\n",
    "    except mysql.connector.Error as e:\n",
    "        print(e)"
   ],
   "metadata": {
    "collapsed": false,
    "pycharm": {
     "name": "#%%\n"
    }
   }
  },
  {
   "cell_type": "code",
   "execution_count": 4,
   "outputs": [],
   "source": [
    "# For DQL\n",
    "def sql_execute_show(conn, sql):\n",
    "\n",
    "    try:\n",
    "        df = pd.read_sql(sql, con = conn)\n",
    "        display(df)\n",
    "    except mysql.connector.Error as e:\n",
    "        print(e)"
   ],
   "metadata": {
    "collapsed": false,
    "pycharm": {
     "name": "#%%\n"
    }
   }
  },
  {
   "cell_type": "code",
   "execution_count": 9,
   "outputs": [],
   "source": [
    "### create tables\n",
    "def create_table_main(conn):\n",
    "    sql_create_restaurant_table = \"\"\"CREATE TABLE IF NOT EXISTS menu_rowstore.restaurant (\n",
    "                                        r_id INT PRIMARY KEY,\n",
    "                                        r_name VARCHAR(200) NOT NULL\n",
    "                                    ); \"\"\"\n",
    "\n",
    "    sql_create_food_category_table = \"\"\"CREATE TABLE IF NOT EXISTS menu_rowstore.food_category (\n",
    "                                    cat_id INT PRIMARY KEY,\n",
    "                                    cat_name VARCHAR(200) NOT NULL\n",
    "                                );\"\"\"\n",
    "\n",
    "    sql_create_item_info_table = \"\"\"CREATE TABLE IF NOT EXISTS menu_rowstore.item_info (\n",
    "                                    item_id INT NOT NULL,\n",
    "                                    year INT NOT NULL,\n",
    "                                    item_name VARCHAR(200) NOT NULL,\n",
    "                                    item_description text,\n",
    "                                    PRIMARY KEY (item_id, year)\n",
    "                                );\"\"\"\n",
    "\n",
    "    sql_create_nutrition_facts_table = \"\"\"CREATE TABLE IF NOT EXISTS menu_rowstore.nutrition_facts (\n",
    "                                    item_id INT NOT NULL,\n",
    "                                    year INT NOT NULL,\n",
    "                                    r_id INT,\n",
    "                                    cat_id INT,\n",
    "                                    calories INT,\n",
    "                                    total_fat INT,\n",
    "                                    saturated_fat INT,\n",
    "                                    trans_fat INT,\n",
    "                                    cholesterol INT,\n",
    "                                    sodium INT,\n",
    "                                    potassium INT,\n",
    "                                    carbs INT,\n",
    "                                    protein INT,\n",
    "                                    sugar INT,\n",
    "                                    dietary_Fiber INT,\n",
    "                                    PRIMARY KEY (item_id, year)\n",
    "                                    #FOREIGN KEY (item_id) REFERENCES item_info(item_id),\n",
    "                                    #FOREIGN KEY (year) REFERENCES item_info(year),\n",
    "                                    #FOREIGN KEY (r_id) REFERENCES restaurant(r_id),\n",
    "                                    #FOREIGN KEY (cat_id) REFERENCES food_category(cat_id)\n",
    "                                );\"\"\"\n",
    "\n",
    "    sql_create_combo_facts_table = \"\"\"CREATE TABLE IF NOT EXISTS menu_rowstore.combo_facts (\n",
    "                                    combo_id INT NOT NULL,\n",
    "                                    item_id INT NOT NULL,\n",
    "                                    year INT NOT NULL,\n",
    "                                    cat_id INT,\n",
    "                                    builds text,\n",
    "                                    PRIMARY KEY (combo_id, item_id, year, cat_id)\n",
    "                                    #FOREIGN KEY (`item_id`) REFERENCES `item_info`(`item_id`),\n",
    "                                    #FOREIGN KEY (`year`) REFERENCES `item_info`(`year`),\n",
    "                                    #FOREIGN KEY (`cat_id`) REFERENCES `food_category`(`cat_id`)\n",
    "                                );\"\"\"\n",
    "\n",
    "\n",
    "    # create a database connection\n",
    "    #conn = create_connection()\n",
    "\n",
    "    # create tables\n",
    "    if conn is not None:\n",
    "        # create tables\n",
    "        try:\n",
    "            sql_execute(conn, sql_create_restaurant_table)\n",
    "            sql_execute(conn, sql_create_food_category_table)\n",
    "            sql_execute(conn, sql_create_item_info_table)\n",
    "            sql_execute(conn, sql_create_nutrition_facts_table)\n",
    "            sql_execute(conn, sql_create_combo_facts_table)\n",
    "        except:\n",
    "            print(\"Error! cannot create the database connection.\")\n",
    "        finally:\n",
    "            if conn:\n",
    "                conn.close()\n",
    "\n"
   ],
   "metadata": {
    "collapsed": false,
    "pycharm": {
     "name": "#%%\n"
    }
   }
  },
  {
   "cell_type": "markdown",
   "source": [
    "# Used MysqlWorkbench to connect to Mariadb SkySQL to import the mysql dump file over to the cloud\n",
    "\n",
    "Use the credentials provided in the MariaDB Enterprise Server to connect to the server\n",
    "\n",
    "### Create a database in the server"
   ],
   "metadata": {
    "collapsed": false,
    "pycharm": {
     "name": "#%% md\n"
    }
   }
  },
  {
   "cell_type": "code",
   "execution_count": null,
   "outputs": [],
   "source": [
    "sql_execute(conn, sql = '''CREATE DATABASE IF NOT EXISTS menu_rstore;;''')"
   ],
   "metadata": {
    "collapsed": false,
    "pycharm": {
     "name": "#%%\n"
    }
   }
  },
  {
   "cell_type": "code",
   "execution_count": 15,
   "outputs": [
    {
     "data": {
      "text/plain": "    r_id                       r_name\n0      0                     7 Eleven\n1      1                   Applebee's\n2      2                       Arby's\n3      3                Auntie Anne's\n4      4  BJ's Restaurant & Brewhouse\n..   ...                          ...\n91    91                  Whataburger\n92    92                 White Castle\n93    93                     Wingstop\n94    94                   Yard House\n95    95                      Zaxby's\n\n[96 rows x 2 columns]",
      "text/html": "<div>\n<style scoped>\n    .dataframe tbody tr th:only-of-type {\n        vertical-align: middle;\n    }\n\n    .dataframe tbody tr th {\n        vertical-align: top;\n    }\n\n    .dataframe thead th {\n        text-align: right;\n    }\n</style>\n<table border=\"1\" class=\"dataframe\">\n  <thead>\n    <tr style=\"text-align: right;\">\n      <th></th>\n      <th>r_id</th>\n      <th>r_name</th>\n    </tr>\n  </thead>\n  <tbody>\n    <tr>\n      <th>0</th>\n      <td>0</td>\n      <td>7 Eleven</td>\n    </tr>\n    <tr>\n      <th>1</th>\n      <td>1</td>\n      <td>Applebee's</td>\n    </tr>\n    <tr>\n      <th>2</th>\n      <td>2</td>\n      <td>Arby's</td>\n    </tr>\n    <tr>\n      <th>3</th>\n      <td>3</td>\n      <td>Auntie Anne's</td>\n    </tr>\n    <tr>\n      <th>4</th>\n      <td>4</td>\n      <td>BJ's Restaurant &amp; Brewhouse</td>\n    </tr>\n    <tr>\n      <th>...</th>\n      <td>...</td>\n      <td>...</td>\n    </tr>\n    <tr>\n      <th>91</th>\n      <td>91</td>\n      <td>Whataburger</td>\n    </tr>\n    <tr>\n      <th>92</th>\n      <td>92</td>\n      <td>White Castle</td>\n    </tr>\n    <tr>\n      <th>93</th>\n      <td>93</td>\n      <td>Wingstop</td>\n    </tr>\n    <tr>\n      <th>94</th>\n      <td>94</td>\n      <td>Yard House</td>\n    </tr>\n    <tr>\n      <th>95</th>\n      <td>95</td>\n      <td>Zaxby's</td>\n    </tr>\n  </tbody>\n</table>\n<p>96 rows × 2 columns</p>\n</div>"
     },
     "metadata": {},
     "output_type": "display_data"
    }
   ],
   "source": [
    "sql_execute_show(conn, sql = '''SELECT * FROM menu_rstore.restaurant;''')"
   ],
   "metadata": {
    "collapsed": false,
    "pycharm": {
     "name": "#%%\n"
    }
   }
  },
  {
   "cell_type": "markdown",
   "source": [
    "# Setup HTAP Replication, Row Store Auto Replicate to Column Store\n",
    "(Hybrid Transactional-Analytical Processing)\n",
    "\n",
    "Reference: https://mariadb.com/products/skysql/docs/operations/htap-replication/"
   ],
   "metadata": {
    "collapsed": false,
    "pycharm": {
     "name": "#%% md\n"
    }
   }
  },
  {
   "cell_type": "markdown",
   "source": [
    "## Create a analytical (column store) database\n",
    "\n",
    "\n",
    "#### 1. Set up the replication filter using the set_htap_replication() UDF:"
   ],
   "metadata": {
    "collapsed": false,
    "pycharm": {
     "name": "#%% md\n"
    }
   }
  },
  {
   "cell_type": "code",
   "execution_count": 16,
   "outputs": [],
   "source": [
    "sql_execute(conn,\n",
    "            sql = '''\n",
    "            SELECT set_htap_replication(\n",
    "              'menu_rowstore.[[:word:]]+',\n",
    "              'menu_rowstore',\n",
    "              'menu_cstore');\n",
    "            ;''')"
   ],
   "metadata": {
    "collapsed": false,
    "pycharm": {
     "name": "#%%\n"
    }
   }
  },
  {
   "cell_type": "markdown",
   "source": [
    "#### 2. Create the transactional and analytical databases:"
   ],
   "metadata": {
    "collapsed": false,
    "pycharm": {
     "name": "#%% md\n"
    }
   }
  },
  {
   "cell_type": "code",
   "execution_count": 17,
   "outputs": [],
   "source": [
    "sql_execute(conn,\n",
    "            sql = '''\n",
    "            CREATE DATABASE IF NOT EXISTS menu_rowstore;\n",
    "            CREATE DATABASE IF NOT EXISTS menu_cstore;\n",
    "            ''')"
   ],
   "metadata": {
    "collapsed": false,
    "pycharm": {
     "name": "#%%\n"
    }
   }
  },
  {
   "cell_type": "markdown",
   "source": [
    "#### 3. Create the transactional tables that will be replicated:"
   ],
   "metadata": {
    "collapsed": false,
    "pycharm": {
     "name": "#%% md\n"
    }
   }
  },
  {
   "cell_type": "code",
   "execution_count": null,
   "outputs": [],
   "source": [
    "create_table_main(conn)"
   ],
   "metadata": {
    "collapsed": false,
    "pycharm": {
     "name": "#%%\n"
    }
   }
  },
  {
   "cell_type": "markdown",
   "source": [
    "#### 4. Confirm that the corresponding analytical tables were created:"
   ],
   "metadata": {
    "collapsed": false,
    "pycharm": {
     "name": "#%% md\n"
    }
   }
  },
  {
   "cell_type": "code",
   "execution_count": 20,
   "outputs": [
    {
     "data": {
      "text/plain": "  Tables_in_menu_cstore\n0           combo_facts\n1         food_category\n2             item_info\n3       nutrition_facts\n4            restaurant",
      "text/html": "<div>\n<style scoped>\n    .dataframe tbody tr th:only-of-type {\n        vertical-align: middle;\n    }\n\n    .dataframe tbody tr th {\n        vertical-align: top;\n    }\n\n    .dataframe thead th {\n        text-align: right;\n    }\n</style>\n<table border=\"1\" class=\"dataframe\">\n  <thead>\n    <tr style=\"text-align: right;\">\n      <th></th>\n      <th>Tables_in_menu_cstore</th>\n    </tr>\n  </thead>\n  <tbody>\n    <tr>\n      <th>0</th>\n      <td>combo_facts</td>\n    </tr>\n    <tr>\n      <th>1</th>\n      <td>food_category</td>\n    </tr>\n    <tr>\n      <th>2</th>\n      <td>item_info</td>\n    </tr>\n    <tr>\n      <th>3</th>\n      <td>nutrition_facts</td>\n    </tr>\n    <tr>\n      <th>4</th>\n      <td>restaurant</td>\n    </tr>\n  </tbody>\n</table>\n</div>"
     },
     "metadata": {},
     "output_type": "display_data"
    }
   ],
   "source": [
    "sql_execute_show(conn, '''SHOW TABLES FROM menu_cstore;''')"
   ],
   "metadata": {
    "collapsed": false,
    "pycharm": {
     "name": "#%%\n"
    }
   }
  },
  {
   "cell_type": "markdown",
   "source": [
    "#### 5. The replication initially creates empty menu_rowstore tables,\n",
    "#### which need to be transformed into menu_cstore tables and which need to be populated\n",
    "#### with the initial copy of the data:\n",
    "- First need to drop all the tables created earlier\n",
    "- Recreate tables using the columnstore engine"
   ],
   "metadata": {
    "collapsed": false,
    "pycharm": {
     "name": "#%% md\n"
    }
   }
  },
  {
   "cell_type": "code",
   "execution_count": 10,
   "outputs": [
    {
     "name": "stdout",
     "output_type": "stream",
     "text": [
      "MySQL Connection not available.\n"
     ]
    }
   ],
   "source": [
    "sql_execute(conn,\n",
    "            sql = '''\n",
    "            CREATE TABLE IF NOT EXISTS menu_cstore.restaurant\n",
    "            ENGINE = COLUMNSTORE\n",
    "            SELECT * FROM menu_rowstore.restaurant\n",
    "            ;\n",
    "            CREATE TABLE IF NOT EXISTS menu_cstore.food_category\n",
    "            ENGINE = COLUMNSTORE\n",
    "            SELECT * FROM menu_rowstore.food_category\n",
    "            ;\n",
    "            CREATE TABLE IF NOT EXISTS menu_cstore.item_info\n",
    "            ENGINE = COLUMNSTORE\n",
    "            SELECT * FROM menu_rowstore.item_info\n",
    "            ;\n",
    "            CREATE TABLE IF NOT EXISTS menu_cstore.nutrition_facts\n",
    "            ENGINE = COLUMNSTORE\n",
    "            SELECT * FROM menu_rowstore.nutrition_facts\n",
    "            ;\n",
    "            CREATE TABLE IF NOT EXISTS menu_cstore.combo_facts\n",
    "            ENGINE = COLUMNSTORE\n",
    "            SELECT * FROM menu_rowstore.combo_facts\n",
    "            ;\n",
    "            ''')"
   ],
   "metadata": {
    "collapsed": false,
    "pycharm": {
     "name": "#%%\n"
    }
   }
  },
  {
   "cell_type": "markdown",
   "source": [
    "#### 6. Insert data into the transactional tables that will be replicated:\n",
    "- Imported .sql dump file which was exported from MySQL server to the menu_rowstore database\n",
    "- Using MySQLWorkbench\n"
   ],
   "metadata": {
    "collapsed": false,
    "pycharm": {
     "name": "#%% md\n"
    }
   }
  },
  {
   "cell_type": "markdown",
   "source": [
    "#### 7. Confirm that the data was replicated to the corresponding analytical tables:"
   ],
   "metadata": {
    "collapsed": false,
    "pycharm": {
     "name": "#%% md\n"
    }
   }
  },
  {
   "cell_type": "code",
   "execution_count": 5,
   "outputs": [
    {
     "data": {
      "text/plain": "    r_id                       r_name\n0      0                     7 Eleven\n1      1                   Applebee's\n2      2                       Arby's\n3      3                Auntie Anne's\n4      4  BJ's Restaurant & Brewhouse\n..   ...                          ...\n91    91                  Whataburger\n92    92                 White Castle\n93    93                     Wingstop\n94    94                   Yard House\n95    95                      Zaxby's\n\n[96 rows x 2 columns]",
      "text/html": "<div>\n<style scoped>\n    .dataframe tbody tr th:only-of-type {\n        vertical-align: middle;\n    }\n\n    .dataframe tbody tr th {\n        vertical-align: top;\n    }\n\n    .dataframe thead th {\n        text-align: right;\n    }\n</style>\n<table border=\"1\" class=\"dataframe\">\n  <thead>\n    <tr style=\"text-align: right;\">\n      <th></th>\n      <th>r_id</th>\n      <th>r_name</th>\n    </tr>\n  </thead>\n  <tbody>\n    <tr>\n      <th>0</th>\n      <td>0</td>\n      <td>7 Eleven</td>\n    </tr>\n    <tr>\n      <th>1</th>\n      <td>1</td>\n      <td>Applebee's</td>\n    </tr>\n    <tr>\n      <th>2</th>\n      <td>2</td>\n      <td>Arby's</td>\n    </tr>\n    <tr>\n      <th>3</th>\n      <td>3</td>\n      <td>Auntie Anne's</td>\n    </tr>\n    <tr>\n      <th>4</th>\n      <td>4</td>\n      <td>BJ's Restaurant &amp; Brewhouse</td>\n    </tr>\n    <tr>\n      <th>...</th>\n      <td>...</td>\n      <td>...</td>\n    </tr>\n    <tr>\n      <th>91</th>\n      <td>91</td>\n      <td>Whataburger</td>\n    </tr>\n    <tr>\n      <th>92</th>\n      <td>92</td>\n      <td>White Castle</td>\n    </tr>\n    <tr>\n      <th>93</th>\n      <td>93</td>\n      <td>Wingstop</td>\n    </tr>\n    <tr>\n      <th>94</th>\n      <td>94</td>\n      <td>Yard House</td>\n    </tr>\n    <tr>\n      <th>95</th>\n      <td>95</td>\n      <td>Zaxby's</td>\n    </tr>\n  </tbody>\n</table>\n<p>96 rows × 2 columns</p>\n</div>"
     },
     "metadata": {},
     "output_type": "display_data"
    },
    {
     "data": {
      "text/plain": "    cat_id                cat_name\n0        0      Appetizers & Sides\n1        1             Baked Goods\n2        2               Beverages\n3        3                 Burgers\n4        4                Desserts\n5        5                 Entrees\n6        6          Fried Potatoes\n7        7                   Pizza\n8        8                  Salads\n9        9              Sandwiches\n10      10                    Soup\n11      11  Toppings & Ingredients",
      "text/html": "<div>\n<style scoped>\n    .dataframe tbody tr th:only-of-type {\n        vertical-align: middle;\n    }\n\n    .dataframe tbody tr th {\n        vertical-align: top;\n    }\n\n    .dataframe thead th {\n        text-align: right;\n    }\n</style>\n<table border=\"1\" class=\"dataframe\">\n  <thead>\n    <tr style=\"text-align: right;\">\n      <th></th>\n      <th>cat_id</th>\n      <th>cat_name</th>\n    </tr>\n  </thead>\n  <tbody>\n    <tr>\n      <th>0</th>\n      <td>0</td>\n      <td>Appetizers &amp; Sides</td>\n    </tr>\n    <tr>\n      <th>1</th>\n      <td>1</td>\n      <td>Baked Goods</td>\n    </tr>\n    <tr>\n      <th>2</th>\n      <td>2</td>\n      <td>Beverages</td>\n    </tr>\n    <tr>\n      <th>3</th>\n      <td>3</td>\n      <td>Burgers</td>\n    </tr>\n    <tr>\n      <th>4</th>\n      <td>4</td>\n      <td>Desserts</td>\n    </tr>\n    <tr>\n      <th>5</th>\n      <td>5</td>\n      <td>Entrees</td>\n    </tr>\n    <tr>\n      <th>6</th>\n      <td>6</td>\n      <td>Fried Potatoes</td>\n    </tr>\n    <tr>\n      <th>7</th>\n      <td>7</td>\n      <td>Pizza</td>\n    </tr>\n    <tr>\n      <th>8</th>\n      <td>8</td>\n      <td>Salads</td>\n    </tr>\n    <tr>\n      <th>9</th>\n      <td>9</td>\n      <td>Sandwiches</td>\n    </tr>\n    <tr>\n      <th>10</th>\n      <td>10</td>\n      <td>Soup</td>\n    </tr>\n    <tr>\n      <th>11</th>\n      <td>11</td>\n      <td>Toppings &amp; Ingredients</td>\n    </tr>\n  </tbody>\n</table>\n</div>"
     },
     "metadata": {},
     "output_type": "display_data"
    },
    {
     "data": {
      "text/plain": "   COUNT(year)\n0       209532",
      "text/html": "<div>\n<style scoped>\n    .dataframe tbody tr th:only-of-type {\n        vertical-align: middle;\n    }\n\n    .dataframe tbody tr th {\n        vertical-align: top;\n    }\n\n    .dataframe thead th {\n        text-align: right;\n    }\n</style>\n<table border=\"1\" class=\"dataframe\">\n  <thead>\n    <tr style=\"text-align: right;\">\n      <th></th>\n      <th>COUNT(year)</th>\n    </tr>\n  </thead>\n  <tbody>\n    <tr>\n      <th>0</th>\n      <td>209532</td>\n    </tr>\n  </tbody>\n</table>\n</div>"
     },
     "metadata": {},
     "output_type": "display_data"
    },
    {
     "data": {
      "text/plain": "   COUNT(year)\n0       209532",
      "text/html": "<div>\n<style scoped>\n    .dataframe tbody tr th:only-of-type {\n        vertical-align: middle;\n    }\n\n    .dataframe tbody tr th {\n        vertical-align: top;\n    }\n\n    .dataframe thead th {\n        text-align: right;\n    }\n</style>\n<table border=\"1\" class=\"dataframe\">\n  <thead>\n    <tr style=\"text-align: right;\">\n      <th></th>\n      <th>COUNT(year)</th>\n    </tr>\n  </thead>\n  <tbody>\n    <tr>\n      <th>0</th>\n      <td>209532</td>\n    </tr>\n  </tbody>\n</table>\n</div>"
     },
     "metadata": {},
     "output_type": "display_data"
    },
    {
     "data": {
      "text/plain": "   COUNT(year)\n0       131332",
      "text/html": "<div>\n<style scoped>\n    .dataframe tbody tr th:only-of-type {\n        vertical-align: middle;\n    }\n\n    .dataframe tbody tr th {\n        vertical-align: top;\n    }\n\n    .dataframe thead th {\n        text-align: right;\n    }\n</style>\n<table border=\"1\" class=\"dataframe\">\n  <thead>\n    <tr style=\"text-align: right;\">\n      <th></th>\n      <th>COUNT(year)</th>\n    </tr>\n  </thead>\n  <tbody>\n    <tr>\n      <th>0</th>\n      <td>131332</td>\n    </tr>\n  </tbody>\n</table>\n</div>"
     },
     "metadata": {},
     "output_type": "display_data"
    }
   ],
   "source": [
    "sql_execute_show(conn, sql = '''SELECT * FROM menu_cstore.restaurant;''')\n",
    "sql_execute_show(conn, sql = '''SELECT * FROM menu_cstore.food_category;''')\n",
    "sql_execute_show(conn, sql = '''SELECT COUNT(year) FROM menu_cstore.item_info;''')\n",
    "sql_execute_show(conn, sql = '''SELECT COUNT(year) FROM menu_cstore.nutrition_facts;''')\n",
    "sql_execute_show(conn, sql = '''SELECT COUNT(year) FROM menu_cstore.combo_facts;''')\n"
   ],
   "metadata": {
    "collapsed": false,
    "pycharm": {
     "name": "#%%\n"
    }
   }
  },
  {
   "cell_type": "markdown",
   "source": [
    "## Testing querying with the Column Store"
   ],
   "metadata": {
    "collapsed": false,
    "pycharm": {
     "name": "#%% md\n"
    }
   }
  },
  {
   "cell_type": "code",
   "execution_count": 6,
   "outputs": [
    {
     "data": {
      "text/plain": "   year  AVG(calories)  AVG(total_fat)  AVG(Protein)\n0  2008       477.7172         26.1575       18.9965\n1  2010       369.4070         17.5817       12.5405\n2  2012       439.7074         32.7203       24.1088\n3  2013       370.0542         16.1378       13.4993\n4  2014       375.3779         16.7372       13.4871\n5  2015       407.4768         18.4459       15.2967\n6  2016       378.0453         16.8043       14.0246\n7  2017       374.0719         16.9589       13.9133\n8  2018       386.7493         17.4970       14.7468",
      "text/html": "<div>\n<style scoped>\n    .dataframe tbody tr th:only-of-type {\n        vertical-align: middle;\n    }\n\n    .dataframe tbody tr th {\n        vertical-align: top;\n    }\n\n    .dataframe thead th {\n        text-align: right;\n    }\n</style>\n<table border=\"1\" class=\"dataframe\">\n  <thead>\n    <tr style=\"text-align: right;\">\n      <th></th>\n      <th>year</th>\n      <th>AVG(calories)</th>\n      <th>AVG(total_fat)</th>\n      <th>AVG(Protein)</th>\n    </tr>\n  </thead>\n  <tbody>\n    <tr>\n      <th>0</th>\n      <td>2008</td>\n      <td>477.7172</td>\n      <td>26.1575</td>\n      <td>18.9965</td>\n    </tr>\n    <tr>\n      <th>1</th>\n      <td>2010</td>\n      <td>369.4070</td>\n      <td>17.5817</td>\n      <td>12.5405</td>\n    </tr>\n    <tr>\n      <th>2</th>\n      <td>2012</td>\n      <td>439.7074</td>\n      <td>32.7203</td>\n      <td>24.1088</td>\n    </tr>\n    <tr>\n      <th>3</th>\n      <td>2013</td>\n      <td>370.0542</td>\n      <td>16.1378</td>\n      <td>13.4993</td>\n    </tr>\n    <tr>\n      <th>4</th>\n      <td>2014</td>\n      <td>375.3779</td>\n      <td>16.7372</td>\n      <td>13.4871</td>\n    </tr>\n    <tr>\n      <th>5</th>\n      <td>2015</td>\n      <td>407.4768</td>\n      <td>18.4459</td>\n      <td>15.2967</td>\n    </tr>\n    <tr>\n      <th>6</th>\n      <td>2016</td>\n      <td>378.0453</td>\n      <td>16.8043</td>\n      <td>14.0246</td>\n    </tr>\n    <tr>\n      <th>7</th>\n      <td>2017</td>\n      <td>374.0719</td>\n      <td>16.9589</td>\n      <td>13.9133</td>\n    </tr>\n    <tr>\n      <th>8</th>\n      <td>2018</td>\n      <td>386.7493</td>\n      <td>17.4970</td>\n      <td>14.7468</td>\n    </tr>\n  </tbody>\n</table>\n</div>"
     },
     "metadata": {},
     "output_type": "display_data"
    }
   ],
   "source": [
    "sql_execute_show(conn, sql = '''\n",
    "SELECT year, AVG(calories), AVG(total_fat), AVG(Protein) FROM menu_cstore.nutrition_facts\n",
    "GROUP BY year\n",
    ";\n",
    "''')"
   ],
   "metadata": {
    "collapsed": false,
    "pycharm": {
     "name": "#%%\n"
    }
   }
  },
  {
   "cell_type": "code",
   "execution_count": 28,
   "outputs": [],
   "source": [
    "conn.close()"
   ],
   "metadata": {
    "collapsed": false,
    "pycharm": {
     "name": "#%%\n"
    }
   }
  },
  {
   "cell_type": "markdown",
   "source": [
    "# DataBase setup completed!\n",
    "\n"
   ],
   "metadata": {
    "collapsed": false,
    "pycharm": {
     "name": "#%% md\n"
    }
   }
  }
 ],
 "metadata": {
  "kernelspec": {
   "display_name": "Python 3",
   "language": "python",
   "name": "python3"
  },
  "language_info": {
   "codemirror_mode": {
    "name": "ipython",
    "version": 2
   },
   "file_extension": ".py",
   "mimetype": "text/x-python",
   "name": "python",
   "nbconvert_exporter": "python",
   "pygments_lexer": "ipython2",
   "version": "2.7.6"
  }
 },
 "nbformat": 4,
 "nbformat_minor": 0
}