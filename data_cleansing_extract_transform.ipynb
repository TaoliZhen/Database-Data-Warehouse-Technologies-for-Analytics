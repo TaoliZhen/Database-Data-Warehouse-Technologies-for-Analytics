{
 "cells": [
  {
   "cell_type": "markdown",
   "source": [
    "# Data Extra, and Transform"
   ],
   "metadata": {
    "collapsed": false,
    "pycharm": {
     "name": "#%% md\n"
    }
   }
  },
  {
   "cell_type": "code",
   "execution_count": 5,
   "outputs": [],
   "source": [
    "import pandas as pd\n",
    "import collections\n",
    "import sqlite3\n",
    "import sqlalchemy\n",
    "from IPython.display import display"
   ],
   "metadata": {
    "collapsed": false,
    "pycharm": {
     "name": "#%%\n"
    }
   }
  },
  {
   "cell_type": "markdown",
   "source": [
    "## Use the 2018 dataset as the base case for all other years.\n",
    "\n",
    "- We only need to make a restaurant table and food category table once from the 2018 dataset\n",
    "- For all other years, we only need to make the item_info table, nutrition_facts table, and the combo_facts table"
   ],
   "metadata": {
    "collapsed": false,
    "pycharm": {
     "name": "#%% md\n"
    }
   }
  },
  {
   "cell_type": "code",
   "execution_count": 6,
   "metadata": {
    "collapsed": true
   },
   "outputs": [
    {
     "name": "stderr",
     "output_type": "stream",
     "text": [
      "/Library/Frameworks/Python.framework/Versions/3.9/lib/python3.9/site-packages/IPython/core/interactiveshell.py:3146: DtypeWarning: Columns (9,35,36,37,39,40) have mixed types.Specify dtype option on import or set low_memory=False.\n",
      "  has_raised = await self.run_ast_nodes(code_ast.body, cell_name,\n"
     ]
    }
   ],
   "source": [
    "dat = pd.read_csv('Customizable_Annual_Data/Annual_Data2018.csv')"
   ]
  },
  {
   "cell_type": "markdown",
   "source": [
    "### Restaurant dimension"
   ],
   "metadata": {
    "collapsed": false,
    "pycharm": {
     "name": "#%% md\n"
    }
   }
  },
  {
   "cell_type": "code",
   "execution_count": 7,
   "outputs": [
    {
     "data": {
      "text/plain": "      r_id                       r_name\n2120     0                     7 Eleven\n4        1                   Applebee's\n1153     2                       Arby's\n4345     3                Auntie Anne's\n1817     4  BJ's Restaurant & Brewhouse\n...    ...                          ...\n1155    91                  Whataburger\n1482    92                 White Castle\n1524    93                     Wingstop\n1537    94                   Yard House\n5484    95                      Zaxby's\n\n[96 rows x 2 columns]",
      "text/html": "<div>\n<style scoped>\n    .dataframe tbody tr th:only-of-type {\n        vertical-align: middle;\n    }\n\n    .dataframe tbody tr th {\n        vertical-align: top;\n    }\n\n    .dataframe thead th {\n        text-align: right;\n    }\n</style>\n<table border=\"1\" class=\"dataframe\">\n  <thead>\n    <tr style=\"text-align: right;\">\n      <th></th>\n      <th>r_id</th>\n      <th>r_name</th>\n    </tr>\n  </thead>\n  <tbody>\n    <tr>\n      <th>2120</th>\n      <td>0</td>\n      <td>7 Eleven</td>\n    </tr>\n    <tr>\n      <th>4</th>\n      <td>1</td>\n      <td>Applebee's</td>\n    </tr>\n    <tr>\n      <th>1153</th>\n      <td>2</td>\n      <td>Arby's</td>\n    </tr>\n    <tr>\n      <th>4345</th>\n      <td>3</td>\n      <td>Auntie Anne's</td>\n    </tr>\n    <tr>\n      <th>1817</th>\n      <td>4</td>\n      <td>BJ's Restaurant &amp; Brewhouse</td>\n    </tr>\n    <tr>\n      <th>...</th>\n      <td>...</td>\n      <td>...</td>\n    </tr>\n    <tr>\n      <th>1155</th>\n      <td>91</td>\n      <td>Whataburger</td>\n    </tr>\n    <tr>\n      <th>1482</th>\n      <td>92</td>\n      <td>White Castle</td>\n    </tr>\n    <tr>\n      <th>1524</th>\n      <td>93</td>\n      <td>Wingstop</td>\n    </tr>\n    <tr>\n      <th>1537</th>\n      <td>94</td>\n      <td>Yard House</td>\n    </tr>\n    <tr>\n      <th>5484</th>\n      <td>95</td>\n      <td>Zaxby's</td>\n    </tr>\n  </tbody>\n</table>\n<p>96 rows × 2 columns</p>\n</div>"
     },
     "execution_count": 7,
     "metadata": {},
     "output_type": "execute_result"
    }
   ],
   "source": [
    "dat['r_id'] = dat.groupby(['Restaurant']).ngroup()\n",
    "restaurant = dat[['r_id', 'Restaurant']].drop_duplicates().sort_values(by=['r_id'])\n",
    "restaurant.rename(columns={'Restaurant':'r_name'}, inplace=True)\n",
    "restaurant\n",
    "#restaurant.to_csv('cleaned_tables_by_year/2018/restaurant.csv', index=False)"
   ],
   "metadata": {
    "collapsed": false,
    "pycharm": {
     "name": "#%%\n"
    }
   }
  },
  {
   "cell_type": "markdown",
   "source": [
    "### Food category dimension"
   ],
   "metadata": {
    "collapsed": false,
    "pycharm": {
     "name": "#%% md\n"
    }
   }
  },
  {
   "cell_type": "code",
   "execution_count": 8,
   "outputs": [
    {
     "data": {
      "text/plain": "     cat_id                cat_name\n12        0      Appetizers & Sides\n369       1             Baked Goods\n16        2               Beverages\n130       3                 Burgers\n263       4                Desserts\n0         5                 Entrees\n132       6          Fried Potatoes\n306       7                   Pizza\n32        8                  Salads\n1         9              Sandwiches\n4        10                    Soup\n3        11  Toppings & Ingredients",
      "text/html": "<div>\n<style scoped>\n    .dataframe tbody tr th:only-of-type {\n        vertical-align: middle;\n    }\n\n    .dataframe tbody tr th {\n        vertical-align: top;\n    }\n\n    .dataframe thead th {\n        text-align: right;\n    }\n</style>\n<table border=\"1\" class=\"dataframe\">\n  <thead>\n    <tr style=\"text-align: right;\">\n      <th></th>\n      <th>cat_id</th>\n      <th>cat_name</th>\n    </tr>\n  </thead>\n  <tbody>\n    <tr>\n      <th>12</th>\n      <td>0</td>\n      <td>Appetizers &amp; Sides</td>\n    </tr>\n    <tr>\n      <th>369</th>\n      <td>1</td>\n      <td>Baked Goods</td>\n    </tr>\n    <tr>\n      <th>16</th>\n      <td>2</td>\n      <td>Beverages</td>\n    </tr>\n    <tr>\n      <th>130</th>\n      <td>3</td>\n      <td>Burgers</td>\n    </tr>\n    <tr>\n      <th>263</th>\n      <td>4</td>\n      <td>Desserts</td>\n    </tr>\n    <tr>\n      <th>0</th>\n      <td>5</td>\n      <td>Entrees</td>\n    </tr>\n    <tr>\n      <th>132</th>\n      <td>6</td>\n      <td>Fried Potatoes</td>\n    </tr>\n    <tr>\n      <th>306</th>\n      <td>7</td>\n      <td>Pizza</td>\n    </tr>\n    <tr>\n      <th>32</th>\n      <td>8</td>\n      <td>Salads</td>\n    </tr>\n    <tr>\n      <th>1</th>\n      <td>9</td>\n      <td>Sandwiches</td>\n    </tr>\n    <tr>\n      <th>4</th>\n      <td>10</td>\n      <td>Soup</td>\n    </tr>\n    <tr>\n      <th>3</th>\n      <td>11</td>\n      <td>Toppings &amp; Ingredients</td>\n    </tr>\n  </tbody>\n</table>\n</div>"
     },
     "execution_count": 8,
     "metadata": {},
     "output_type": "execute_result"
    }
   ],
   "source": [
    "dat['cat_id'] = dat.groupby(['Food_Category']).ngroup()\n",
    "food_category = dat[['cat_id', 'Food_Category']].drop_duplicates().sort_values(by=['cat_id'])\n",
    "food_category.rename(columns={'Food_Category':'cat_name'}, inplace=True)\n",
    "food_category\n",
    "#food_category.to_csv('cleaned_tables_by_year/2018/food_category.csv', index=False)\n"
   ],
   "metadata": {
    "collapsed": false,
    "pycharm": {
     "name": "#%%\n"
    }
   }
  },
  {
   "cell_type": "markdown",
   "source": [
    "### Item information dimension"
   ],
   "metadata": {
    "collapsed": false
   }
  },
  {
   "cell_type": "code",
   "execution_count": 9,
   "outputs": [
    {
     "data": {
      "text/plain": "       item_id  year                                          item_name  \\\n0       100054  2018                                       Burrito Bowl   \n1       100057  2018                               Quesadilla Kids Meal   \n2       100060  2018                                            Burrito   \n3       100073  2018                            Flour Tortilla, 12.5 in   \n4        10012  2018                                  French Onion Soup   \n...        ...   ...                                                ...   \n71167    99835  2018  Buffalo Chicken Pizza on Hand Tossed Crust, La...   \n71168    99966  2018                               Tenders Family Meals   \n71169    99968  2018                                3 Cajun Fish Filets   \n71170    99969  2018                              Fish & Popcorn Shrimp   \n71171    99971  2018                                     Seafood Po Boy   \n\n                                        item_description  \n0      Burrito Bowl, Burritos & More, Vegetarian Eats...  \n1      Quesadilla Kids Meal w/ Quesadilla, Applesauce...  \n2      Burrito, Burritos & More, Vegetarian Eats; Cho...  \n3       Flour Tortilla, 12.5 in, Ingredients for Entrees  \n4      French Onion Soup w/ Melted Cheese & Croutons,...  \n...                                                  ...  \n71167  Buffalo Chicken Pizza w/ Buffalo Pizza Sauce, ...  \n71168  Tenders Family Meals w/ Handcrafted Tenders, S...  \n71169  3 Cajun Fish Filets, Seafood, Not Available At...  \n71170   Fish & Popcorn Shrimp w/ Side & Biscuit, Seafood  \n71171  Seafood Po Boy on French Baguette w/ Lettuce, ...  \n\n[30120 rows x 4 columns]",
      "text/html": "<div>\n<style scoped>\n    .dataframe tbody tr th:only-of-type {\n        vertical-align: middle;\n    }\n\n    .dataframe tbody tr th {\n        vertical-align: top;\n    }\n\n    .dataframe thead th {\n        text-align: right;\n    }\n</style>\n<table border=\"1\" class=\"dataframe\">\n  <thead>\n    <tr style=\"text-align: right;\">\n      <th></th>\n      <th>item_id</th>\n      <th>year</th>\n      <th>item_name</th>\n      <th>item_description</th>\n    </tr>\n  </thead>\n  <tbody>\n    <tr>\n      <th>0</th>\n      <td>100054</td>\n      <td>2018</td>\n      <td>Burrito Bowl</td>\n      <td>Burrito Bowl, Burritos &amp; More, Vegetarian Eats...</td>\n    </tr>\n    <tr>\n      <th>1</th>\n      <td>100057</td>\n      <td>2018</td>\n      <td>Quesadilla Kids Meal</td>\n      <td>Quesadilla Kids Meal w/ Quesadilla, Applesauce...</td>\n    </tr>\n    <tr>\n      <th>2</th>\n      <td>100060</td>\n      <td>2018</td>\n      <td>Burrito</td>\n      <td>Burrito, Burritos &amp; More, Vegetarian Eats; Cho...</td>\n    </tr>\n    <tr>\n      <th>3</th>\n      <td>100073</td>\n      <td>2018</td>\n      <td>Flour Tortilla, 12.5 in</td>\n      <td>Flour Tortilla, 12.5 in, Ingredients for Entrees</td>\n    </tr>\n    <tr>\n      <th>4</th>\n      <td>10012</td>\n      <td>2018</td>\n      <td>French Onion Soup</td>\n      <td>French Onion Soup w/ Melted Cheese &amp; Croutons,...</td>\n    </tr>\n    <tr>\n      <th>...</th>\n      <td>...</td>\n      <td>...</td>\n      <td>...</td>\n      <td>...</td>\n    </tr>\n    <tr>\n      <th>71167</th>\n      <td>99835</td>\n      <td>2018</td>\n      <td>Buffalo Chicken Pizza on Hand Tossed Crust, La...</td>\n      <td>Buffalo Chicken Pizza w/ Buffalo Pizza Sauce, ...</td>\n    </tr>\n    <tr>\n      <th>71168</th>\n      <td>99966</td>\n      <td>2018</td>\n      <td>Tenders Family Meals</td>\n      <td>Tenders Family Meals w/ Handcrafted Tenders, S...</td>\n    </tr>\n    <tr>\n      <th>71169</th>\n      <td>99968</td>\n      <td>2018</td>\n      <td>3 Cajun Fish Filets</td>\n      <td>3 Cajun Fish Filets, Seafood, Not Available At...</td>\n    </tr>\n    <tr>\n      <th>71170</th>\n      <td>99969</td>\n      <td>2018</td>\n      <td>Fish &amp; Popcorn Shrimp</td>\n      <td>Fish &amp; Popcorn Shrimp w/ Side &amp; Biscuit, Seafood</td>\n    </tr>\n    <tr>\n      <th>71171</th>\n      <td>99971</td>\n      <td>2018</td>\n      <td>Seafood Po Boy</td>\n      <td>Seafood Po Boy on French Baguette w/ Lettuce, ...</td>\n    </tr>\n  </tbody>\n</table>\n<p>30120 rows × 4 columns</p>\n</div>"
     },
     "execution_count": 9,
     "metadata": {},
     "output_type": "execute_result"
    }
   ],
   "source": [
    "item_info = dat[['Menu_Item_ID', 'Year', 'Item_Name', 'Item_Description']].drop_duplicates()\n",
    "item_info.rename(columns={'Menu_Item_ID':'item_id', 'Year':'year', 'Item_Name':'item_name', 'Item_Description':'item_description'}, inplace=True)\n",
    "#item_info.to_csv('cleaned_tables_by_year/2018/item_info.csv', index=False)\n",
    "item_info"
   ],
   "metadata": {
    "collapsed": false,
    "pycharm": {
     "name": "#%%\n"
    }
   }
  },
  {
   "cell_type": "markdown",
   "source": [
    "### Nutrition fact table"
   ],
   "metadata": {
    "collapsed": false,
    "pycharm": {
     "name": "#%% md\n"
    }
   }
  },
  {
   "cell_type": "code",
   "execution_count": 10,
   "outputs": [
    {
     "data": {
      "text/plain": "       item_id  year  r_id  cat_id  calories  total_fat  saturated_fat  \\\n0       100054  2018    72       5       NaN        NaN            NaN   \n1       100057  2018    72       9       NaN        NaN            NaN   \n2       100060  2018    72       9       NaN        NaN            NaN   \n3       100073  2018    72      11     300.0        7.0            3.0   \n4        10012  2018     1      10     380.0       22.0           13.0   \n...        ...   ...   ...     ...       ...        ...            ...   \n71167    99835  2018    69       7     270.0        8.0            4.0   \n71168    99966  2018    70       5       NaN        NaN            NaN   \n71169    99968  2018    70       5     380.0       19.0            5.0   \n71170    99969  2018    70       5       NaN        NaN            NaN   \n71171    99971  2018    70       9       NaN        NaN            NaN   \n\n       trans_fat  cholesterol  sodium  potassium  carbs  protein  sugar  \\\n0            NaN          NaN     NaN        NaN    NaN      NaN    NaN   \n1            NaN          NaN     NaN        NaN    NaN      NaN    NaN   \n2            NaN          NaN     NaN        NaN    NaN      NaN    NaN   \n3            0.0          0.0   760.0       50.0   52.0      8.0    2.0   \n4            0.0         60.0  1390.0        NaN   27.0     17.0    7.0   \n...          ...          ...     ...        ...    ...      ...    ...   \n71167        0.0         30.0   750.0        NaN   37.0     13.0    1.0   \n71168        NaN          NaN     NaN        NaN    NaN      NaN    NaN   \n71169        0.0         40.0  1650.0        NaN   37.0     16.0    4.0   \n71170        NaN          NaN     NaN        NaN    NaN      NaN    NaN   \n71171        NaN          NaN     NaN        NaN    NaN      NaN    NaN   \n\n       dietary_Fiber  \n0                NaN  \n1                NaN  \n2                NaN  \n3                3.0  \n4                2.0  \n...              ...  \n71167            2.0  \n71168            NaN  \n71169            2.0  \n71170            NaN  \n71171            NaN  \n\n[30120 rows x 15 columns]",
      "text/html": "<div>\n<style scoped>\n    .dataframe tbody tr th:only-of-type {\n        vertical-align: middle;\n    }\n\n    .dataframe tbody tr th {\n        vertical-align: top;\n    }\n\n    .dataframe thead th {\n        text-align: right;\n    }\n</style>\n<table border=\"1\" class=\"dataframe\">\n  <thead>\n    <tr style=\"text-align: right;\">\n      <th></th>\n      <th>item_id</th>\n      <th>year</th>\n      <th>r_id</th>\n      <th>cat_id</th>\n      <th>calories</th>\n      <th>total_fat</th>\n      <th>saturated_fat</th>\n      <th>trans_fat</th>\n      <th>cholesterol</th>\n      <th>sodium</th>\n      <th>potassium</th>\n      <th>carbs</th>\n      <th>protein</th>\n      <th>sugar</th>\n      <th>dietary_Fiber</th>\n    </tr>\n  </thead>\n  <tbody>\n    <tr>\n      <th>0</th>\n      <td>100054</td>\n      <td>2018</td>\n      <td>72</td>\n      <td>5</td>\n      <td>NaN</td>\n      <td>NaN</td>\n      <td>NaN</td>\n      <td>NaN</td>\n      <td>NaN</td>\n      <td>NaN</td>\n      <td>NaN</td>\n      <td>NaN</td>\n      <td>NaN</td>\n      <td>NaN</td>\n      <td>NaN</td>\n    </tr>\n    <tr>\n      <th>1</th>\n      <td>100057</td>\n      <td>2018</td>\n      <td>72</td>\n      <td>9</td>\n      <td>NaN</td>\n      <td>NaN</td>\n      <td>NaN</td>\n      <td>NaN</td>\n      <td>NaN</td>\n      <td>NaN</td>\n      <td>NaN</td>\n      <td>NaN</td>\n      <td>NaN</td>\n      <td>NaN</td>\n      <td>NaN</td>\n    </tr>\n    <tr>\n      <th>2</th>\n      <td>100060</td>\n      <td>2018</td>\n      <td>72</td>\n      <td>9</td>\n      <td>NaN</td>\n      <td>NaN</td>\n      <td>NaN</td>\n      <td>NaN</td>\n      <td>NaN</td>\n      <td>NaN</td>\n      <td>NaN</td>\n      <td>NaN</td>\n      <td>NaN</td>\n      <td>NaN</td>\n      <td>NaN</td>\n    </tr>\n    <tr>\n      <th>3</th>\n      <td>100073</td>\n      <td>2018</td>\n      <td>72</td>\n      <td>11</td>\n      <td>300.0</td>\n      <td>7.0</td>\n      <td>3.0</td>\n      <td>0.0</td>\n      <td>0.0</td>\n      <td>760.0</td>\n      <td>50.0</td>\n      <td>52.0</td>\n      <td>8.0</td>\n      <td>2.0</td>\n      <td>3.0</td>\n    </tr>\n    <tr>\n      <th>4</th>\n      <td>10012</td>\n      <td>2018</td>\n      <td>1</td>\n      <td>10</td>\n      <td>380.0</td>\n      <td>22.0</td>\n      <td>13.0</td>\n      <td>0.0</td>\n      <td>60.0</td>\n      <td>1390.0</td>\n      <td>NaN</td>\n      <td>27.0</td>\n      <td>17.0</td>\n      <td>7.0</td>\n      <td>2.0</td>\n    </tr>\n    <tr>\n      <th>...</th>\n      <td>...</td>\n      <td>...</td>\n      <td>...</td>\n      <td>...</td>\n      <td>...</td>\n      <td>...</td>\n      <td>...</td>\n      <td>...</td>\n      <td>...</td>\n      <td>...</td>\n      <td>...</td>\n      <td>...</td>\n      <td>...</td>\n      <td>...</td>\n      <td>...</td>\n    </tr>\n    <tr>\n      <th>71167</th>\n      <td>99835</td>\n      <td>2018</td>\n      <td>69</td>\n      <td>7</td>\n      <td>270.0</td>\n      <td>8.0</td>\n      <td>4.0</td>\n      <td>0.0</td>\n      <td>30.0</td>\n      <td>750.0</td>\n      <td>NaN</td>\n      <td>37.0</td>\n      <td>13.0</td>\n      <td>1.0</td>\n      <td>2.0</td>\n    </tr>\n    <tr>\n      <th>71168</th>\n      <td>99966</td>\n      <td>2018</td>\n      <td>70</td>\n      <td>5</td>\n      <td>NaN</td>\n      <td>NaN</td>\n      <td>NaN</td>\n      <td>NaN</td>\n      <td>NaN</td>\n      <td>NaN</td>\n      <td>NaN</td>\n      <td>NaN</td>\n      <td>NaN</td>\n      <td>NaN</td>\n      <td>NaN</td>\n    </tr>\n    <tr>\n      <th>71169</th>\n      <td>99968</td>\n      <td>2018</td>\n      <td>70</td>\n      <td>5</td>\n      <td>380.0</td>\n      <td>19.0</td>\n      <td>5.0</td>\n      <td>0.0</td>\n      <td>40.0</td>\n      <td>1650.0</td>\n      <td>NaN</td>\n      <td>37.0</td>\n      <td>16.0</td>\n      <td>4.0</td>\n      <td>2.0</td>\n    </tr>\n    <tr>\n      <th>71170</th>\n      <td>99969</td>\n      <td>2018</td>\n      <td>70</td>\n      <td>5</td>\n      <td>NaN</td>\n      <td>NaN</td>\n      <td>NaN</td>\n      <td>NaN</td>\n      <td>NaN</td>\n      <td>NaN</td>\n      <td>NaN</td>\n      <td>NaN</td>\n      <td>NaN</td>\n      <td>NaN</td>\n      <td>NaN</td>\n    </tr>\n    <tr>\n      <th>71171</th>\n      <td>99971</td>\n      <td>2018</td>\n      <td>70</td>\n      <td>9</td>\n      <td>NaN</td>\n      <td>NaN</td>\n      <td>NaN</td>\n      <td>NaN</td>\n      <td>NaN</td>\n      <td>NaN</td>\n      <td>NaN</td>\n      <td>NaN</td>\n      <td>NaN</td>\n      <td>NaN</td>\n      <td>NaN</td>\n    </tr>\n  </tbody>\n</table>\n<p>30120 rows × 15 columns</p>\n</div>"
     },
     "execution_count": 10,
     "metadata": {},
     "output_type": "execute_result"
    }
   ],
   "source": [
    "# Fact table, nutrition data\n",
    "nutrition_facts = dat[['Menu_Item_ID', 'Year', 'r_id', 'cat_id',\n",
    "                       'Calories', 'Total_Fat', 'Saturated_Fat', 'Trans_Fat', 'Cholesterol',\n",
    "                       'Sodium', 'Potassium',\n",
    "                       'Carbohydrates', 'Protein', 'Sugar', 'Dietary_Fiber']]\n",
    "nutrition_facts.columns = ['item_id', 'year', 'r_id', 'cat_id',\n",
    "                           'calories', 'total_fat', 'saturated_fat', 'trans_fat', 'cholesterol',\n",
    "                           'sodium', 'potassium',\n",
    "                           'carbs', 'protein', 'sugar', 'dietary_Fiber']\n",
    "nutrition_facts = nutrition_facts.drop_duplicates()\n",
    "#nutrition_facts.astype({'calories':'int64', 'total_fat':'int64', 'saturated_fat':'int64', 'trans_fat':'int64',\n",
    "#                        'cholesterol':'int64', 'sodium':'int64', 'potassium':'int64',\n",
    "#                           'carbs':'int64', 'protein':'int64', 'sugar':'int64', 'dietary_Fiber':'int64'})\n",
    "nutrition_facts\n",
    "#nutrition_facts.to_csv('cleaned_tables_by_year/2018/nutrition_facts.csv', index=False)"
   ],
   "metadata": {
    "collapsed": false,
    "pycharm": {
     "name": "#%%\n"
    }
   }
  },
  {
   "cell_type": "markdown",
   "source": [
    "### Combo builds fact table"
   ],
   "metadata": {
    "collapsed": false,
    "pycharm": {
     "name": "#%% md\n"
    }
   }
  },
  {
   "cell_type": "code",
   "execution_count": 7,
   "outputs": [
    {
     "data": {
      "text/plain": "        combo_id  item_id  year             builds  cat_id\n0      704214541   100054  2018          Main Item       5\n1       70814571   100057  2018          Main Item       9\n2      704214551   100060  2018          Main Item       9\n5        2301341    10012  2018  Accompanying Item      10\n6        2331351    10012  2018  Accompanying Item      10\n...          ...      ...   ...                ...     ...\n71146   66913561    99683  2018  Accompanying Item       8\n71147   66913631    99683  2018  Accompanying Item       8\n71148  661513201    99684  2018          Main Item       8\n71152   81818032      997  2018          Main Item       9\n71171  692213732    99971  2018          Main Item       9\n\n[44284 rows x 5 columns]",
      "text/html": "<div>\n<style scoped>\n    .dataframe tbody tr th:only-of-type {\n        vertical-align: middle;\n    }\n\n    .dataframe tbody tr th {\n        vertical-align: top;\n    }\n\n    .dataframe thead th {\n        text-align: right;\n    }\n</style>\n<table border=\"1\" class=\"dataframe\">\n  <thead>\n    <tr style=\"text-align: right;\">\n      <th></th>\n      <th>combo_id</th>\n      <th>item_id</th>\n      <th>year</th>\n      <th>builds</th>\n      <th>cat_id</th>\n    </tr>\n  </thead>\n  <tbody>\n    <tr>\n      <th>0</th>\n      <td>704214541</td>\n      <td>100054</td>\n      <td>2018</td>\n      <td>Main Item</td>\n      <td>5</td>\n    </tr>\n    <tr>\n      <th>1</th>\n      <td>70814571</td>\n      <td>100057</td>\n      <td>2018</td>\n      <td>Main Item</td>\n      <td>9</td>\n    </tr>\n    <tr>\n      <th>2</th>\n      <td>704214551</td>\n      <td>100060</td>\n      <td>2018</td>\n      <td>Main Item</td>\n      <td>9</td>\n    </tr>\n    <tr>\n      <th>5</th>\n      <td>2301341</td>\n      <td>10012</td>\n      <td>2018</td>\n      <td>Accompanying Item</td>\n      <td>10</td>\n    </tr>\n    <tr>\n      <th>6</th>\n      <td>2331351</td>\n      <td>10012</td>\n      <td>2018</td>\n      <td>Accompanying Item</td>\n      <td>10</td>\n    </tr>\n    <tr>\n      <th>...</th>\n      <td>...</td>\n      <td>...</td>\n      <td>...</td>\n      <td>...</td>\n      <td>...</td>\n    </tr>\n    <tr>\n      <th>71146</th>\n      <td>66913561</td>\n      <td>99683</td>\n      <td>2018</td>\n      <td>Accompanying Item</td>\n      <td>8</td>\n    </tr>\n    <tr>\n      <th>71147</th>\n      <td>66913631</td>\n      <td>99683</td>\n      <td>2018</td>\n      <td>Accompanying Item</td>\n      <td>8</td>\n    </tr>\n    <tr>\n      <th>71148</th>\n      <td>661513201</td>\n      <td>99684</td>\n      <td>2018</td>\n      <td>Main Item</td>\n      <td>8</td>\n    </tr>\n    <tr>\n      <th>71152</th>\n      <td>81818032</td>\n      <td>997</td>\n      <td>2018</td>\n      <td>Main Item</td>\n      <td>9</td>\n    </tr>\n    <tr>\n      <th>71171</th>\n      <td>692213732</td>\n      <td>99971</td>\n      <td>2018</td>\n      <td>Main Item</td>\n      <td>9</td>\n    </tr>\n  </tbody>\n</table>\n<p>44284 rows × 5 columns</p>\n</div>"
     },
     "execution_count": 7,
     "metadata": {},
     "output_type": "execute_result"
    }
   ],
   "source": [
    "# Combo builds fact table\n",
    "combo_facts = dat[dat['Customizable_Build_ID'].notna()]\n",
    "combo_facts = combo_facts[['Customizable_Build_ID', 'Menu_Item_ID', 'Year', 'Customizable_Builds', 'cat_id']]\n",
    "combo_facts.columns = ['combo_id', 'item_id', 'year', 'builds', 'cat_id']\n",
    "combo_facts = combo_facts.astype({'combo_id':'int64'})\n",
    "#combo_facts.to_csv('cleaned_tables_by_year/2018/combo_facts.csv', index=False)\n",
    "combo_facts"
   ],
   "metadata": {
    "collapsed": false,
    "pycharm": {
     "name": "#%%\n"
    }
   }
  },
  {
   "cell_type": "code",
   "execution_count": 8,
   "outputs": [],
   "source": [
    "### testing for combo combinations, might be too complicated to implement\n",
    "h = collections.defaultdict(list)\n",
    "combo = combo_facts[combo_facts['combo_id'] == 2331351]\n",
    "key = 1\n",
    "for i in combo['cat_id'].unique():\n",
    "    h[key] = combo[combo['cat_id'] == i]['item_id'].to_list()\n",
    "    key += 1\n",
    "if max(h.keys()) == 5:\n",
    "    combin = [(a, b, c, d, e) for a in h[1] for b in h[2] for c in h[3] for d in h[4] for e in h[5]]\n",
    "    #print(combin)"
   ],
   "metadata": {
    "collapsed": false,
    "pycharm": {
     "name": "#%%\n"
    }
   }
  },
  {
   "cell_type": "markdown",
   "source": [
    "## Testing for 2017 data"
   ],
   "metadata": {
    "collapsed": false,
    "pycharm": {
     "name": "#%% md\n"
    }
   }
  },
  {
   "cell_type": "code",
   "execution_count": 8,
   "outputs": [
    {
     "name": "stderr",
     "output_type": "stream",
     "text": [
      "/Library/Frameworks/Python.framework/Versions/3.9/lib/python3.9/site-packages/IPython/core/interactiveshell.py:3146: DtypeWarning: Columns (9,36,37,40) have mixed types.Specify dtype option on import or set low_memory=False.\n",
      "  has_raised = await self.run_ast_nodes(code_ast.body, cell_name,\n"
     ]
    }
   ],
   "source": [
    "dat2017 = pd.read_csv('Customizable_Annual_Data/Annual_Data2017.csv')\n",
    "\n",
    "# Get restaurant ID\n",
    "dat2017 = pd.merge(dat2017, restaurant, left_on=['Restaurant'], right_on='r_name', how='left')\n",
    "# Get food category ID\n",
    "dat2017 = pd.merge(dat2017, food_category, left_on=['Food_Category'], right_on='cat_name', how='left')\n"
   ],
   "metadata": {
    "collapsed": false,
    "pycharm": {
     "name": "#%%\n"
    }
   }
  },
  {
   "cell_type": "code",
   "execution_count": 10,
   "outputs": [
    {
     "data": {
      "text/plain": "       item_id  year                     item_name  \\\n0       100054  2017                  Burrito Bowl   \n1       100057  2017          Quesadilla Kids Meal   \n2       100060  2017                       Burrito   \n3       100073  2017                Flour Tortilla   \n5       100078  2017                     Kids Meal   \n...        ...   ...                           ...   \n87808    99965  2017                 Seafood Combo   \n87809    99966  2017  Chicken Tenders Family Meals   \n87810    99968  2017                    Cajun Fish   \n87812    99969  2017         Fish & Popcorn Shrimp   \n87813    99971  2017       Seafood Po Boy Sandwich   \n\n                                        item_description  \n0      Burrito Bowl; Choice of 1 Protein: Grilled Ado...  \n1      Quesadilla Kids Meal w/ Quesadilla, Applesauce...  \n2      Burrito; Choice of 1 Protein: Grilled Adobo, T...  \n3       Flour Tortilla, 12.5 in, Ingredients for Entrees  \n5      Kids Meal w/ Entree & Small Fountain Drink; Ch...  \n...                                                  ...  \n87808  Seafood Combo w/ Signature Side, Biscuit & Dri...  \n87809  Chicken Tenders Family Meals, Popeyes Handcraf...  \n87810                                Cajun Fish, Seafood  \n87812                     Fish & Popcorn Shrimp, Seafood  \n87813  Seafood Po Boy Sandwich on French Baguette w/ ...  \n\n[35099 rows x 4 columns]",
      "text/html": "<div>\n<style scoped>\n    .dataframe tbody tr th:only-of-type {\n        vertical-align: middle;\n    }\n\n    .dataframe tbody tr th {\n        vertical-align: top;\n    }\n\n    .dataframe thead th {\n        text-align: right;\n    }\n</style>\n<table border=\"1\" class=\"dataframe\">\n  <thead>\n    <tr style=\"text-align: right;\">\n      <th></th>\n      <th>item_id</th>\n      <th>year</th>\n      <th>item_name</th>\n      <th>item_description</th>\n    </tr>\n  </thead>\n  <tbody>\n    <tr>\n      <th>0</th>\n      <td>100054</td>\n      <td>2017</td>\n      <td>Burrito Bowl</td>\n      <td>Burrito Bowl; Choice of 1 Protein: Grilled Ado...</td>\n    </tr>\n    <tr>\n      <th>1</th>\n      <td>100057</td>\n      <td>2017</td>\n      <td>Quesadilla Kids Meal</td>\n      <td>Quesadilla Kids Meal w/ Quesadilla, Applesauce...</td>\n    </tr>\n    <tr>\n      <th>2</th>\n      <td>100060</td>\n      <td>2017</td>\n      <td>Burrito</td>\n      <td>Burrito; Choice of 1 Protein: Grilled Adobo, T...</td>\n    </tr>\n    <tr>\n      <th>3</th>\n      <td>100073</td>\n      <td>2017</td>\n      <td>Flour Tortilla</td>\n      <td>Flour Tortilla, 12.5 in, Ingredients for Entrees</td>\n    </tr>\n    <tr>\n      <th>5</th>\n      <td>100078</td>\n      <td>2017</td>\n      <td>Kids Meal</td>\n      <td>Kids Meal w/ Entree &amp; Small Fountain Drink; Ch...</td>\n    </tr>\n    <tr>\n      <th>...</th>\n      <td>...</td>\n      <td>...</td>\n      <td>...</td>\n      <td>...</td>\n    </tr>\n    <tr>\n      <th>87808</th>\n      <td>99965</td>\n      <td>2017</td>\n      <td>Seafood Combo</td>\n      <td>Seafood Combo w/ Signature Side, Biscuit &amp; Dri...</td>\n    </tr>\n    <tr>\n      <th>87809</th>\n      <td>99966</td>\n      <td>2017</td>\n      <td>Chicken Tenders Family Meals</td>\n      <td>Chicken Tenders Family Meals, Popeyes Handcraf...</td>\n    </tr>\n    <tr>\n      <th>87810</th>\n      <td>99968</td>\n      <td>2017</td>\n      <td>Cajun Fish</td>\n      <td>Cajun Fish, Seafood</td>\n    </tr>\n    <tr>\n      <th>87812</th>\n      <td>99969</td>\n      <td>2017</td>\n      <td>Fish &amp; Popcorn Shrimp</td>\n      <td>Fish &amp; Popcorn Shrimp, Seafood</td>\n    </tr>\n    <tr>\n      <th>87813</th>\n      <td>99971</td>\n      <td>2017</td>\n      <td>Seafood Po Boy Sandwich</td>\n      <td>Seafood Po Boy Sandwich on French Baguette w/ ...</td>\n    </tr>\n  </tbody>\n</table>\n<p>35099 rows × 4 columns</p>\n</div>"
     },
     "execution_count": 10,
     "metadata": {},
     "output_type": "execute_result"
    }
   ],
   "source": [
    "item_info_2017 = dat2017[['Menu_Item_ID', 'Year', 'Item_Name', 'Item_Description']].drop_duplicates()\n",
    "item_info_2017.rename(columns={'Menu_Item_ID':'item_id', 'Year':'year', 'Item_Name':'item_name', 'Item_Description':'item_description'}, inplace=True)\n",
    "item_info_2017"
   ],
   "metadata": {
    "collapsed": false,
    "pycharm": {
     "name": "#%%\n"
    }
   }
  },
  {
   "cell_type": "code",
   "execution_count": 11,
   "outputs": [
    {
     "data": {
      "text/plain": "       item_id  year  r_id  cat_id  calories  total_fat  saturated_fat  \\\n0       100054  2017    72       5       NaN        NaN            NaN   \n1       100057  2017    72       9       NaN        NaN            NaN   \n2       100060  2017    72       9       NaN        NaN            NaN   \n3       100073  2017    72      11     300.0        7.0            3.0   \n5       100078  2017    73       5       NaN        NaN            NaN   \n...        ...   ...   ...     ...       ...        ...            ...   \n87808    99965  2017    70       5       NaN        NaN            NaN   \n87809    99966  2017    70       5       NaN        NaN            NaN   \n87810    99968  2017    70       5     130.0        2.0            0.0   \n87812    99969  2017    70       5       NaN        NaN            NaN   \n87813    99971  2017    70       9       NaN        NaN            NaN   \n\n       trans_fat  cholesterol  sodium  potassium  carbs  protein  sugar  \\\n0            NaN          NaN     NaN        NaN    NaN      NaN    NaN   \n1            NaN          NaN     NaN        NaN    NaN      NaN    NaN   \n2            NaN          NaN     NaN        NaN    NaN      NaN    NaN   \n3            0.0          0.0   760.0       50.0   52.0      8.0    2.0   \n5            NaN          NaN     NaN        NaN    NaN      NaN    NaN   \n...          ...          ...     ...        ...    ...      ...    ...   \n87808        NaN          NaN     NaN        NaN    NaN      NaN    NaN   \n87809        NaN          NaN     NaN        NaN    NaN      NaN    NaN   \n87810        0.0         15.0   550.0        NaN   12.0      5.0    1.0   \n87812        NaN          NaN     NaN        NaN    NaN      NaN    NaN   \n87813        NaN          NaN     NaN        NaN    NaN      NaN    NaN   \n\n       dietary_Fiber  \n0                NaN  \n1                NaN  \n2                NaN  \n3                3.0  \n5                NaN  \n...              ...  \n87808            NaN  \n87809            NaN  \n87810            1.0  \n87812            NaN  \n87813            NaN  \n\n[35099 rows x 15 columns]",
      "text/html": "<div>\n<style scoped>\n    .dataframe tbody tr th:only-of-type {\n        vertical-align: middle;\n    }\n\n    .dataframe tbody tr th {\n        vertical-align: top;\n    }\n\n    .dataframe thead th {\n        text-align: right;\n    }\n</style>\n<table border=\"1\" class=\"dataframe\">\n  <thead>\n    <tr style=\"text-align: right;\">\n      <th></th>\n      <th>item_id</th>\n      <th>year</th>\n      <th>r_id</th>\n      <th>cat_id</th>\n      <th>calories</th>\n      <th>total_fat</th>\n      <th>saturated_fat</th>\n      <th>trans_fat</th>\n      <th>cholesterol</th>\n      <th>sodium</th>\n      <th>potassium</th>\n      <th>carbs</th>\n      <th>protein</th>\n      <th>sugar</th>\n      <th>dietary_Fiber</th>\n    </tr>\n  </thead>\n  <tbody>\n    <tr>\n      <th>0</th>\n      <td>100054</td>\n      <td>2017</td>\n      <td>72</td>\n      <td>5</td>\n      <td>NaN</td>\n      <td>NaN</td>\n      <td>NaN</td>\n      <td>NaN</td>\n      <td>NaN</td>\n      <td>NaN</td>\n      <td>NaN</td>\n      <td>NaN</td>\n      <td>NaN</td>\n      <td>NaN</td>\n      <td>NaN</td>\n    </tr>\n    <tr>\n      <th>1</th>\n      <td>100057</td>\n      <td>2017</td>\n      <td>72</td>\n      <td>9</td>\n      <td>NaN</td>\n      <td>NaN</td>\n      <td>NaN</td>\n      <td>NaN</td>\n      <td>NaN</td>\n      <td>NaN</td>\n      <td>NaN</td>\n      <td>NaN</td>\n      <td>NaN</td>\n      <td>NaN</td>\n      <td>NaN</td>\n    </tr>\n    <tr>\n      <th>2</th>\n      <td>100060</td>\n      <td>2017</td>\n      <td>72</td>\n      <td>9</td>\n      <td>NaN</td>\n      <td>NaN</td>\n      <td>NaN</td>\n      <td>NaN</td>\n      <td>NaN</td>\n      <td>NaN</td>\n      <td>NaN</td>\n      <td>NaN</td>\n      <td>NaN</td>\n      <td>NaN</td>\n      <td>NaN</td>\n    </tr>\n    <tr>\n      <th>3</th>\n      <td>100073</td>\n      <td>2017</td>\n      <td>72</td>\n      <td>11</td>\n      <td>300.0</td>\n      <td>7.0</td>\n      <td>3.0</td>\n      <td>0.0</td>\n      <td>0.0</td>\n      <td>760.0</td>\n      <td>50.0</td>\n      <td>52.0</td>\n      <td>8.0</td>\n      <td>2.0</td>\n      <td>3.0</td>\n    </tr>\n    <tr>\n      <th>5</th>\n      <td>100078</td>\n      <td>2017</td>\n      <td>73</td>\n      <td>5</td>\n      <td>NaN</td>\n      <td>NaN</td>\n      <td>NaN</td>\n      <td>NaN</td>\n      <td>NaN</td>\n      <td>NaN</td>\n      <td>NaN</td>\n      <td>NaN</td>\n      <td>NaN</td>\n      <td>NaN</td>\n      <td>NaN</td>\n    </tr>\n    <tr>\n      <th>...</th>\n      <td>...</td>\n      <td>...</td>\n      <td>...</td>\n      <td>...</td>\n      <td>...</td>\n      <td>...</td>\n      <td>...</td>\n      <td>...</td>\n      <td>...</td>\n      <td>...</td>\n      <td>...</td>\n      <td>...</td>\n      <td>...</td>\n      <td>...</td>\n      <td>...</td>\n    </tr>\n    <tr>\n      <th>87808</th>\n      <td>99965</td>\n      <td>2017</td>\n      <td>70</td>\n      <td>5</td>\n      <td>NaN</td>\n      <td>NaN</td>\n      <td>NaN</td>\n      <td>NaN</td>\n      <td>NaN</td>\n      <td>NaN</td>\n      <td>NaN</td>\n      <td>NaN</td>\n      <td>NaN</td>\n      <td>NaN</td>\n      <td>NaN</td>\n    </tr>\n    <tr>\n      <th>87809</th>\n      <td>99966</td>\n      <td>2017</td>\n      <td>70</td>\n      <td>5</td>\n      <td>NaN</td>\n      <td>NaN</td>\n      <td>NaN</td>\n      <td>NaN</td>\n      <td>NaN</td>\n      <td>NaN</td>\n      <td>NaN</td>\n      <td>NaN</td>\n      <td>NaN</td>\n      <td>NaN</td>\n      <td>NaN</td>\n    </tr>\n    <tr>\n      <th>87810</th>\n      <td>99968</td>\n      <td>2017</td>\n      <td>70</td>\n      <td>5</td>\n      <td>130.0</td>\n      <td>2.0</td>\n      <td>0.0</td>\n      <td>0.0</td>\n      <td>15.0</td>\n      <td>550.0</td>\n      <td>NaN</td>\n      <td>12.0</td>\n      <td>5.0</td>\n      <td>1.0</td>\n      <td>1.0</td>\n    </tr>\n    <tr>\n      <th>87812</th>\n      <td>99969</td>\n      <td>2017</td>\n      <td>70</td>\n      <td>5</td>\n      <td>NaN</td>\n      <td>NaN</td>\n      <td>NaN</td>\n      <td>NaN</td>\n      <td>NaN</td>\n      <td>NaN</td>\n      <td>NaN</td>\n      <td>NaN</td>\n      <td>NaN</td>\n      <td>NaN</td>\n      <td>NaN</td>\n    </tr>\n    <tr>\n      <th>87813</th>\n      <td>99971</td>\n      <td>2017</td>\n      <td>70</td>\n      <td>9</td>\n      <td>NaN</td>\n      <td>NaN</td>\n      <td>NaN</td>\n      <td>NaN</td>\n      <td>NaN</td>\n      <td>NaN</td>\n      <td>NaN</td>\n      <td>NaN</td>\n      <td>NaN</td>\n      <td>NaN</td>\n      <td>NaN</td>\n    </tr>\n  </tbody>\n</table>\n<p>35099 rows × 15 columns</p>\n</div>"
     },
     "execution_count": 11,
     "metadata": {},
     "output_type": "execute_result"
    }
   ],
   "source": [
    "# Fact table, nutrition data\n",
    "nutrition_facts_2017 = dat2017[['Menu_Item_ID', 'Year', 'r_id', 'cat_id',\n",
    "                       'Calories', 'Total_Fat', 'Saturated_Fat', 'Trans_Fat', 'Cholesterol',\n",
    "                       'Sodium', 'Potassium',\n",
    "                       'Carbohydrates', 'Protein', 'Sugar', 'Dietary_Fiber']]\n",
    "nutrition_facts_2017.columns = ['item_id', 'year', 'r_id', 'cat_id',\n",
    "                           'calories', 'total_fat', 'saturated_fat', 'trans_fat', 'cholesterol',\n",
    "                           'sodium', 'potassium',\n",
    "                           'carbs', 'protein', 'sugar', 'dietary_Fiber']\n",
    "nutrition_facts_2017 = nutrition_facts_2017.drop_duplicates()\n",
    "nutrition_facts_2017"
   ],
   "metadata": {
    "collapsed": false,
    "pycharm": {
     "name": "#%%\n"
    }
   }
  },
  {
   "cell_type": "code",
   "execution_count": 12,
   "outputs": [
    {
     "data": {
      "text/plain": "        combo_id  item_id  year             builds  cat_id\n0      701119011   100054  2017          Main Item       5\n1      702119031   100057  2017          Main Item       9\n2      701119001   100060  2017          Main Item       9\n4      705019061   100073  2017  Accompanying Item      11\n5      712519131   100078  2017          Main Item       5\n...          ...      ...   ...                ...     ...\n87776   81222381      997  2017          Main Item       9\n87807  692818991    99964  2017          Main Item       5\n87808  692718981    99965  2017          Main Item       5\n87809  692818961    99966  2017          Main Item       5\n87811  692718981    99968  2017  Accompanying Item       5\n\n[55639 rows x 5 columns]",
      "text/html": "<div>\n<style scoped>\n    .dataframe tbody tr th:only-of-type {\n        vertical-align: middle;\n    }\n\n    .dataframe tbody tr th {\n        vertical-align: top;\n    }\n\n    .dataframe thead th {\n        text-align: right;\n    }\n</style>\n<table border=\"1\" class=\"dataframe\">\n  <thead>\n    <tr style=\"text-align: right;\">\n      <th></th>\n      <th>combo_id</th>\n      <th>item_id</th>\n      <th>year</th>\n      <th>builds</th>\n      <th>cat_id</th>\n    </tr>\n  </thead>\n  <tbody>\n    <tr>\n      <th>0</th>\n      <td>701119011</td>\n      <td>100054</td>\n      <td>2017</td>\n      <td>Main Item</td>\n      <td>5</td>\n    </tr>\n    <tr>\n      <th>1</th>\n      <td>702119031</td>\n      <td>100057</td>\n      <td>2017</td>\n      <td>Main Item</td>\n      <td>9</td>\n    </tr>\n    <tr>\n      <th>2</th>\n      <td>701119001</td>\n      <td>100060</td>\n      <td>2017</td>\n      <td>Main Item</td>\n      <td>9</td>\n    </tr>\n    <tr>\n      <th>4</th>\n      <td>705019061</td>\n      <td>100073</td>\n      <td>2017</td>\n      <td>Accompanying Item</td>\n      <td>11</td>\n    </tr>\n    <tr>\n      <th>5</th>\n      <td>712519131</td>\n      <td>100078</td>\n      <td>2017</td>\n      <td>Main Item</td>\n      <td>5</td>\n    </tr>\n    <tr>\n      <th>...</th>\n      <td>...</td>\n      <td>...</td>\n      <td>...</td>\n      <td>...</td>\n      <td>...</td>\n    </tr>\n    <tr>\n      <th>87776</th>\n      <td>81222381</td>\n      <td>997</td>\n      <td>2017</td>\n      <td>Main Item</td>\n      <td>9</td>\n    </tr>\n    <tr>\n      <th>87807</th>\n      <td>692818991</td>\n      <td>99964</td>\n      <td>2017</td>\n      <td>Main Item</td>\n      <td>5</td>\n    </tr>\n    <tr>\n      <th>87808</th>\n      <td>692718981</td>\n      <td>99965</td>\n      <td>2017</td>\n      <td>Main Item</td>\n      <td>5</td>\n    </tr>\n    <tr>\n      <th>87809</th>\n      <td>692818961</td>\n      <td>99966</td>\n      <td>2017</td>\n      <td>Main Item</td>\n      <td>5</td>\n    </tr>\n    <tr>\n      <th>87811</th>\n      <td>692718981</td>\n      <td>99968</td>\n      <td>2017</td>\n      <td>Accompanying Item</td>\n      <td>5</td>\n    </tr>\n  </tbody>\n</table>\n<p>55639 rows × 5 columns</p>\n</div>"
     },
     "execution_count": 12,
     "metadata": {},
     "output_type": "execute_result"
    }
   ],
   "source": [
    "# Combo builds fact table\n",
    "combo_facts_2017 = dat2017[dat2017['Customizable_Build_ID'].notna()]\n",
    "combo_facts_2017 = combo_facts_2017[['Customizable_Build_ID', 'Menu_Item_ID', 'Year', 'Customizable_Builds', 'cat_id']]\n",
    "combo_facts_2017.columns = ['combo_id', 'item_id', 'year', 'builds', 'cat_id']\n",
    "combo_facts_2017 = combo_facts_2017.astype({'combo_id':'int64'})\n",
    "combo_facts_2017"
   ],
   "metadata": {
    "collapsed": false,
    "pycharm": {
     "name": "#%%\n"
    }
   }
  },
  {
   "cell_type": "code",
   "execution_count": 13,
   "outputs": [],
   "source": [
    "item_info_2017.to_csv('cleaned_tables_by_year/2017/item_info.csv', index=False)\n",
    "nutrition_facts_2017.to_csv('cleaned_tables_by_year/2017/nutrition_facts.csv', index=False)\n",
    "combo_facts_2017.to_csv('cleaned_tables_by_year/2017/combo_facts.csv', index=False)\n"
   ],
   "metadata": {
    "collapsed": false,
    "pycharm": {
     "name": "#%%\n"
    }
   }
  },
  {
   "cell_type": "markdown",
   "source": [
    "## Use the following function to transform the rest of the datasets"
   ],
   "metadata": {
    "collapsed": false,
    "pycharm": {
     "name": "#%% md\n"
    }
   }
  },
  {
   "cell_type": "code",
   "execution_count": 122,
   "outputs": [],
   "source": [
    "### This function is use to transform data for files other then 2018\n",
    "def transform_data(dat, year):\n",
    "    # Get restaurant ID\n",
    "    dat = pd.merge(dat, restaurant, left_on=['Restaurant'], right_on='r_name', how='left')\n",
    "    # Get food category ID\n",
    "    dat = pd.merge(dat, food_category, left_on=['Food_Category'], right_on='cat_name', how='left')\n",
    "\n",
    "    item_info = dat[['Menu_Item_ID', 'Year', 'Item_Name', 'Item_Description']].drop_duplicates()\n",
    "    item_info.rename(columns={'Menu_Item_ID':'item_id', 'Year':'year', 'Item_Name':'item_name', 'Item_Description':'item_description'}, inplace=True)\n",
    "    display(item_info)\n",
    "\n",
    "    # Check na\n",
    "    print(item_info['item_id'].isnull().sum())\n",
    "    print(item_info['year'].isnull().sum())\n",
    "    print(item_info['item_name'].isnull().sum())\n",
    "\n",
    "    # Fact table, nutrition data\n",
    "    nutrition_facts = dat[['Menu_Item_ID', 'Year', 'r_id', 'cat_id',\n",
    "                           'Calories', 'Total_Fat', 'Saturated_Fat', 'Trans_Fat', 'Cholesterol',\n",
    "                           'Sodium', 'Potassium',\n",
    "                           'Carbohydrates', 'Protein', 'Sugar', 'Dietary_Fiber']]\n",
    "    nutrition_facts.columns = ['item_id', 'year', 'r_id', 'cat_id',\n",
    "                               'calories', 'total_fat', 'saturated_fat', 'trans_fat', 'cholesterol',\n",
    "                               'sodium', 'potassium',\n",
    "                               'carbs', 'protein', 'sugar', 'dietary_Fiber']\n",
    "    nutrition_facts = nutrition_facts.drop_duplicates()\n",
    "    display(nutrition_facts)\n",
    "\n",
    "    # Check na\n",
    "    print(nutrition_facts['item_id'].isnull().sum())\n",
    "    print(nutrition_facts['year'].isnull().sum())\n",
    "    print(nutrition_facts['r_id'].isnull().sum())\n",
    "    print(nutrition_facts['cat_id'].isnull().sum())\n",
    "\n",
    "    # Combo builds fact table\n",
    "    combo_facts = dat[dat['Customizable_Build_ID'].notna()]\n",
    "    combo_facts = combo_facts[['Customizable_Build_ID', 'Menu_Item_ID', 'Year', 'Customizable_Builds', 'cat_id']]\n",
    "    combo_facts.columns = ['combo_id', 'item_id', 'year', 'builds', 'cat_id']\n",
    "    combo_facts = combo_facts.astype({'combo_id':'int64'})\n",
    "    display(combo_facts)\n",
    "\n",
    "    # Check na\n",
    "    print(combo_facts['combo_id'].isnull().sum())\n",
    "    print(combo_facts['item_id'].isnull().sum())\n",
    "    print(combo_facts['year'].isnull().sum())\n",
    "    print(combo_facts['cat_id'].isnull().sum())\n",
    "    print(combo_facts['builds'].isnull().sum())\n",
    "\n",
    "    file_path = 'cleaned_tables_by_year/' + year +'/'\n",
    "    item_info.to_csv(file_path + 'item_info.csv', index=False)\n",
    "    nutrition_facts.to_csv(file_path + 'nutrition_facts.csv', index=False)\n",
    "    combo_facts.to_csv(file_path + 'combo_facts.csv', index=False)\n",
    "\n"
   ],
   "metadata": {
    "collapsed": false,
    "pycharm": {
     "name": "#%%\n"
    }
   }
  },
  {
   "cell_type": "code",
   "execution_count": 123,
   "outputs": [
    {
     "name": "stderr",
     "output_type": "stream",
     "text": [
      "/Library/Frameworks/Python.framework/Versions/3.9/lib/python3.9/site-packages/IPython/core/interactiveshell.py:3146: DtypeWarning: Columns (9,36,37,40) have mixed types.Specify dtype option on import or set low_memory=False.\n",
      "  has_raised = await self.run_ast_nodes(code_ast.body, cell_name,\n"
     ]
    },
    {
     "data": {
      "text/plain": "       item_id  year                     item_name  \\\n0       100054  2017                  Burrito Bowl   \n1       100057  2017          Quesadilla Kids Meal   \n2       100060  2017                       Burrito   \n3       100073  2017                Flour Tortilla   \n5       100078  2017                     Kids Meal   \n...        ...   ...                           ...   \n87808    99965  2017                 Seafood Combo   \n87809    99966  2017  Chicken Tenders Family Meals   \n87810    99968  2017                    Cajun Fish   \n87812    99969  2017         Fish & Popcorn Shrimp   \n87813    99971  2017       Seafood Po Boy Sandwich   \n\n                                        item_description  \n0      Burrito Bowl; Choice of 1 Protein: Grilled Ado...  \n1      Quesadilla Kids Meal w/ Quesadilla, Applesauce...  \n2      Burrito; Choice of 1 Protein: Grilled Adobo, T...  \n3       Flour Tortilla, 12.5 in, Ingredients for Entrees  \n5      Kids Meal w/ Entree & Small Fountain Drink; Ch...  \n...                                                  ...  \n87808  Seafood Combo w/ Signature Side, Biscuit & Dri...  \n87809  Chicken Tenders Family Meals, Popeyes Handcraf...  \n87810                                Cajun Fish, Seafood  \n87812                     Fish & Popcorn Shrimp, Seafood  \n87813  Seafood Po Boy Sandwich on French Baguette w/ ...  \n\n[35099 rows x 4 columns]",
      "text/html": "<div>\n<style scoped>\n    .dataframe tbody tr th:only-of-type {\n        vertical-align: middle;\n    }\n\n    .dataframe tbody tr th {\n        vertical-align: top;\n    }\n\n    .dataframe thead th {\n        text-align: right;\n    }\n</style>\n<table border=\"1\" class=\"dataframe\">\n  <thead>\n    <tr style=\"text-align: right;\">\n      <th></th>\n      <th>item_id</th>\n      <th>year</th>\n      <th>item_name</th>\n      <th>item_description</th>\n    </tr>\n  </thead>\n  <tbody>\n    <tr>\n      <th>0</th>\n      <td>100054</td>\n      <td>2017</td>\n      <td>Burrito Bowl</td>\n      <td>Burrito Bowl; Choice of 1 Protein: Grilled Ado...</td>\n    </tr>\n    <tr>\n      <th>1</th>\n      <td>100057</td>\n      <td>2017</td>\n      <td>Quesadilla Kids Meal</td>\n      <td>Quesadilla Kids Meal w/ Quesadilla, Applesauce...</td>\n    </tr>\n    <tr>\n      <th>2</th>\n      <td>100060</td>\n      <td>2017</td>\n      <td>Burrito</td>\n      <td>Burrito; Choice of 1 Protein: Grilled Adobo, T...</td>\n    </tr>\n    <tr>\n      <th>3</th>\n      <td>100073</td>\n      <td>2017</td>\n      <td>Flour Tortilla</td>\n      <td>Flour Tortilla, 12.5 in, Ingredients for Entrees</td>\n    </tr>\n    <tr>\n      <th>5</th>\n      <td>100078</td>\n      <td>2017</td>\n      <td>Kids Meal</td>\n      <td>Kids Meal w/ Entree &amp; Small Fountain Drink; Ch...</td>\n    </tr>\n    <tr>\n      <th>...</th>\n      <td>...</td>\n      <td>...</td>\n      <td>...</td>\n      <td>...</td>\n    </tr>\n    <tr>\n      <th>87808</th>\n      <td>99965</td>\n      <td>2017</td>\n      <td>Seafood Combo</td>\n      <td>Seafood Combo w/ Signature Side, Biscuit &amp; Dri...</td>\n    </tr>\n    <tr>\n      <th>87809</th>\n      <td>99966</td>\n      <td>2017</td>\n      <td>Chicken Tenders Family Meals</td>\n      <td>Chicken Tenders Family Meals, Popeyes Handcraf...</td>\n    </tr>\n    <tr>\n      <th>87810</th>\n      <td>99968</td>\n      <td>2017</td>\n      <td>Cajun Fish</td>\n      <td>Cajun Fish, Seafood</td>\n    </tr>\n    <tr>\n      <th>87812</th>\n      <td>99969</td>\n      <td>2017</td>\n      <td>Fish &amp; Popcorn Shrimp</td>\n      <td>Fish &amp; Popcorn Shrimp, Seafood</td>\n    </tr>\n    <tr>\n      <th>87813</th>\n      <td>99971</td>\n      <td>2017</td>\n      <td>Seafood Po Boy Sandwich</td>\n      <td>Seafood Po Boy Sandwich on French Baguette w/ ...</td>\n    </tr>\n  </tbody>\n</table>\n<p>35099 rows × 4 columns</p>\n</div>"
     },
     "metadata": {},
     "output_type": "display_data"
    },
    {
     "name": "stdout",
     "output_type": "stream",
     "text": [
      "0\n",
      "0\n",
      "0\n",
      "0\n",
      "0\n",
      "0\n",
      "0\n",
      "0\n",
      "0\n",
      "0\n",
      "0\n",
      "0\n"
     ]
    },
    {
     "data": {
      "text/plain": "       item_id  year  r_id  cat_id  calories  total_fat  saturated_fat  \\\n0       100054  2017    72       5       NaN        NaN            NaN   \n1       100057  2017    72       9       NaN        NaN            NaN   \n2       100060  2017    72       9       NaN        NaN            NaN   \n3       100073  2017    72      11     300.0        7.0            3.0   \n5       100078  2017    73       5       NaN        NaN            NaN   \n...        ...   ...   ...     ...       ...        ...            ...   \n87808    99965  2017    70       5       NaN        NaN            NaN   \n87809    99966  2017    70       5       NaN        NaN            NaN   \n87810    99968  2017    70       5     130.0        2.0            0.0   \n87812    99969  2017    70       5       NaN        NaN            NaN   \n87813    99971  2017    70       9       NaN        NaN            NaN   \n\n       trans_fat  cholesterol  sodium  potassium  carbs  protein  sugar  \\\n0            NaN          NaN     NaN        NaN    NaN      NaN    NaN   \n1            NaN          NaN     NaN        NaN    NaN      NaN    NaN   \n2            NaN          NaN     NaN        NaN    NaN      NaN    NaN   \n3            0.0          0.0   760.0       50.0   52.0      8.0    2.0   \n5            NaN          NaN     NaN        NaN    NaN      NaN    NaN   \n...          ...          ...     ...        ...    ...      ...    ...   \n87808        NaN          NaN     NaN        NaN    NaN      NaN    NaN   \n87809        NaN          NaN     NaN        NaN    NaN      NaN    NaN   \n87810        0.0         15.0   550.0        NaN   12.0      5.0    1.0   \n87812        NaN          NaN     NaN        NaN    NaN      NaN    NaN   \n87813        NaN          NaN     NaN        NaN    NaN      NaN    NaN   \n\n       dietary_Fiber  \n0                NaN  \n1                NaN  \n2                NaN  \n3                3.0  \n5                NaN  \n...              ...  \n87808            NaN  \n87809            NaN  \n87810            1.0  \n87812            NaN  \n87813            NaN  \n\n[35099 rows x 15 columns]",
      "text/html": "<div>\n<style scoped>\n    .dataframe tbody tr th:only-of-type {\n        vertical-align: middle;\n    }\n\n    .dataframe tbody tr th {\n        vertical-align: top;\n    }\n\n    .dataframe thead th {\n        text-align: right;\n    }\n</style>\n<table border=\"1\" class=\"dataframe\">\n  <thead>\n    <tr style=\"text-align: right;\">\n      <th></th>\n      <th>item_id</th>\n      <th>year</th>\n      <th>r_id</th>\n      <th>cat_id</th>\n      <th>calories</th>\n      <th>total_fat</th>\n      <th>saturated_fat</th>\n      <th>trans_fat</th>\n      <th>cholesterol</th>\n      <th>sodium</th>\n      <th>potassium</th>\n      <th>carbs</th>\n      <th>protein</th>\n      <th>sugar</th>\n      <th>dietary_Fiber</th>\n    </tr>\n  </thead>\n  <tbody>\n    <tr>\n      <th>0</th>\n      <td>100054</td>\n      <td>2017</td>\n      <td>72</td>\n      <td>5</td>\n      <td>NaN</td>\n      <td>NaN</td>\n      <td>NaN</td>\n      <td>NaN</td>\n      <td>NaN</td>\n      <td>NaN</td>\n      <td>NaN</td>\n      <td>NaN</td>\n      <td>NaN</td>\n      <td>NaN</td>\n      <td>NaN</td>\n    </tr>\n    <tr>\n      <th>1</th>\n      <td>100057</td>\n      <td>2017</td>\n      <td>72</td>\n      <td>9</td>\n      <td>NaN</td>\n      <td>NaN</td>\n      <td>NaN</td>\n      <td>NaN</td>\n      <td>NaN</td>\n      <td>NaN</td>\n      <td>NaN</td>\n      <td>NaN</td>\n      <td>NaN</td>\n      <td>NaN</td>\n      <td>NaN</td>\n    </tr>\n    <tr>\n      <th>2</th>\n      <td>100060</td>\n      <td>2017</td>\n      <td>72</td>\n      <td>9</td>\n      <td>NaN</td>\n      <td>NaN</td>\n      <td>NaN</td>\n      <td>NaN</td>\n      <td>NaN</td>\n      <td>NaN</td>\n      <td>NaN</td>\n      <td>NaN</td>\n      <td>NaN</td>\n      <td>NaN</td>\n      <td>NaN</td>\n    </tr>\n    <tr>\n      <th>3</th>\n      <td>100073</td>\n      <td>2017</td>\n      <td>72</td>\n      <td>11</td>\n      <td>300.0</td>\n      <td>7.0</td>\n      <td>3.0</td>\n      <td>0.0</td>\n      <td>0.0</td>\n      <td>760.0</td>\n      <td>50.0</td>\n      <td>52.0</td>\n      <td>8.0</td>\n      <td>2.0</td>\n      <td>3.0</td>\n    </tr>\n    <tr>\n      <th>5</th>\n      <td>100078</td>\n      <td>2017</td>\n      <td>73</td>\n      <td>5</td>\n      <td>NaN</td>\n      <td>NaN</td>\n      <td>NaN</td>\n      <td>NaN</td>\n      <td>NaN</td>\n      <td>NaN</td>\n      <td>NaN</td>\n      <td>NaN</td>\n      <td>NaN</td>\n      <td>NaN</td>\n      <td>NaN</td>\n    </tr>\n    <tr>\n      <th>...</th>\n      <td>...</td>\n      <td>...</td>\n      <td>...</td>\n      <td>...</td>\n      <td>...</td>\n      <td>...</td>\n      <td>...</td>\n      <td>...</td>\n      <td>...</td>\n      <td>...</td>\n      <td>...</td>\n      <td>...</td>\n      <td>...</td>\n      <td>...</td>\n      <td>...</td>\n    </tr>\n    <tr>\n      <th>87808</th>\n      <td>99965</td>\n      <td>2017</td>\n      <td>70</td>\n      <td>5</td>\n      <td>NaN</td>\n      <td>NaN</td>\n      <td>NaN</td>\n      <td>NaN</td>\n      <td>NaN</td>\n      <td>NaN</td>\n      <td>NaN</td>\n      <td>NaN</td>\n      <td>NaN</td>\n      <td>NaN</td>\n      <td>NaN</td>\n    </tr>\n    <tr>\n      <th>87809</th>\n      <td>99966</td>\n      <td>2017</td>\n      <td>70</td>\n      <td>5</td>\n      <td>NaN</td>\n      <td>NaN</td>\n      <td>NaN</td>\n      <td>NaN</td>\n      <td>NaN</td>\n      <td>NaN</td>\n      <td>NaN</td>\n      <td>NaN</td>\n      <td>NaN</td>\n      <td>NaN</td>\n      <td>NaN</td>\n    </tr>\n    <tr>\n      <th>87810</th>\n      <td>99968</td>\n      <td>2017</td>\n      <td>70</td>\n      <td>5</td>\n      <td>130.0</td>\n      <td>2.0</td>\n      <td>0.0</td>\n      <td>0.0</td>\n      <td>15.0</td>\n      <td>550.0</td>\n      <td>NaN</td>\n      <td>12.0</td>\n      <td>5.0</td>\n      <td>1.0</td>\n      <td>1.0</td>\n    </tr>\n    <tr>\n      <th>87812</th>\n      <td>99969</td>\n      <td>2017</td>\n      <td>70</td>\n      <td>5</td>\n      <td>NaN</td>\n      <td>NaN</td>\n      <td>NaN</td>\n      <td>NaN</td>\n      <td>NaN</td>\n      <td>NaN</td>\n      <td>NaN</td>\n      <td>NaN</td>\n      <td>NaN</td>\n      <td>NaN</td>\n      <td>NaN</td>\n    </tr>\n    <tr>\n      <th>87813</th>\n      <td>99971</td>\n      <td>2017</td>\n      <td>70</td>\n      <td>9</td>\n      <td>NaN</td>\n      <td>NaN</td>\n      <td>NaN</td>\n      <td>NaN</td>\n      <td>NaN</td>\n      <td>NaN</td>\n      <td>NaN</td>\n      <td>NaN</td>\n      <td>NaN</td>\n      <td>NaN</td>\n      <td>NaN</td>\n    </tr>\n  </tbody>\n</table>\n<p>35099 rows × 15 columns</p>\n</div>"
     },
     "metadata": {},
     "output_type": "display_data"
    },
    {
     "data": {
      "text/plain": "        combo_id  item_id  year             builds  cat_id\n0      701119011   100054  2017          Main Item       5\n1      702119031   100057  2017          Main Item       9\n2      701119001   100060  2017          Main Item       9\n4      705019061   100073  2017  Accompanying Item      11\n5      712519131   100078  2017          Main Item       5\n...          ...      ...   ...                ...     ...\n87776   81222381      997  2017          Main Item       9\n87807  692818991    99964  2017          Main Item       5\n87808  692718981    99965  2017          Main Item       5\n87809  692818961    99966  2017          Main Item       5\n87811  692718981    99968  2017  Accompanying Item       5\n\n[55639 rows x 5 columns]",
      "text/html": "<div>\n<style scoped>\n    .dataframe tbody tr th:only-of-type {\n        vertical-align: middle;\n    }\n\n    .dataframe tbody tr th {\n        vertical-align: top;\n    }\n\n    .dataframe thead th {\n        text-align: right;\n    }\n</style>\n<table border=\"1\" class=\"dataframe\">\n  <thead>\n    <tr style=\"text-align: right;\">\n      <th></th>\n      <th>combo_id</th>\n      <th>item_id</th>\n      <th>year</th>\n      <th>builds</th>\n      <th>cat_id</th>\n    </tr>\n  </thead>\n  <tbody>\n    <tr>\n      <th>0</th>\n      <td>701119011</td>\n      <td>100054</td>\n      <td>2017</td>\n      <td>Main Item</td>\n      <td>5</td>\n    </tr>\n    <tr>\n      <th>1</th>\n      <td>702119031</td>\n      <td>100057</td>\n      <td>2017</td>\n      <td>Main Item</td>\n      <td>9</td>\n    </tr>\n    <tr>\n      <th>2</th>\n      <td>701119001</td>\n      <td>100060</td>\n      <td>2017</td>\n      <td>Main Item</td>\n      <td>9</td>\n    </tr>\n    <tr>\n      <th>4</th>\n      <td>705019061</td>\n      <td>100073</td>\n      <td>2017</td>\n      <td>Accompanying Item</td>\n      <td>11</td>\n    </tr>\n    <tr>\n      <th>5</th>\n      <td>712519131</td>\n      <td>100078</td>\n      <td>2017</td>\n      <td>Main Item</td>\n      <td>5</td>\n    </tr>\n    <tr>\n      <th>...</th>\n      <td>...</td>\n      <td>...</td>\n      <td>...</td>\n      <td>...</td>\n      <td>...</td>\n    </tr>\n    <tr>\n      <th>87776</th>\n      <td>81222381</td>\n      <td>997</td>\n      <td>2017</td>\n      <td>Main Item</td>\n      <td>9</td>\n    </tr>\n    <tr>\n      <th>87807</th>\n      <td>692818991</td>\n      <td>99964</td>\n      <td>2017</td>\n      <td>Main Item</td>\n      <td>5</td>\n    </tr>\n    <tr>\n      <th>87808</th>\n      <td>692718981</td>\n      <td>99965</td>\n      <td>2017</td>\n      <td>Main Item</td>\n      <td>5</td>\n    </tr>\n    <tr>\n      <th>87809</th>\n      <td>692818961</td>\n      <td>99966</td>\n      <td>2017</td>\n      <td>Main Item</td>\n      <td>5</td>\n    </tr>\n    <tr>\n      <th>87811</th>\n      <td>692718981</td>\n      <td>99968</td>\n      <td>2017</td>\n      <td>Accompanying Item</td>\n      <td>5</td>\n    </tr>\n  </tbody>\n</table>\n<p>55639 rows × 5 columns</p>\n</div>"
     },
     "metadata": {},
     "output_type": "display_data"
    }
   ],
   "source": [
    "dat = pd.read_csv('Customizable_Annual_Data/Annual_Data2017.csv')\n",
    "transform_data(dat, year='2017')"
   ],
   "metadata": {
    "collapsed": false,
    "pycharm": {
     "name": "#%%\n"
    }
   }
  },
  {
   "cell_type": "code",
   "execution_count": 131,
   "outputs": [
    {
     "name": "stderr",
     "output_type": "stream",
     "text": [
      "/Library/Frameworks/Python.framework/Versions/3.9/lib/python3.9/site-packages/IPython/core/interactiveshell.py:3146: DtypeWarning: Columns (37,40) have mixed types.Specify dtype option on import or set low_memory=False.\n",
      "  has_raised = await self.run_ast_nodes(code_ast.body, cell_name,\n"
     ]
    },
    {
     "data": {
      "text/plain": "       item_id  year                                          item_name  \\\n0        10004  2016  Tomato Basil Soup, for Pick 'n Pair & Lunch Co...   \n2       100052  2016                      Lil' Chicken Nachos Kids Meal   \n3       100054  2016                                       Burrito Bowl   \n4       100057  2016                       Grilled Quesadilla Kids Meal   \n5       100060  2016                                            Burrito   \n...        ...   ...                                                ...   \n69147    99965  2016                                      Seafood Combo   \n69148    99966  2016                       Chicken Tenders Family Meals   \n69149    99968  2016                                         Cajun Fish   \n69150    99969  2016                              Fish & Popcorn Shrimp   \n69151    99971  2016                           Seafood Po' Boy Sandwich   \n\n                                        item_description  \n0      Tomato Basil Soup, for Pick 'n Pair & Lunch Co...  \n2      Lil' Chicken Nachos Kids Meal w/ Handmade Tort...  \n3                                           Burrito Bowl  \n4      Grilled Quesadilla Kids Meal w/ Flour Tortilla...  \n5                                                Burrito  \n...                                                  ...  \n69147  Seafood Combo w/ Signature Side, Biscuit & Dri...  \n69148  Chicken Tenders Family Meals, Popeyes Handcraf...  \n69149                                Cajun Fish, Seafood  \n69150                     Fish & Popcorn Shrimp, Seafood  \n69151  Seafood Po' Boy Sandwich on French Baguette w/...  \n\n[33916 rows x 4 columns]",
      "text/html": "<div>\n<style scoped>\n    .dataframe tbody tr th:only-of-type {\n        vertical-align: middle;\n    }\n\n    .dataframe tbody tr th {\n        vertical-align: top;\n    }\n\n    .dataframe thead th {\n        text-align: right;\n    }\n</style>\n<table border=\"1\" class=\"dataframe\">\n  <thead>\n    <tr style=\"text-align: right;\">\n      <th></th>\n      <th>item_id</th>\n      <th>year</th>\n      <th>item_name</th>\n      <th>item_description</th>\n    </tr>\n  </thead>\n  <tbody>\n    <tr>\n      <th>0</th>\n      <td>10004</td>\n      <td>2016</td>\n      <td>Tomato Basil Soup, for Pick 'n Pair &amp; Lunch Co...</td>\n      <td>Tomato Basil Soup, for Pick 'n Pair &amp; Lunch Co...</td>\n    </tr>\n    <tr>\n      <th>2</th>\n      <td>100052</td>\n      <td>2016</td>\n      <td>Lil' Chicken Nachos Kids Meal</td>\n      <td>Lil' Chicken Nachos Kids Meal w/ Handmade Tort...</td>\n    </tr>\n    <tr>\n      <th>3</th>\n      <td>100054</td>\n      <td>2016</td>\n      <td>Burrito Bowl</td>\n      <td>Burrito Bowl</td>\n    </tr>\n    <tr>\n      <th>4</th>\n      <td>100057</td>\n      <td>2016</td>\n      <td>Grilled Quesadilla Kids Meal</td>\n      <td>Grilled Quesadilla Kids Meal w/ Flour Tortilla...</td>\n    </tr>\n    <tr>\n      <th>5</th>\n      <td>100060</td>\n      <td>2016</td>\n      <td>Burrito</td>\n      <td>Burrito</td>\n    </tr>\n    <tr>\n      <th>...</th>\n      <td>...</td>\n      <td>...</td>\n      <td>...</td>\n      <td>...</td>\n    </tr>\n    <tr>\n      <th>69147</th>\n      <td>99965</td>\n      <td>2016</td>\n      <td>Seafood Combo</td>\n      <td>Seafood Combo w/ Signature Side, Biscuit &amp; Dri...</td>\n    </tr>\n    <tr>\n      <th>69148</th>\n      <td>99966</td>\n      <td>2016</td>\n      <td>Chicken Tenders Family Meals</td>\n      <td>Chicken Tenders Family Meals, Popeyes Handcraf...</td>\n    </tr>\n    <tr>\n      <th>69149</th>\n      <td>99968</td>\n      <td>2016</td>\n      <td>Cajun Fish</td>\n      <td>Cajun Fish, Seafood</td>\n    </tr>\n    <tr>\n      <th>69150</th>\n      <td>99969</td>\n      <td>2016</td>\n      <td>Fish &amp; Popcorn Shrimp</td>\n      <td>Fish &amp; Popcorn Shrimp, Seafood</td>\n    </tr>\n    <tr>\n      <th>69151</th>\n      <td>99971</td>\n      <td>2016</td>\n      <td>Seafood Po' Boy Sandwich</td>\n      <td>Seafood Po' Boy Sandwich on French Baguette w/...</td>\n    </tr>\n  </tbody>\n</table>\n<p>33916 rows × 4 columns</p>\n</div>"
     },
     "metadata": {},
     "output_type": "display_data"
    },
    {
     "name": "stdout",
     "output_type": "stream",
     "text": [
      "0\n",
      "0\n",
      "0\n",
      "0\n",
      "0\n",
      "0\n",
      "0\n",
      "0\n",
      "0\n",
      "0\n",
      "0\n",
      "0\n"
     ]
    },
    {
     "data": {
      "text/plain": "       item_id  year  r_id  cat_id  calories  total_fat  saturated_fat  \\\n0        10004  2016     1      10     240.0       15.0            7.0   \n2       100052  2016    72       0       NaN        NaN            NaN   \n3       100054  2016    72       5       NaN        NaN            NaN   \n4       100057  2016    72       9       NaN        NaN            NaN   \n5       100060  2016    72       9       NaN        NaN            NaN   \n...        ...   ...   ...     ...       ...        ...            ...   \n69147    99965  2016    70       5       NaN        NaN            NaN   \n69148    99966  2016    70       5       NaN        NaN            NaN   \n69149    99968  2016    70       5       NaN        NaN            NaN   \n69150    99969  2016    70       5       NaN        NaN            NaN   \n69151    99971  2016    70       9       NaN        NaN            NaN   \n\n       trans_fat  cholesterol  sodium  potassium  carbs  protein  sugar  \\\n0            0.0         30.0  1090.0        NaN   20.0      6.0   12.0   \n2            NaN          NaN     NaN        NaN    NaN      NaN    NaN   \n3            NaN          NaN     NaN        NaN    NaN      NaN    NaN   \n4            NaN          NaN     NaN        NaN    NaN      NaN    NaN   \n5            NaN          NaN     NaN        NaN    NaN      NaN    NaN   \n...          ...          ...     ...        ...    ...      ...    ...   \n69147        NaN          NaN     NaN        NaN    NaN      NaN    NaN   \n69148        NaN          NaN     NaN        NaN    NaN      NaN    NaN   \n69149        NaN          NaN     NaN        NaN    NaN      NaN    NaN   \n69150        NaN          NaN     NaN        NaN    NaN      NaN    NaN   \n69151        NaN          NaN     NaN        NaN    NaN      NaN    NaN   \n\n       dietary_Fiber  \n0                3.0  \n2                NaN  \n3                NaN  \n4                NaN  \n5                NaN  \n...              ...  \n69147            NaN  \n69148            NaN  \n69149            NaN  \n69150            NaN  \n69151            NaN  \n\n[33916 rows x 15 columns]",
      "text/html": "<div>\n<style scoped>\n    .dataframe tbody tr th:only-of-type {\n        vertical-align: middle;\n    }\n\n    .dataframe tbody tr th {\n        vertical-align: top;\n    }\n\n    .dataframe thead th {\n        text-align: right;\n    }\n</style>\n<table border=\"1\" class=\"dataframe\">\n  <thead>\n    <tr style=\"text-align: right;\">\n      <th></th>\n      <th>item_id</th>\n      <th>year</th>\n      <th>r_id</th>\n      <th>cat_id</th>\n      <th>calories</th>\n      <th>total_fat</th>\n      <th>saturated_fat</th>\n      <th>trans_fat</th>\n      <th>cholesterol</th>\n      <th>sodium</th>\n      <th>potassium</th>\n      <th>carbs</th>\n      <th>protein</th>\n      <th>sugar</th>\n      <th>dietary_Fiber</th>\n    </tr>\n  </thead>\n  <tbody>\n    <tr>\n      <th>0</th>\n      <td>10004</td>\n      <td>2016</td>\n      <td>1</td>\n      <td>10</td>\n      <td>240.0</td>\n      <td>15.0</td>\n      <td>7.0</td>\n      <td>0.0</td>\n      <td>30.0</td>\n      <td>1090.0</td>\n      <td>NaN</td>\n      <td>20.0</td>\n      <td>6.0</td>\n      <td>12.0</td>\n      <td>3.0</td>\n    </tr>\n    <tr>\n      <th>2</th>\n      <td>100052</td>\n      <td>2016</td>\n      <td>72</td>\n      <td>0</td>\n      <td>NaN</td>\n      <td>NaN</td>\n      <td>NaN</td>\n      <td>NaN</td>\n      <td>NaN</td>\n      <td>NaN</td>\n      <td>NaN</td>\n      <td>NaN</td>\n      <td>NaN</td>\n      <td>NaN</td>\n      <td>NaN</td>\n    </tr>\n    <tr>\n      <th>3</th>\n      <td>100054</td>\n      <td>2016</td>\n      <td>72</td>\n      <td>5</td>\n      <td>NaN</td>\n      <td>NaN</td>\n      <td>NaN</td>\n      <td>NaN</td>\n      <td>NaN</td>\n      <td>NaN</td>\n      <td>NaN</td>\n      <td>NaN</td>\n      <td>NaN</td>\n      <td>NaN</td>\n      <td>NaN</td>\n    </tr>\n    <tr>\n      <th>4</th>\n      <td>100057</td>\n      <td>2016</td>\n      <td>72</td>\n      <td>9</td>\n      <td>NaN</td>\n      <td>NaN</td>\n      <td>NaN</td>\n      <td>NaN</td>\n      <td>NaN</td>\n      <td>NaN</td>\n      <td>NaN</td>\n      <td>NaN</td>\n      <td>NaN</td>\n      <td>NaN</td>\n      <td>NaN</td>\n    </tr>\n    <tr>\n      <th>5</th>\n      <td>100060</td>\n      <td>2016</td>\n      <td>72</td>\n      <td>9</td>\n      <td>NaN</td>\n      <td>NaN</td>\n      <td>NaN</td>\n      <td>NaN</td>\n      <td>NaN</td>\n      <td>NaN</td>\n      <td>NaN</td>\n      <td>NaN</td>\n      <td>NaN</td>\n      <td>NaN</td>\n      <td>NaN</td>\n    </tr>\n    <tr>\n      <th>...</th>\n      <td>...</td>\n      <td>...</td>\n      <td>...</td>\n      <td>...</td>\n      <td>...</td>\n      <td>...</td>\n      <td>...</td>\n      <td>...</td>\n      <td>...</td>\n      <td>...</td>\n      <td>...</td>\n      <td>...</td>\n      <td>...</td>\n      <td>...</td>\n      <td>...</td>\n    </tr>\n    <tr>\n      <th>69147</th>\n      <td>99965</td>\n      <td>2016</td>\n      <td>70</td>\n      <td>5</td>\n      <td>NaN</td>\n      <td>NaN</td>\n      <td>NaN</td>\n      <td>NaN</td>\n      <td>NaN</td>\n      <td>NaN</td>\n      <td>NaN</td>\n      <td>NaN</td>\n      <td>NaN</td>\n      <td>NaN</td>\n      <td>NaN</td>\n    </tr>\n    <tr>\n      <th>69148</th>\n      <td>99966</td>\n      <td>2016</td>\n      <td>70</td>\n      <td>5</td>\n      <td>NaN</td>\n      <td>NaN</td>\n      <td>NaN</td>\n      <td>NaN</td>\n      <td>NaN</td>\n      <td>NaN</td>\n      <td>NaN</td>\n      <td>NaN</td>\n      <td>NaN</td>\n      <td>NaN</td>\n      <td>NaN</td>\n    </tr>\n    <tr>\n      <th>69149</th>\n      <td>99968</td>\n      <td>2016</td>\n      <td>70</td>\n      <td>5</td>\n      <td>NaN</td>\n      <td>NaN</td>\n      <td>NaN</td>\n      <td>NaN</td>\n      <td>NaN</td>\n      <td>NaN</td>\n      <td>NaN</td>\n      <td>NaN</td>\n      <td>NaN</td>\n      <td>NaN</td>\n      <td>NaN</td>\n    </tr>\n    <tr>\n      <th>69150</th>\n      <td>99969</td>\n      <td>2016</td>\n      <td>70</td>\n      <td>5</td>\n      <td>NaN</td>\n      <td>NaN</td>\n      <td>NaN</td>\n      <td>NaN</td>\n      <td>NaN</td>\n      <td>NaN</td>\n      <td>NaN</td>\n      <td>NaN</td>\n      <td>NaN</td>\n      <td>NaN</td>\n      <td>NaN</td>\n    </tr>\n    <tr>\n      <th>69151</th>\n      <td>99971</td>\n      <td>2016</td>\n      <td>70</td>\n      <td>9</td>\n      <td>NaN</td>\n      <td>NaN</td>\n      <td>NaN</td>\n      <td>NaN</td>\n      <td>NaN</td>\n      <td>NaN</td>\n      <td>NaN</td>\n      <td>NaN</td>\n      <td>NaN</td>\n      <td>NaN</td>\n      <td>NaN</td>\n    </tr>\n  </tbody>\n</table>\n<p>33916 rows × 15 columns</p>\n</div>"
     },
     "metadata": {},
     "output_type": "display_data"
    },
    {
     "data": {
      "text/plain": "       combo_id  item_id  year             builds  cat_id\n1       2251061    10004  2016  Accompanying Item      10\n2      70153701   100052  2016          Main Item       0\n3      70343641   100054  2016          Main Item       5\n4      70183731   100057  2016          Main Item       9\n5      70373661   100060  2016          Main Item       9\n...         ...      ...   ...                ...     ...\n69118  81124233      998  2016          Main Item       9\n69146  69433811    99964  2016          Main Item       5\n69147  69393801    99965  2016          Main Item       5\n69148  69433812    99966  2016          Main Item       5\n69152  69403781    99971  2016  Accompanying Item       9\n\n[38251 rows x 5 columns]",
      "text/html": "<div>\n<style scoped>\n    .dataframe tbody tr th:only-of-type {\n        vertical-align: middle;\n    }\n\n    .dataframe tbody tr th {\n        vertical-align: top;\n    }\n\n    .dataframe thead th {\n        text-align: right;\n    }\n</style>\n<table border=\"1\" class=\"dataframe\">\n  <thead>\n    <tr style=\"text-align: right;\">\n      <th></th>\n      <th>combo_id</th>\n      <th>item_id</th>\n      <th>year</th>\n      <th>builds</th>\n      <th>cat_id</th>\n    </tr>\n  </thead>\n  <tbody>\n    <tr>\n      <th>1</th>\n      <td>2251061</td>\n      <td>10004</td>\n      <td>2016</td>\n      <td>Accompanying Item</td>\n      <td>10</td>\n    </tr>\n    <tr>\n      <th>2</th>\n      <td>70153701</td>\n      <td>100052</td>\n      <td>2016</td>\n      <td>Main Item</td>\n      <td>0</td>\n    </tr>\n    <tr>\n      <th>3</th>\n      <td>70343641</td>\n      <td>100054</td>\n      <td>2016</td>\n      <td>Main Item</td>\n      <td>5</td>\n    </tr>\n    <tr>\n      <th>4</th>\n      <td>70183731</td>\n      <td>100057</td>\n      <td>2016</td>\n      <td>Main Item</td>\n      <td>9</td>\n    </tr>\n    <tr>\n      <th>5</th>\n      <td>70373661</td>\n      <td>100060</td>\n      <td>2016</td>\n      <td>Main Item</td>\n      <td>9</td>\n    </tr>\n    <tr>\n      <th>...</th>\n      <td>...</td>\n      <td>...</td>\n      <td>...</td>\n      <td>...</td>\n      <td>...</td>\n    </tr>\n    <tr>\n      <th>69118</th>\n      <td>81124233</td>\n      <td>998</td>\n      <td>2016</td>\n      <td>Main Item</td>\n      <td>9</td>\n    </tr>\n    <tr>\n      <th>69146</th>\n      <td>69433811</td>\n      <td>99964</td>\n      <td>2016</td>\n      <td>Main Item</td>\n      <td>5</td>\n    </tr>\n    <tr>\n      <th>69147</th>\n      <td>69393801</td>\n      <td>99965</td>\n      <td>2016</td>\n      <td>Main Item</td>\n      <td>5</td>\n    </tr>\n    <tr>\n      <th>69148</th>\n      <td>69433812</td>\n      <td>99966</td>\n      <td>2016</td>\n      <td>Main Item</td>\n      <td>5</td>\n    </tr>\n    <tr>\n      <th>69152</th>\n      <td>69403781</td>\n      <td>99971</td>\n      <td>2016</td>\n      <td>Accompanying Item</td>\n      <td>9</td>\n    </tr>\n  </tbody>\n</table>\n<p>38251 rows × 5 columns</p>\n</div>"
     },
     "metadata": {},
     "output_type": "display_data"
    }
   ],
   "source": [
    "dat = pd.read_csv('Customizable_Annual_Data/Annual_Data2016.csv')\n",
    "transform_data(dat, year='2016')"
   ],
   "metadata": {
    "collapsed": false,
    "pycharm": {
     "name": "#%%\n"
    }
   }
  },
  {
   "cell_type": "code",
   "execution_count": 132,
   "outputs": [
    {
     "data": {
      "text/plain": "       item_id  year                               item_name  \\\n0        10001  2015                      Toasted Breadstick   \n1        10002  2015        Toasted Garlic Breadstick Basket   \n27       10004  2015  Tomato Basil Soup, Lunch-Sized Portion   \n29      100052  2015           Lil' Chicken Nachos Kids Meal   \n30      100053  2015                   Craft 2 Naked Burrito   \n...        ...   ...                                     ...   \n61103    99967  2015                   1/4 LB Popcorn Shrimp   \n61105    99968  2015                              Cajun Fish   \n61107    99969  2015                   Fish & Popcorn Shrimp   \n61109    99970  2015                Premium Butterfly Shrimp   \n61111    99971  2015                Seafood Po' Boy Sandwich   \n\n                                        item_description  \n0      Toasted Breadstick, Lunch-Sized Portion, Lunch...  \n1      Toasted Garlic Breadstick Basket, Soups, Salad...  \n27     Tomato Basil Soup, Lunch-Sized Portion, Lunch ...  \n29     Lil' Chicken Nachos Kids Meal w/ Handmade Tort...  \n30     Craft 2 Naked Burrito; Choice of: Rice, Beans,...  \n...                                                  ...  \n61103                     1/4 LB Popcorn Shrimp, Seafood  \n61105                                Cajun Fish, Seafood  \n61107                     Fish & Popcorn Shrimp, Seafood  \n61109                  Premium Butterfly Shrimp, Seafood  \n61111  Seafood Po' Boy Sandwich on French Baguette w/...  \n\n[28666 rows x 4 columns]",
      "text/html": "<div>\n<style scoped>\n    .dataframe tbody tr th:only-of-type {\n        vertical-align: middle;\n    }\n\n    .dataframe tbody tr th {\n        vertical-align: top;\n    }\n\n    .dataframe thead th {\n        text-align: right;\n    }\n</style>\n<table border=\"1\" class=\"dataframe\">\n  <thead>\n    <tr style=\"text-align: right;\">\n      <th></th>\n      <th>item_id</th>\n      <th>year</th>\n      <th>item_name</th>\n      <th>item_description</th>\n    </tr>\n  </thead>\n  <tbody>\n    <tr>\n      <th>0</th>\n      <td>10001</td>\n      <td>2015</td>\n      <td>Toasted Breadstick</td>\n      <td>Toasted Breadstick, Lunch-Sized Portion, Lunch...</td>\n    </tr>\n    <tr>\n      <th>1</th>\n      <td>10002</td>\n      <td>2015</td>\n      <td>Toasted Garlic Breadstick Basket</td>\n      <td>Toasted Garlic Breadstick Basket, Soups, Salad...</td>\n    </tr>\n    <tr>\n      <th>27</th>\n      <td>10004</td>\n      <td>2015</td>\n      <td>Tomato Basil Soup, Lunch-Sized Portion</td>\n      <td>Tomato Basil Soup, Lunch-Sized Portion, Lunch ...</td>\n    </tr>\n    <tr>\n      <th>29</th>\n      <td>100052</td>\n      <td>2015</td>\n      <td>Lil' Chicken Nachos Kids Meal</td>\n      <td>Lil' Chicken Nachos Kids Meal w/ Handmade Tort...</td>\n    </tr>\n    <tr>\n      <th>30</th>\n      <td>100053</td>\n      <td>2015</td>\n      <td>Craft 2 Naked Burrito</td>\n      <td>Craft 2 Naked Burrito; Choice of: Rice, Beans,...</td>\n    </tr>\n    <tr>\n      <th>...</th>\n      <td>...</td>\n      <td>...</td>\n      <td>...</td>\n      <td>...</td>\n    </tr>\n    <tr>\n      <th>61103</th>\n      <td>99967</td>\n      <td>2015</td>\n      <td>1/4 LB Popcorn Shrimp</td>\n      <td>1/4 LB Popcorn Shrimp, Seafood</td>\n    </tr>\n    <tr>\n      <th>61105</th>\n      <td>99968</td>\n      <td>2015</td>\n      <td>Cajun Fish</td>\n      <td>Cajun Fish, Seafood</td>\n    </tr>\n    <tr>\n      <th>61107</th>\n      <td>99969</td>\n      <td>2015</td>\n      <td>Fish &amp; Popcorn Shrimp</td>\n      <td>Fish &amp; Popcorn Shrimp, Seafood</td>\n    </tr>\n    <tr>\n      <th>61109</th>\n      <td>99970</td>\n      <td>2015</td>\n      <td>Premium Butterfly Shrimp</td>\n      <td>Premium Butterfly Shrimp, Seafood</td>\n    </tr>\n    <tr>\n      <th>61111</th>\n      <td>99971</td>\n      <td>2015</td>\n      <td>Seafood Po' Boy Sandwich</td>\n      <td>Seafood Po' Boy Sandwich on French Baguette w/...</td>\n    </tr>\n  </tbody>\n</table>\n<p>28666 rows × 4 columns</p>\n</div>"
     },
     "metadata": {},
     "output_type": "display_data"
    },
    {
     "name": "stdout",
     "output_type": "stream",
     "text": [
      "0\n",
      "0\n",
      "0\n",
      "0\n",
      "0\n",
      "0\n",
      "0\n",
      "0\n",
      "0\n",
      "0\n",
      "0\n",
      "0\n"
     ]
    },
    {
     "data": {
      "text/plain": "       item_id  year  r_id  cat_id  calories  total_fat  saturated_fat  \\\n0        10001  2015     1       1     130.0        4.0            1.0   \n1        10002  2015     1       1     500.0       15.0            3.5   \n27       10004  2015     1      10     240.0       15.0            7.0   \n29      100052  2015    72       0       NaN        NaN            NaN   \n30      100053  2015    72       5       NaN        NaN            NaN   \n...        ...   ...   ...     ...       ...        ...            ...   \n61103    99967  2015    70       5       NaN        NaN            NaN   \n61105    99968  2015    70       5       NaN        NaN            NaN   \n61107    99969  2015    70       5       NaN        NaN            NaN   \n61109    99970  2015    70       5       NaN        NaN            NaN   \n61111    99971  2015    70       9       NaN        NaN            NaN   \n\n       trans_fat  cholesterol  sodium  potassium  carbs  protein  sugar  \\\n0            0.0          0.0   200.0        NaN   19.0      4.0    3.0   \n1            0.0         10.0   820.0        NaN   77.0     16.0   11.0   \n27           0.0         30.0  1090.0        NaN   20.0      6.0   12.0   \n29           NaN          NaN     NaN        NaN    NaN      NaN    NaN   \n30           NaN          NaN     NaN        NaN    NaN      NaN    NaN   \n...          ...          ...     ...        ...    ...      ...    ...   \n61103        NaN          NaN     NaN        NaN    NaN      NaN    NaN   \n61105        NaN          NaN     NaN        NaN    NaN      NaN    NaN   \n61107        NaN          NaN     NaN        NaN    NaN      NaN    NaN   \n61109        NaN          NaN     NaN        NaN    NaN      NaN    NaN   \n61111        NaN          NaN     NaN        NaN    NaN      NaN    NaN   \n\n       dietary_Fiber  \n0                1.0  \n1                3.0  \n27               3.0  \n29               NaN  \n30               NaN  \n...              ...  \n61103            NaN  \n61105            NaN  \n61107            NaN  \n61109            NaN  \n61111            NaN  \n\n[28666 rows x 15 columns]",
      "text/html": "<div>\n<style scoped>\n    .dataframe tbody tr th:only-of-type {\n        vertical-align: middle;\n    }\n\n    .dataframe tbody tr th {\n        vertical-align: top;\n    }\n\n    .dataframe thead th {\n        text-align: right;\n    }\n</style>\n<table border=\"1\" class=\"dataframe\">\n  <thead>\n    <tr style=\"text-align: right;\">\n      <th></th>\n      <th>item_id</th>\n      <th>year</th>\n      <th>r_id</th>\n      <th>cat_id</th>\n      <th>calories</th>\n      <th>total_fat</th>\n      <th>saturated_fat</th>\n      <th>trans_fat</th>\n      <th>cholesterol</th>\n      <th>sodium</th>\n      <th>potassium</th>\n      <th>carbs</th>\n      <th>protein</th>\n      <th>sugar</th>\n      <th>dietary_Fiber</th>\n    </tr>\n  </thead>\n  <tbody>\n    <tr>\n      <th>0</th>\n      <td>10001</td>\n      <td>2015</td>\n      <td>1</td>\n      <td>1</td>\n      <td>130.0</td>\n      <td>4.0</td>\n      <td>1.0</td>\n      <td>0.0</td>\n      <td>0.0</td>\n      <td>200.0</td>\n      <td>NaN</td>\n      <td>19.0</td>\n      <td>4.0</td>\n      <td>3.0</td>\n      <td>1.0</td>\n    </tr>\n    <tr>\n      <th>1</th>\n      <td>10002</td>\n      <td>2015</td>\n      <td>1</td>\n      <td>1</td>\n      <td>500.0</td>\n      <td>15.0</td>\n      <td>3.5</td>\n      <td>0.0</td>\n      <td>10.0</td>\n      <td>820.0</td>\n      <td>NaN</td>\n      <td>77.0</td>\n      <td>16.0</td>\n      <td>11.0</td>\n      <td>3.0</td>\n    </tr>\n    <tr>\n      <th>27</th>\n      <td>10004</td>\n      <td>2015</td>\n      <td>1</td>\n      <td>10</td>\n      <td>240.0</td>\n      <td>15.0</td>\n      <td>7.0</td>\n      <td>0.0</td>\n      <td>30.0</td>\n      <td>1090.0</td>\n      <td>NaN</td>\n      <td>20.0</td>\n      <td>6.0</td>\n      <td>12.0</td>\n      <td>3.0</td>\n    </tr>\n    <tr>\n      <th>29</th>\n      <td>100052</td>\n      <td>2015</td>\n      <td>72</td>\n      <td>0</td>\n      <td>NaN</td>\n      <td>NaN</td>\n      <td>NaN</td>\n      <td>NaN</td>\n      <td>NaN</td>\n      <td>NaN</td>\n      <td>NaN</td>\n      <td>NaN</td>\n      <td>NaN</td>\n      <td>NaN</td>\n      <td>NaN</td>\n    </tr>\n    <tr>\n      <th>30</th>\n      <td>100053</td>\n      <td>2015</td>\n      <td>72</td>\n      <td>5</td>\n      <td>NaN</td>\n      <td>NaN</td>\n      <td>NaN</td>\n      <td>NaN</td>\n      <td>NaN</td>\n      <td>NaN</td>\n      <td>NaN</td>\n      <td>NaN</td>\n      <td>NaN</td>\n      <td>NaN</td>\n      <td>NaN</td>\n    </tr>\n    <tr>\n      <th>...</th>\n      <td>...</td>\n      <td>...</td>\n      <td>...</td>\n      <td>...</td>\n      <td>...</td>\n      <td>...</td>\n      <td>...</td>\n      <td>...</td>\n      <td>...</td>\n      <td>...</td>\n      <td>...</td>\n      <td>...</td>\n      <td>...</td>\n      <td>...</td>\n      <td>...</td>\n    </tr>\n    <tr>\n      <th>61103</th>\n      <td>99967</td>\n      <td>2015</td>\n      <td>70</td>\n      <td>5</td>\n      <td>NaN</td>\n      <td>NaN</td>\n      <td>NaN</td>\n      <td>NaN</td>\n      <td>NaN</td>\n      <td>NaN</td>\n      <td>NaN</td>\n      <td>NaN</td>\n      <td>NaN</td>\n      <td>NaN</td>\n      <td>NaN</td>\n    </tr>\n    <tr>\n      <th>61105</th>\n      <td>99968</td>\n      <td>2015</td>\n      <td>70</td>\n      <td>5</td>\n      <td>NaN</td>\n      <td>NaN</td>\n      <td>NaN</td>\n      <td>NaN</td>\n      <td>NaN</td>\n      <td>NaN</td>\n      <td>NaN</td>\n      <td>NaN</td>\n      <td>NaN</td>\n      <td>NaN</td>\n      <td>NaN</td>\n    </tr>\n    <tr>\n      <th>61107</th>\n      <td>99969</td>\n      <td>2015</td>\n      <td>70</td>\n      <td>5</td>\n      <td>NaN</td>\n      <td>NaN</td>\n      <td>NaN</td>\n      <td>NaN</td>\n      <td>NaN</td>\n      <td>NaN</td>\n      <td>NaN</td>\n      <td>NaN</td>\n      <td>NaN</td>\n      <td>NaN</td>\n      <td>NaN</td>\n    </tr>\n    <tr>\n      <th>61109</th>\n      <td>99970</td>\n      <td>2015</td>\n      <td>70</td>\n      <td>5</td>\n      <td>NaN</td>\n      <td>NaN</td>\n      <td>NaN</td>\n      <td>NaN</td>\n      <td>NaN</td>\n      <td>NaN</td>\n      <td>NaN</td>\n      <td>NaN</td>\n      <td>NaN</td>\n      <td>NaN</td>\n      <td>NaN</td>\n    </tr>\n    <tr>\n      <th>61111</th>\n      <td>99971</td>\n      <td>2015</td>\n      <td>70</td>\n      <td>9</td>\n      <td>NaN</td>\n      <td>NaN</td>\n      <td>NaN</td>\n      <td>NaN</td>\n      <td>NaN</td>\n      <td>NaN</td>\n      <td>NaN</td>\n      <td>NaN</td>\n      <td>NaN</td>\n      <td>NaN</td>\n      <td>NaN</td>\n    </tr>\n  </tbody>\n</table>\n<p>28666 rows × 15 columns</p>\n</div>"
     },
     "metadata": {},
     "output_type": "display_data"
    },
    {
     "data": {
      "text/plain": "         combo_id  item_id  year             builds  cat_id\n2        10331121    10002  2015  Accompanying Item       1\n3       103361131    10002  2015  Accompanying Item       1\n4      1033611310    10002  2015  Accompanying Item       1\n5      1033611311    10002  2015  Accompanying Item       1\n6      1033611312    10002  2015  Accompanying Item       1\n...           ...      ...   ...                ...     ...\n61102  2131711187    99966  2015          Main Item       5\n61104  2131711186    99967  2015  Accompanying Item       5\n61106  2131711186    99968  2015  Accompanying Item       5\n61108  2131711186    99969  2015  Accompanying Item       5\n61110  2131711186    99970  2015  Accompanying Item       5\n\n[35452 rows x 5 columns]",
      "text/html": "<div>\n<style scoped>\n    .dataframe tbody tr th:only-of-type {\n        vertical-align: middle;\n    }\n\n    .dataframe tbody tr th {\n        vertical-align: top;\n    }\n\n    .dataframe thead th {\n        text-align: right;\n    }\n</style>\n<table border=\"1\" class=\"dataframe\">\n  <thead>\n    <tr style=\"text-align: right;\">\n      <th></th>\n      <th>combo_id</th>\n      <th>item_id</th>\n      <th>year</th>\n      <th>builds</th>\n      <th>cat_id</th>\n    </tr>\n  </thead>\n  <tbody>\n    <tr>\n      <th>2</th>\n      <td>10331121</td>\n      <td>10002</td>\n      <td>2015</td>\n      <td>Accompanying Item</td>\n      <td>1</td>\n    </tr>\n    <tr>\n      <th>3</th>\n      <td>103361131</td>\n      <td>10002</td>\n      <td>2015</td>\n      <td>Accompanying Item</td>\n      <td>1</td>\n    </tr>\n    <tr>\n      <th>4</th>\n      <td>1033611310</td>\n      <td>10002</td>\n      <td>2015</td>\n      <td>Accompanying Item</td>\n      <td>1</td>\n    </tr>\n    <tr>\n      <th>5</th>\n      <td>1033611311</td>\n      <td>10002</td>\n      <td>2015</td>\n      <td>Accompanying Item</td>\n      <td>1</td>\n    </tr>\n    <tr>\n      <th>6</th>\n      <td>1033611312</td>\n      <td>10002</td>\n      <td>2015</td>\n      <td>Accompanying Item</td>\n      <td>1</td>\n    </tr>\n    <tr>\n      <th>...</th>\n      <td>...</td>\n      <td>...</td>\n      <td>...</td>\n      <td>...</td>\n      <td>...</td>\n    </tr>\n    <tr>\n      <th>61102</th>\n      <td>2131711187</td>\n      <td>99966</td>\n      <td>2015</td>\n      <td>Main Item</td>\n      <td>5</td>\n    </tr>\n    <tr>\n      <th>61104</th>\n      <td>2131711186</td>\n      <td>99967</td>\n      <td>2015</td>\n      <td>Accompanying Item</td>\n      <td>5</td>\n    </tr>\n    <tr>\n      <th>61106</th>\n      <td>2131711186</td>\n      <td>99968</td>\n      <td>2015</td>\n      <td>Accompanying Item</td>\n      <td>5</td>\n    </tr>\n    <tr>\n      <th>61108</th>\n      <td>2131711186</td>\n      <td>99969</td>\n      <td>2015</td>\n      <td>Accompanying Item</td>\n      <td>5</td>\n    </tr>\n    <tr>\n      <th>61110</th>\n      <td>2131711186</td>\n      <td>99970</td>\n      <td>2015</td>\n      <td>Accompanying Item</td>\n      <td>5</td>\n    </tr>\n  </tbody>\n</table>\n<p>35452 rows × 5 columns</p>\n</div>"
     },
     "metadata": {},
     "output_type": "display_data"
    }
   ],
   "source": [
    "dat = pd.read_csv('Customizable_Annual_Data/Annual_Data2015.csv')\n",
    "transform_data(dat, year='2015')"
   ],
   "metadata": {
    "collapsed": false,
    "pycharm": {
     "name": "#%%\n"
    }
   }
  },
  {
   "cell_type": "code",
   "execution_count": 133,
   "outputs": [
    {
     "name": "stderr",
     "output_type": "stream",
     "text": [
      "/Library/Frameworks/Python.framework/Versions/3.9/lib/python3.9/site-packages/IPython/core/interactiveshell.py:3146: DtypeWarning: Columns (34,35,36,37,38,39,42) have mixed types.Specify dtype option on import or set low_memory=False.\n",
      "  has_raised = await self.run_ast_nodes(code_ast.body, cell_name,\n"
     ]
    },
    {
     "data": {
      "text/plain": "       item_id  year                                     item_name  \\\n0        10001  2014                                    Breadstick   \n1        10002  2014                   Toasted Garlic Bread Basket   \n2        10004  2014               Tomato Basil Soup, Lunch Combos   \n3        10005  2014                           Chili, Lunch Combos   \n4        10006  2014               Baked Potato Soup, Lunch Combos   \n...        ...   ...                                           ...   \n53304      989  2014                  Breakfast Toaster w/ Sausage   \n53305      995  2014  Sausage & Cheddar Classic Breakfast Sandwich   \n53306      996  2014                     Bagel Sandwich w/ Sausage   \n53307      997  2014                       Bagel Sandwich w/ Bacon   \n53308      998  2014                 Bagel Sandwich w/ Steakburger   \n\n                                        item_description  \n0                               Breadstick, Lunch Combos  \n1                    Toasted Garlic Bread Basket, Extras  \n2                        Tomato Basil Soup, Lunch Combos  \n3                                    Chili, Lunch Combos  \n4                        Baked Potato Soup, Lunch Combos  \n...                                                  ...  \n53304  Breakfast Toaster w/ Melty Cheese, Savory Saus...  \n53305  Sausage & Cheddar Classic Breakfast Sandwich, ...  \n53306  Bagel Sandwich on Grilled Bagel w/ Sausage, Eg...  \n53307  Bagel Sandwich w/ Bacon w/out Hash Browns, Bre...  \n53308  Bagel Sandwich w/ Steakburger, Breakfast Sandw...  \n\n[25278 rows x 4 columns]",
      "text/html": "<div>\n<style scoped>\n    .dataframe tbody tr th:only-of-type {\n        vertical-align: middle;\n    }\n\n    .dataframe tbody tr th {\n        vertical-align: top;\n    }\n\n    .dataframe thead th {\n        text-align: right;\n    }\n</style>\n<table border=\"1\" class=\"dataframe\">\n  <thead>\n    <tr style=\"text-align: right;\">\n      <th></th>\n      <th>item_id</th>\n      <th>year</th>\n      <th>item_name</th>\n      <th>item_description</th>\n    </tr>\n  </thead>\n  <tbody>\n    <tr>\n      <th>0</th>\n      <td>10001</td>\n      <td>2014</td>\n      <td>Breadstick</td>\n      <td>Breadstick, Lunch Combos</td>\n    </tr>\n    <tr>\n      <th>1</th>\n      <td>10002</td>\n      <td>2014</td>\n      <td>Toasted Garlic Bread Basket</td>\n      <td>Toasted Garlic Bread Basket, Extras</td>\n    </tr>\n    <tr>\n      <th>2</th>\n      <td>10004</td>\n      <td>2014</td>\n      <td>Tomato Basil Soup, Lunch Combos</td>\n      <td>Tomato Basil Soup, Lunch Combos</td>\n    </tr>\n    <tr>\n      <th>3</th>\n      <td>10005</td>\n      <td>2014</td>\n      <td>Chili, Lunch Combos</td>\n      <td>Chili, Lunch Combos</td>\n    </tr>\n    <tr>\n      <th>4</th>\n      <td>10006</td>\n      <td>2014</td>\n      <td>Baked Potato Soup, Lunch Combos</td>\n      <td>Baked Potato Soup, Lunch Combos</td>\n    </tr>\n    <tr>\n      <th>...</th>\n      <td>...</td>\n      <td>...</td>\n      <td>...</td>\n      <td>...</td>\n    </tr>\n    <tr>\n      <th>53304</th>\n      <td>989</td>\n      <td>2014</td>\n      <td>Breakfast Toaster w/ Sausage</td>\n      <td>Breakfast Toaster w/ Melty Cheese, Savory Saus...</td>\n    </tr>\n    <tr>\n      <th>53305</th>\n      <td>995</td>\n      <td>2014</td>\n      <td>Sausage &amp; Cheddar Classic Breakfast Sandwich</td>\n      <td>Sausage &amp; Cheddar Classic Breakfast Sandwich, ...</td>\n    </tr>\n    <tr>\n      <th>53306</th>\n      <td>996</td>\n      <td>2014</td>\n      <td>Bagel Sandwich w/ Sausage</td>\n      <td>Bagel Sandwich on Grilled Bagel w/ Sausage, Eg...</td>\n    </tr>\n    <tr>\n      <th>53307</th>\n      <td>997</td>\n      <td>2014</td>\n      <td>Bagel Sandwich w/ Bacon</td>\n      <td>Bagel Sandwich w/ Bacon w/out Hash Browns, Bre...</td>\n    </tr>\n    <tr>\n      <th>53308</th>\n      <td>998</td>\n      <td>2014</td>\n      <td>Bagel Sandwich w/ Steakburger</td>\n      <td>Bagel Sandwich w/ Steakburger, Breakfast Sandw...</td>\n    </tr>\n  </tbody>\n</table>\n<p>25278 rows × 4 columns</p>\n</div>"
     },
     "metadata": {},
     "output_type": "display_data"
    },
    {
     "name": "stdout",
     "output_type": "stream",
     "text": [
      "0\n",
      "0\n",
      "0\n",
      "0\n",
      "0\n",
      "0\n",
      "0\n",
      "0\n",
      "0\n",
      "0\n",
      "0\n",
      "0\n"
     ]
    },
    {
     "data": {
      "text/plain": "       item_id  year  r_id  cat_id  calories  total_fat  saturated_fat  \\\n0        10001  2014     1       1     130.0        4.0            0.5   \n1        10002  2014     1       1     500.0       15.0            2.5   \n2        10004  2014     1      10     270.0       17.0            8.0   \n3        10005  2014     1      10     370.0       23.0           12.0   \n4        10006  2014     1      10     440.0       32.0           15.0   \n...        ...   ...   ...     ...       ...        ...            ...   \n53304      989  2014    81       9     670.0       39.0           13.0   \n53305      995  2014    82       9     500.0       28.0            9.0   \n53306      996  2014    83       9     570.0       29.0           11.0   \n53307      997  2014    83       9     450.0       16.0            7.0   \n53308      998  2014    83       9     470.0       18.0            8.0   \n\n       trans_fat  cholesterol  sodium  potassium  carbs  protein  sugar  \\\n0            0.0          NaN   200.0        NaN   19.0      4.0    NaN   \n1            0.0          NaN   820.0        NaN   76.0     16.0    NaN   \n2            0.0          NaN  1440.0        NaN   25.0      6.0    NaN   \n3            0.5          NaN  1020.0        NaN   13.0     29.0    NaN   \n4            1.0          NaN   610.0        NaN   26.0     13.0    NaN   \n...          ...          ...     ...        ...    ...      ...    ...   \n53304        1.0        340.0  1510.0        NaN   52.0     27.0    7.0   \n53305        0.0        165.0   920.0        NaN   41.0     19.0    3.0   \n53306        0.0        275.0  1240.0        NaN   50.0     26.0    4.0   \n53307        0.0        275.0  1200.0        NaN   51.0     24.0    5.0   \n53308        0.5        195.0   920.0        NaN   51.0     24.0    4.0   \n\n       dietary_Fiber  \n0                1.0  \n1                3.0  \n2                3.0  \n3                4.0  \n4                2.0  \n...              ...  \n53304            2.0  \n53305            1.0  \n53306            2.0  \n53307            2.0  \n53308            2.0  \n\n[25278 rows x 15 columns]",
      "text/html": "<div>\n<style scoped>\n    .dataframe tbody tr th:only-of-type {\n        vertical-align: middle;\n    }\n\n    .dataframe tbody tr th {\n        vertical-align: top;\n    }\n\n    .dataframe thead th {\n        text-align: right;\n    }\n</style>\n<table border=\"1\" class=\"dataframe\">\n  <thead>\n    <tr style=\"text-align: right;\">\n      <th></th>\n      <th>item_id</th>\n      <th>year</th>\n      <th>r_id</th>\n      <th>cat_id</th>\n      <th>calories</th>\n      <th>total_fat</th>\n      <th>saturated_fat</th>\n      <th>trans_fat</th>\n      <th>cholesterol</th>\n      <th>sodium</th>\n      <th>potassium</th>\n      <th>carbs</th>\n      <th>protein</th>\n      <th>sugar</th>\n      <th>dietary_Fiber</th>\n    </tr>\n  </thead>\n  <tbody>\n    <tr>\n      <th>0</th>\n      <td>10001</td>\n      <td>2014</td>\n      <td>1</td>\n      <td>1</td>\n      <td>130.0</td>\n      <td>4.0</td>\n      <td>0.5</td>\n      <td>0.0</td>\n      <td>NaN</td>\n      <td>200.0</td>\n      <td>NaN</td>\n      <td>19.0</td>\n      <td>4.0</td>\n      <td>NaN</td>\n      <td>1.0</td>\n    </tr>\n    <tr>\n      <th>1</th>\n      <td>10002</td>\n      <td>2014</td>\n      <td>1</td>\n      <td>1</td>\n      <td>500.0</td>\n      <td>15.0</td>\n      <td>2.5</td>\n      <td>0.0</td>\n      <td>NaN</td>\n      <td>820.0</td>\n      <td>NaN</td>\n      <td>76.0</td>\n      <td>16.0</td>\n      <td>NaN</td>\n      <td>3.0</td>\n    </tr>\n    <tr>\n      <th>2</th>\n      <td>10004</td>\n      <td>2014</td>\n      <td>1</td>\n      <td>10</td>\n      <td>270.0</td>\n      <td>17.0</td>\n      <td>8.0</td>\n      <td>0.0</td>\n      <td>NaN</td>\n      <td>1440.0</td>\n      <td>NaN</td>\n      <td>25.0</td>\n      <td>6.0</td>\n      <td>NaN</td>\n      <td>3.0</td>\n    </tr>\n    <tr>\n      <th>3</th>\n      <td>10005</td>\n      <td>2014</td>\n      <td>1</td>\n      <td>10</td>\n      <td>370.0</td>\n      <td>23.0</td>\n      <td>12.0</td>\n      <td>0.5</td>\n      <td>NaN</td>\n      <td>1020.0</td>\n      <td>NaN</td>\n      <td>13.0</td>\n      <td>29.0</td>\n      <td>NaN</td>\n      <td>4.0</td>\n    </tr>\n    <tr>\n      <th>4</th>\n      <td>10006</td>\n      <td>2014</td>\n      <td>1</td>\n      <td>10</td>\n      <td>440.0</td>\n      <td>32.0</td>\n      <td>15.0</td>\n      <td>1.0</td>\n      <td>NaN</td>\n      <td>610.0</td>\n      <td>NaN</td>\n      <td>26.0</td>\n      <td>13.0</td>\n      <td>NaN</td>\n      <td>2.0</td>\n    </tr>\n    <tr>\n      <th>...</th>\n      <td>...</td>\n      <td>...</td>\n      <td>...</td>\n      <td>...</td>\n      <td>...</td>\n      <td>...</td>\n      <td>...</td>\n      <td>...</td>\n      <td>...</td>\n      <td>...</td>\n      <td>...</td>\n      <td>...</td>\n      <td>...</td>\n      <td>...</td>\n      <td>...</td>\n    </tr>\n    <tr>\n      <th>53304</th>\n      <td>989</td>\n      <td>2014</td>\n      <td>81</td>\n      <td>9</td>\n      <td>670.0</td>\n      <td>39.0</td>\n      <td>13.0</td>\n      <td>1.0</td>\n      <td>340.0</td>\n      <td>1510.0</td>\n      <td>NaN</td>\n      <td>52.0</td>\n      <td>27.0</td>\n      <td>7.0</td>\n      <td>2.0</td>\n    </tr>\n    <tr>\n      <th>53305</th>\n      <td>995</td>\n      <td>2014</td>\n      <td>82</td>\n      <td>9</td>\n      <td>500.0</td>\n      <td>28.0</td>\n      <td>9.0</td>\n      <td>0.0</td>\n      <td>165.0</td>\n      <td>920.0</td>\n      <td>NaN</td>\n      <td>41.0</td>\n      <td>19.0</td>\n      <td>3.0</td>\n      <td>1.0</td>\n    </tr>\n    <tr>\n      <th>53306</th>\n      <td>996</td>\n      <td>2014</td>\n      <td>83</td>\n      <td>9</td>\n      <td>570.0</td>\n      <td>29.0</td>\n      <td>11.0</td>\n      <td>0.0</td>\n      <td>275.0</td>\n      <td>1240.0</td>\n      <td>NaN</td>\n      <td>50.0</td>\n      <td>26.0</td>\n      <td>4.0</td>\n      <td>2.0</td>\n    </tr>\n    <tr>\n      <th>53307</th>\n      <td>997</td>\n      <td>2014</td>\n      <td>83</td>\n      <td>9</td>\n      <td>450.0</td>\n      <td>16.0</td>\n      <td>7.0</td>\n      <td>0.0</td>\n      <td>275.0</td>\n      <td>1200.0</td>\n      <td>NaN</td>\n      <td>51.0</td>\n      <td>24.0</td>\n      <td>5.0</td>\n      <td>2.0</td>\n    </tr>\n    <tr>\n      <th>53308</th>\n      <td>998</td>\n      <td>2014</td>\n      <td>83</td>\n      <td>9</td>\n      <td>470.0</td>\n      <td>18.0</td>\n      <td>8.0</td>\n      <td>0.5</td>\n      <td>195.0</td>\n      <td>920.0</td>\n      <td>NaN</td>\n      <td>51.0</td>\n      <td>24.0</td>\n      <td>4.0</td>\n      <td>2.0</td>\n    </tr>\n  </tbody>\n</table>\n<p>25278 rows × 15 columns</p>\n</div>"
     },
     "metadata": {},
     "output_type": "display_data"
    },
    {
     "data": {
      "text/plain": "        combo_id  item_id  year     builds  cat_id\n17     103211011    10020  2014  Main Item       8\n25     103211012    10042  2014  Main Item       8\n26     103211013    10043  2014  Main Item       8\n29     103211014    10050  2014  Main Item       8\n30     103211015    10051  2014  Main Item       8\n...          ...      ...   ...        ...     ...\n53281  173213243      959  2014  Main Item       9\n53283  173213244      960  2014  Main Item       9\n53285  173213245      962  2014  Main Item       9\n53306   22175711      996  2014  Main Item       9\n53307   22175712      997  2014  Main Item       9\n\n[30582 rows x 5 columns]",
      "text/html": "<div>\n<style scoped>\n    .dataframe tbody tr th:only-of-type {\n        vertical-align: middle;\n    }\n\n    .dataframe tbody tr th {\n        vertical-align: top;\n    }\n\n    .dataframe thead th {\n        text-align: right;\n    }\n</style>\n<table border=\"1\" class=\"dataframe\">\n  <thead>\n    <tr style=\"text-align: right;\">\n      <th></th>\n      <th>combo_id</th>\n      <th>item_id</th>\n      <th>year</th>\n      <th>builds</th>\n      <th>cat_id</th>\n    </tr>\n  </thead>\n  <tbody>\n    <tr>\n      <th>17</th>\n      <td>103211011</td>\n      <td>10020</td>\n      <td>2014</td>\n      <td>Main Item</td>\n      <td>8</td>\n    </tr>\n    <tr>\n      <th>25</th>\n      <td>103211012</td>\n      <td>10042</td>\n      <td>2014</td>\n      <td>Main Item</td>\n      <td>8</td>\n    </tr>\n    <tr>\n      <th>26</th>\n      <td>103211013</td>\n      <td>10043</td>\n      <td>2014</td>\n      <td>Main Item</td>\n      <td>8</td>\n    </tr>\n    <tr>\n      <th>29</th>\n      <td>103211014</td>\n      <td>10050</td>\n      <td>2014</td>\n      <td>Main Item</td>\n      <td>8</td>\n    </tr>\n    <tr>\n      <th>30</th>\n      <td>103211015</td>\n      <td>10051</td>\n      <td>2014</td>\n      <td>Main Item</td>\n      <td>8</td>\n    </tr>\n    <tr>\n      <th>...</th>\n      <td>...</td>\n      <td>...</td>\n      <td>...</td>\n      <td>...</td>\n      <td>...</td>\n    </tr>\n    <tr>\n      <th>53281</th>\n      <td>173213243</td>\n      <td>959</td>\n      <td>2014</td>\n      <td>Main Item</td>\n      <td>9</td>\n    </tr>\n    <tr>\n      <th>53283</th>\n      <td>173213244</td>\n      <td>960</td>\n      <td>2014</td>\n      <td>Main Item</td>\n      <td>9</td>\n    </tr>\n    <tr>\n      <th>53285</th>\n      <td>173213245</td>\n      <td>962</td>\n      <td>2014</td>\n      <td>Main Item</td>\n      <td>9</td>\n    </tr>\n    <tr>\n      <th>53306</th>\n      <td>22175711</td>\n      <td>996</td>\n      <td>2014</td>\n      <td>Main Item</td>\n      <td>9</td>\n    </tr>\n    <tr>\n      <th>53307</th>\n      <td>22175712</td>\n      <td>997</td>\n      <td>2014</td>\n      <td>Main Item</td>\n      <td>9</td>\n    </tr>\n  </tbody>\n</table>\n<p>30582 rows × 5 columns</p>\n</div>"
     },
     "metadata": {},
     "output_type": "display_data"
    }
   ],
   "source": [
    "dat = pd.read_csv('Customizable_Annual_Data/Annual_Data2014.csv')\n",
    "transform_data(dat, year='2014')"
   ],
   "metadata": {
    "collapsed": false,
    "pycharm": {
     "name": "#%%\n"
    }
   }
  },
  {
   "cell_type": "code",
   "execution_count": 134,
   "outputs": [
    {
     "name": "stderr",
     "output_type": "stream",
     "text": [
      "/Library/Frameworks/Python.framework/Versions/3.9/lib/python3.9/site-packages/IPython/core/interactiveshell.py:3146: DtypeWarning: Columns (9) have mixed types.Specify dtype option on import or set low_memory=False.\n",
      "  has_raised = await self.run_ast_nodes(code_ast.body, cell_name,\n"
     ]
    },
    {
     "data": {
      "text/plain": "       item_id  year                                       item_name  \\\n0          100  2013                    ButterBurger w/ Cheese, Kids   \n1        10001  2013                                      Breadstick   \n2        10002  2013                     Toasted Garlic Bread Basket   \n3        10003  2013  French Onion Soup, Pick 'n Pair & Lunch Combos   \n4        10004  2013  Tomato Basil Soup, Pick 'n Pair & Lunch Combos   \n...        ...   ...                                             ...   \n38866       99  2013                              ButterBurger, Kids   \n38867      995  2013    Sausage & Cheddar Classic Breakfast Sandwich   \n38868      996  2013                          Sausage Bagel Sandwich   \n38869      997  2013                         Bagel Sandwich w/ Bacon   \n38870      998  2013                   Bagel Sandwich w/ Steakburger   \n\n                                        item_description  \n0                           ButterBurger w/ Cheese, Kids  \n1                Breadstick, Pick 'n Pair & Lunch Combos  \n2         Toasted Garlic Bread Basket, Extras, As Served  \n3         French Onion Soup, Pick 'n Pair & Lunch Combos  \n4         Tomato Basil Soup, Pick 'n Pair & Lunch Combos  \n...                                                  ...  \n38866                                 ButterBurger, Kids  \n38867  Sausage & Cheddar Classic Breakfast Sandwich, ...  \n38868  Sausage Bagel Sandwich w/out Hash Browns, Brea...  \n38869  Bagel Sandwich w/ Bacon w/out Hash Browns, Bre...  \n38870           Bagel Sandwich w/ Steakburger, Breakfast  \n\n[23860 rows x 4 columns]",
      "text/html": "<div>\n<style scoped>\n    .dataframe tbody tr th:only-of-type {\n        vertical-align: middle;\n    }\n\n    .dataframe tbody tr th {\n        vertical-align: top;\n    }\n\n    .dataframe thead th {\n        text-align: right;\n    }\n</style>\n<table border=\"1\" class=\"dataframe\">\n  <thead>\n    <tr style=\"text-align: right;\">\n      <th></th>\n      <th>item_id</th>\n      <th>year</th>\n      <th>item_name</th>\n      <th>item_description</th>\n    </tr>\n  </thead>\n  <tbody>\n    <tr>\n      <th>0</th>\n      <td>100</td>\n      <td>2013</td>\n      <td>ButterBurger w/ Cheese, Kids</td>\n      <td>ButterBurger w/ Cheese, Kids</td>\n    </tr>\n    <tr>\n      <th>1</th>\n      <td>10001</td>\n      <td>2013</td>\n      <td>Breadstick</td>\n      <td>Breadstick, Pick 'n Pair &amp; Lunch Combos</td>\n    </tr>\n    <tr>\n      <th>2</th>\n      <td>10002</td>\n      <td>2013</td>\n      <td>Toasted Garlic Bread Basket</td>\n      <td>Toasted Garlic Bread Basket, Extras, As Served</td>\n    </tr>\n    <tr>\n      <th>3</th>\n      <td>10003</td>\n      <td>2013</td>\n      <td>French Onion Soup, Pick 'n Pair &amp; Lunch Combos</td>\n      <td>French Onion Soup, Pick 'n Pair &amp; Lunch Combos</td>\n    </tr>\n    <tr>\n      <th>4</th>\n      <td>10004</td>\n      <td>2013</td>\n      <td>Tomato Basil Soup, Pick 'n Pair &amp; Lunch Combos</td>\n      <td>Tomato Basil Soup, Pick 'n Pair &amp; Lunch Combos</td>\n    </tr>\n    <tr>\n      <th>...</th>\n      <td>...</td>\n      <td>...</td>\n      <td>...</td>\n      <td>...</td>\n    </tr>\n    <tr>\n      <th>38866</th>\n      <td>99</td>\n      <td>2013</td>\n      <td>ButterBurger, Kids</td>\n      <td>ButterBurger, Kids</td>\n    </tr>\n    <tr>\n      <th>38867</th>\n      <td>995</td>\n      <td>2013</td>\n      <td>Sausage &amp; Cheddar Classic Breakfast Sandwich</td>\n      <td>Sausage &amp; Cheddar Classic Breakfast Sandwich, ...</td>\n    </tr>\n    <tr>\n      <th>38868</th>\n      <td>996</td>\n      <td>2013</td>\n      <td>Sausage Bagel Sandwich</td>\n      <td>Sausage Bagel Sandwich w/out Hash Browns, Brea...</td>\n    </tr>\n    <tr>\n      <th>38869</th>\n      <td>997</td>\n      <td>2013</td>\n      <td>Bagel Sandwich w/ Bacon</td>\n      <td>Bagel Sandwich w/ Bacon w/out Hash Browns, Bre...</td>\n    </tr>\n    <tr>\n      <th>38870</th>\n      <td>998</td>\n      <td>2013</td>\n      <td>Bagel Sandwich w/ Steakburger</td>\n      <td>Bagel Sandwich w/ Steakburger, Breakfast</td>\n    </tr>\n  </tbody>\n</table>\n<p>23860 rows × 4 columns</p>\n</div>"
     },
     "metadata": {},
     "output_type": "display_data"
    },
    {
     "name": "stdout",
     "output_type": "stream",
     "text": [
      "0\n",
      "0\n",
      "0\n",
      "0\n",
      "0\n",
      "0\n",
      "0\n",
      "0\n",
      "0\n",
      "0\n",
      "0\n",
      "0\n"
     ]
    },
    {
     "data": {
      "text/plain": "       item_id  year  r_id  cat_id  calories  total_fat  saturated_fat  \\\n0          100  2013    23       3     421.0       21.0            9.0   \n1        10001  2013     1       1     130.0        4.0            0.5   \n2        10002  2013     1       1     500.0       15.0            2.5   \n3        10003  2013     1      10     330.0       20.0           12.0   \n4        10004  2013     1      10     220.0       14.0            6.0   \n...        ...   ...   ...     ...       ...        ...            ...   \n38866       99  2013    23       3     331.0       15.0            6.0   \n38867      995  2013    82       9     500.0       28.0            9.0   \n38868      996  2013    83       9     570.0       29.0           11.0   \n38869      997  2013    83       9     450.0       16.0            7.0   \n38870      998  2013    83       9     470.0       18.0            8.0   \n\n       trans_fat  cholesterol  sodium  potassium  carbs  protein  sugar  \\\n0            0.0         80.0   990.0        NaN   37.0     22.0    9.0   \n1            0.0          NaN   200.0        NaN   19.0      4.0    NaN   \n2            0.0          NaN   820.0        NaN   76.0     16.0    NaN   \n3            0.5          NaN  1230.0        NaN   22.0     15.0    NaN   \n4            0.0          NaN  1230.0        NaN   23.0      5.0    NaN   \n...          ...          ...     ...        ...    ...      ...    ...   \n38866        0.0         65.0   440.0        NaN   31.0     19.0    4.0   \n38867        0.0        165.0   920.0        NaN   41.0     19.0    3.0   \n38868        0.0        250.0  1240.0        NaN   50.0     26.0    4.0   \n38869        0.0        250.0  1200.0        NaN   51.0     24.0    5.0   \n38870        0.5        195.0   920.0        NaN   51.0     24.0    4.0   \n\n       dietary_Fiber  \n0                1.0  \n1                1.0  \n2                3.0  \n3                1.0  \n4                2.0  \n...              ...  \n38866            1.0  \n38867            1.0  \n38868            2.0  \n38869            2.0  \n38870            2.0  \n\n[23860 rows x 15 columns]",
      "text/html": "<div>\n<style scoped>\n    .dataframe tbody tr th:only-of-type {\n        vertical-align: middle;\n    }\n\n    .dataframe tbody tr th {\n        vertical-align: top;\n    }\n\n    .dataframe thead th {\n        text-align: right;\n    }\n</style>\n<table border=\"1\" class=\"dataframe\">\n  <thead>\n    <tr style=\"text-align: right;\">\n      <th></th>\n      <th>item_id</th>\n      <th>year</th>\n      <th>r_id</th>\n      <th>cat_id</th>\n      <th>calories</th>\n      <th>total_fat</th>\n      <th>saturated_fat</th>\n      <th>trans_fat</th>\n      <th>cholesterol</th>\n      <th>sodium</th>\n      <th>potassium</th>\n      <th>carbs</th>\n      <th>protein</th>\n      <th>sugar</th>\n      <th>dietary_Fiber</th>\n    </tr>\n  </thead>\n  <tbody>\n    <tr>\n      <th>0</th>\n      <td>100</td>\n      <td>2013</td>\n      <td>23</td>\n      <td>3</td>\n      <td>421.0</td>\n      <td>21.0</td>\n      <td>9.0</td>\n      <td>0.0</td>\n      <td>80.0</td>\n      <td>990.0</td>\n      <td>NaN</td>\n      <td>37.0</td>\n      <td>22.0</td>\n      <td>9.0</td>\n      <td>1.0</td>\n    </tr>\n    <tr>\n      <th>1</th>\n      <td>10001</td>\n      <td>2013</td>\n      <td>1</td>\n      <td>1</td>\n      <td>130.0</td>\n      <td>4.0</td>\n      <td>0.5</td>\n      <td>0.0</td>\n      <td>NaN</td>\n      <td>200.0</td>\n      <td>NaN</td>\n      <td>19.0</td>\n      <td>4.0</td>\n      <td>NaN</td>\n      <td>1.0</td>\n    </tr>\n    <tr>\n      <th>2</th>\n      <td>10002</td>\n      <td>2013</td>\n      <td>1</td>\n      <td>1</td>\n      <td>500.0</td>\n      <td>15.0</td>\n      <td>2.5</td>\n      <td>0.0</td>\n      <td>NaN</td>\n      <td>820.0</td>\n      <td>NaN</td>\n      <td>76.0</td>\n      <td>16.0</td>\n      <td>NaN</td>\n      <td>3.0</td>\n    </tr>\n    <tr>\n      <th>3</th>\n      <td>10003</td>\n      <td>2013</td>\n      <td>1</td>\n      <td>10</td>\n      <td>330.0</td>\n      <td>20.0</td>\n      <td>12.0</td>\n      <td>0.5</td>\n      <td>NaN</td>\n      <td>1230.0</td>\n      <td>NaN</td>\n      <td>22.0</td>\n      <td>15.0</td>\n      <td>NaN</td>\n      <td>1.0</td>\n    </tr>\n    <tr>\n      <th>4</th>\n      <td>10004</td>\n      <td>2013</td>\n      <td>1</td>\n      <td>10</td>\n      <td>220.0</td>\n      <td>14.0</td>\n      <td>6.0</td>\n      <td>0.0</td>\n      <td>NaN</td>\n      <td>1230.0</td>\n      <td>NaN</td>\n      <td>23.0</td>\n      <td>5.0</td>\n      <td>NaN</td>\n      <td>2.0</td>\n    </tr>\n    <tr>\n      <th>...</th>\n      <td>...</td>\n      <td>...</td>\n      <td>...</td>\n      <td>...</td>\n      <td>...</td>\n      <td>...</td>\n      <td>...</td>\n      <td>...</td>\n      <td>...</td>\n      <td>...</td>\n      <td>...</td>\n      <td>...</td>\n      <td>...</td>\n      <td>...</td>\n      <td>...</td>\n    </tr>\n    <tr>\n      <th>38866</th>\n      <td>99</td>\n      <td>2013</td>\n      <td>23</td>\n      <td>3</td>\n      <td>331.0</td>\n      <td>15.0</td>\n      <td>6.0</td>\n      <td>0.0</td>\n      <td>65.0</td>\n      <td>440.0</td>\n      <td>NaN</td>\n      <td>31.0</td>\n      <td>19.0</td>\n      <td>4.0</td>\n      <td>1.0</td>\n    </tr>\n    <tr>\n      <th>38867</th>\n      <td>995</td>\n      <td>2013</td>\n      <td>82</td>\n      <td>9</td>\n      <td>500.0</td>\n      <td>28.0</td>\n      <td>9.0</td>\n      <td>0.0</td>\n      <td>165.0</td>\n      <td>920.0</td>\n      <td>NaN</td>\n      <td>41.0</td>\n      <td>19.0</td>\n      <td>3.0</td>\n      <td>1.0</td>\n    </tr>\n    <tr>\n      <th>38868</th>\n      <td>996</td>\n      <td>2013</td>\n      <td>83</td>\n      <td>9</td>\n      <td>570.0</td>\n      <td>29.0</td>\n      <td>11.0</td>\n      <td>0.0</td>\n      <td>250.0</td>\n      <td>1240.0</td>\n      <td>NaN</td>\n      <td>50.0</td>\n      <td>26.0</td>\n      <td>4.0</td>\n      <td>2.0</td>\n    </tr>\n    <tr>\n      <th>38869</th>\n      <td>997</td>\n      <td>2013</td>\n      <td>83</td>\n      <td>9</td>\n      <td>450.0</td>\n      <td>16.0</td>\n      <td>7.0</td>\n      <td>0.0</td>\n      <td>250.0</td>\n      <td>1200.0</td>\n      <td>NaN</td>\n      <td>51.0</td>\n      <td>24.0</td>\n      <td>5.0</td>\n      <td>2.0</td>\n    </tr>\n    <tr>\n      <th>38870</th>\n      <td>998</td>\n      <td>2013</td>\n      <td>83</td>\n      <td>9</td>\n      <td>470.0</td>\n      <td>18.0</td>\n      <td>8.0</td>\n      <td>0.5</td>\n      <td>195.0</td>\n      <td>920.0</td>\n      <td>NaN</td>\n      <td>51.0</td>\n      <td>24.0</td>\n      <td>4.0</td>\n      <td>2.0</td>\n    </tr>\n  </tbody>\n</table>\n<p>23860 rows × 15 columns</p>\n</div>"
     },
     "metadata": {},
     "output_type": "display_data"
    },
    {
     "data": {
      "text/plain": "         combo_id  item_id  year             builds  cat_id\n14      103111031    10013  2013  Accompanying Item      10\n15      103111032    10013  2013  Accompanying Item      10\n16      103111033    10013  2013  Accompanying Item      10\n17      103111034    10013  2013  Accompanying Item      10\n18      103111035    10013  2013  Accompanying Item      10\n...           ...      ...   ...                ...     ...\n38767  2332544610      819  2013          Main Item       9\n38775  2223239519      833  2013          Main Item       9\n38776  2223239520      834  2013          Main Item       9\n38868    22163891      996  2013          Main Item       9\n38869    22163892      997  2013          Main Item       9\n\n[16523 rows x 5 columns]",
      "text/html": "<div>\n<style scoped>\n    .dataframe tbody tr th:only-of-type {\n        vertical-align: middle;\n    }\n\n    .dataframe tbody tr th {\n        vertical-align: top;\n    }\n\n    .dataframe thead th {\n        text-align: right;\n    }\n</style>\n<table border=\"1\" class=\"dataframe\">\n  <thead>\n    <tr style=\"text-align: right;\">\n      <th></th>\n      <th>combo_id</th>\n      <th>item_id</th>\n      <th>year</th>\n      <th>builds</th>\n      <th>cat_id</th>\n    </tr>\n  </thead>\n  <tbody>\n    <tr>\n      <th>14</th>\n      <td>103111031</td>\n      <td>10013</td>\n      <td>2013</td>\n      <td>Accompanying Item</td>\n      <td>10</td>\n    </tr>\n    <tr>\n      <th>15</th>\n      <td>103111032</td>\n      <td>10013</td>\n      <td>2013</td>\n      <td>Accompanying Item</td>\n      <td>10</td>\n    </tr>\n    <tr>\n      <th>16</th>\n      <td>103111033</td>\n      <td>10013</td>\n      <td>2013</td>\n      <td>Accompanying Item</td>\n      <td>10</td>\n    </tr>\n    <tr>\n      <th>17</th>\n      <td>103111034</td>\n      <td>10013</td>\n      <td>2013</td>\n      <td>Accompanying Item</td>\n      <td>10</td>\n    </tr>\n    <tr>\n      <th>18</th>\n      <td>103111035</td>\n      <td>10013</td>\n      <td>2013</td>\n      <td>Accompanying Item</td>\n      <td>10</td>\n    </tr>\n    <tr>\n      <th>...</th>\n      <td>...</td>\n      <td>...</td>\n      <td>...</td>\n      <td>...</td>\n      <td>...</td>\n    </tr>\n    <tr>\n      <th>38767</th>\n      <td>2332544610</td>\n      <td>819</td>\n      <td>2013</td>\n      <td>Main Item</td>\n      <td>9</td>\n    </tr>\n    <tr>\n      <th>38775</th>\n      <td>2223239519</td>\n      <td>833</td>\n      <td>2013</td>\n      <td>Main Item</td>\n      <td>9</td>\n    </tr>\n    <tr>\n      <th>38776</th>\n      <td>2223239520</td>\n      <td>834</td>\n      <td>2013</td>\n      <td>Main Item</td>\n      <td>9</td>\n    </tr>\n    <tr>\n      <th>38868</th>\n      <td>22163891</td>\n      <td>996</td>\n      <td>2013</td>\n      <td>Main Item</td>\n      <td>9</td>\n    </tr>\n    <tr>\n      <th>38869</th>\n      <td>22163892</td>\n      <td>997</td>\n      <td>2013</td>\n      <td>Main Item</td>\n      <td>9</td>\n    </tr>\n  </tbody>\n</table>\n<p>16523 rows × 5 columns</p>\n</div>"
     },
     "metadata": {},
     "output_type": "display_data"
    }
   ],
   "source": [
    "dat = pd.read_csv('Customizable_Annual_Data/Annual_Data2013.csv')\n",
    "transform_data(dat, year='2013')\n"
   ],
   "metadata": {
    "collapsed": false,
    "pycharm": {
     "name": "#%%\n"
    }
   }
  },
  {
   "cell_type": "code",
   "execution_count": 135,
   "outputs": [
    {
     "data": {
      "text/plain": "       item_id  year                                       item_name  \\\n0          100  2012                    ButterBurger w/ Cheese, Kids   \n1        10001  2012                                      Breadstick   \n2        10002  2012                     Toasted Garlic Bread Basket   \n3        10003  2012  French Onion Soup, Pick 'n Pair & Lunch Combos   \n4        10004  2012  Tomato Basil Soup, Pick 'n Pair & Lunch Combos   \n...        ...   ...                                             ...   \n23703       99  2012                              ButterBurger, Kids   \n23704      995  2012    Sausage & Cheddar Classic Breakfast Sandwich   \n23705      996  2012                       Bagel Sandwich w/ Sausage   \n23706      997  2012                         Bagel Sandwich w/ Bacon   \n23707      998  2012                   Bagel Sandwich w/ Steakburger   \n\n                                        item_description  \n0                           ButterBurger w/ Cheese, Kids  \n1                Breadstick, Pick 'n Pair & Lunch Combos  \n2         Toasted Garlic Bread Basket, Extras, As Served  \n3         French Onion Soup, Pick 'n Pair & Lunch Combos  \n4         Tomato Basil Soup, Pick 'n Pair & Lunch Combos  \n...                                                  ...  \n23703                                 ButterBurger, Kids  \n23704  Sausage & Cheddar Classic Breakfast Sandwich, ...  \n23705               Bagel Sandwich w/ Sausage, Breakfast  \n23706                 Bagel Sandwich w/ Bacon, Breakfast  \n23707           Bagel Sandwich w/ Steakburger, Breakfast  \n\n[16163 rows x 4 columns]",
      "text/html": "<div>\n<style scoped>\n    .dataframe tbody tr th:only-of-type {\n        vertical-align: middle;\n    }\n\n    .dataframe tbody tr th {\n        vertical-align: top;\n    }\n\n    .dataframe thead th {\n        text-align: right;\n    }\n</style>\n<table border=\"1\" class=\"dataframe\">\n  <thead>\n    <tr style=\"text-align: right;\">\n      <th></th>\n      <th>item_id</th>\n      <th>year</th>\n      <th>item_name</th>\n      <th>item_description</th>\n    </tr>\n  </thead>\n  <tbody>\n    <tr>\n      <th>0</th>\n      <td>100</td>\n      <td>2012</td>\n      <td>ButterBurger w/ Cheese, Kids</td>\n      <td>ButterBurger w/ Cheese, Kids</td>\n    </tr>\n    <tr>\n      <th>1</th>\n      <td>10001</td>\n      <td>2012</td>\n      <td>Breadstick</td>\n      <td>Breadstick, Pick 'n Pair &amp; Lunch Combos</td>\n    </tr>\n    <tr>\n      <th>2</th>\n      <td>10002</td>\n      <td>2012</td>\n      <td>Toasted Garlic Bread Basket</td>\n      <td>Toasted Garlic Bread Basket, Extras, As Served</td>\n    </tr>\n    <tr>\n      <th>3</th>\n      <td>10003</td>\n      <td>2012</td>\n      <td>French Onion Soup, Pick 'n Pair &amp; Lunch Combos</td>\n      <td>French Onion Soup, Pick 'n Pair &amp; Lunch Combos</td>\n    </tr>\n    <tr>\n      <th>4</th>\n      <td>10004</td>\n      <td>2012</td>\n      <td>Tomato Basil Soup, Pick 'n Pair &amp; Lunch Combos</td>\n      <td>Tomato Basil Soup, Pick 'n Pair &amp; Lunch Combos</td>\n    </tr>\n    <tr>\n      <th>...</th>\n      <td>...</td>\n      <td>...</td>\n      <td>...</td>\n      <td>...</td>\n    </tr>\n    <tr>\n      <th>23703</th>\n      <td>99</td>\n      <td>2012</td>\n      <td>ButterBurger, Kids</td>\n      <td>ButterBurger, Kids</td>\n    </tr>\n    <tr>\n      <th>23704</th>\n      <td>995</td>\n      <td>2012</td>\n      <td>Sausage &amp; Cheddar Classic Breakfast Sandwich</td>\n      <td>Sausage &amp; Cheddar Classic Breakfast Sandwich, ...</td>\n    </tr>\n    <tr>\n      <th>23705</th>\n      <td>996</td>\n      <td>2012</td>\n      <td>Bagel Sandwich w/ Sausage</td>\n      <td>Bagel Sandwich w/ Sausage, Breakfast</td>\n    </tr>\n    <tr>\n      <th>23706</th>\n      <td>997</td>\n      <td>2012</td>\n      <td>Bagel Sandwich w/ Bacon</td>\n      <td>Bagel Sandwich w/ Bacon, Breakfast</td>\n    </tr>\n    <tr>\n      <th>23707</th>\n      <td>998</td>\n      <td>2012</td>\n      <td>Bagel Sandwich w/ Steakburger</td>\n      <td>Bagel Sandwich w/ Steakburger, Breakfast</td>\n    </tr>\n  </tbody>\n</table>\n<p>16163 rows × 4 columns</p>\n</div>"
     },
     "metadata": {},
     "output_type": "display_data"
    },
    {
     "name": "stdout",
     "output_type": "stream",
     "text": [
      "0\n",
      "0\n",
      "0\n",
      "0\n",
      "0\n",
      "229\n",
      "0\n",
      "0\n",
      "0\n",
      "0\n",
      "0\n",
      "0\n"
     ]
    },
    {
     "data": {
      "text/plain": "       item_id  year  r_id  cat_id  calories  total_fat  saturated_fat  \\\n0          100  2012  23.0       3     421.0       22.0           10.0   \n1        10001  2012   1.0       1     280.0       19.0            6.0   \n2        10002  2012   1.0       1    1120.0       78.0           23.0   \n3        10003  2012   1.0      10     240.0       14.0            9.0   \n4        10004  2012   1.0      10     220.0       14.0            6.0   \n...        ...   ...   ...     ...       ...        ...            ...   \n23703       99  2012  23.0       3     331.0       16.0            6.0   \n23704      995  2012  82.0       9     500.0       28.0            9.0   \n23705      996  2012  83.0       9     570.0       29.0           11.0   \n23706      997  2012  83.0       9     450.0       16.0            7.0   \n23707      998  2012  83.0       9     470.0       18.0            8.0   \n\n       trans_fat  cholesterol  sodium  potassium  carbs  protein  sugar  \\\n0            1.0         80.0   990.0        NaN   37.0     22.0    9.0   \n1            0.0          NaN   330.0        NaN   22.0      5.0    NaN   \n2           15.0          NaN  1320.0        NaN   89.0     19.0    NaN   \n3            0.0          NaN  1070.0        NaN   11.0     14.0    NaN   \n4            0.0          NaN  1220.0        NaN   23.0      5.0    NaN   \n...          ...          ...     ...        ...    ...      ...    ...   \n23703        1.0         65.0   440.0        NaN   31.0     19.0    4.0   \n23704        0.0        165.0   920.0        NaN   41.0     19.0    3.0   \n23705        0.0        275.0  1240.0        NaN   50.0     26.0    4.0   \n23706        0.0        275.0  1200.0        NaN   51.0     24.0    5.0   \n23707        5.0        195.0   920.0        NaN   51.0     24.0    4.0   \n\n       dietary_Fiber  \n0                1.0  \n1                1.0  \n2                6.0  \n3                1.0  \n4                2.0  \n...              ...  \n23703            1.0  \n23704            NaN  \n23705            2.0  \n23706            2.0  \n23707            2.0  \n\n[16163 rows x 15 columns]",
      "text/html": "<div>\n<style scoped>\n    .dataframe tbody tr th:only-of-type {\n        vertical-align: middle;\n    }\n\n    .dataframe tbody tr th {\n        vertical-align: top;\n    }\n\n    .dataframe thead th {\n        text-align: right;\n    }\n</style>\n<table border=\"1\" class=\"dataframe\">\n  <thead>\n    <tr style=\"text-align: right;\">\n      <th></th>\n      <th>item_id</th>\n      <th>year</th>\n      <th>r_id</th>\n      <th>cat_id</th>\n      <th>calories</th>\n      <th>total_fat</th>\n      <th>saturated_fat</th>\n      <th>trans_fat</th>\n      <th>cholesterol</th>\n      <th>sodium</th>\n      <th>potassium</th>\n      <th>carbs</th>\n      <th>protein</th>\n      <th>sugar</th>\n      <th>dietary_Fiber</th>\n    </tr>\n  </thead>\n  <tbody>\n    <tr>\n      <th>0</th>\n      <td>100</td>\n      <td>2012</td>\n      <td>23.0</td>\n      <td>3</td>\n      <td>421.0</td>\n      <td>22.0</td>\n      <td>10.0</td>\n      <td>1.0</td>\n      <td>80.0</td>\n      <td>990.0</td>\n      <td>NaN</td>\n      <td>37.0</td>\n      <td>22.0</td>\n      <td>9.0</td>\n      <td>1.0</td>\n    </tr>\n    <tr>\n      <th>1</th>\n      <td>10001</td>\n      <td>2012</td>\n      <td>1.0</td>\n      <td>1</td>\n      <td>280.0</td>\n      <td>19.0</td>\n      <td>6.0</td>\n      <td>0.0</td>\n      <td>NaN</td>\n      <td>330.0</td>\n      <td>NaN</td>\n      <td>22.0</td>\n      <td>5.0</td>\n      <td>NaN</td>\n      <td>1.0</td>\n    </tr>\n    <tr>\n      <th>2</th>\n      <td>10002</td>\n      <td>2012</td>\n      <td>1.0</td>\n      <td>1</td>\n      <td>1120.0</td>\n      <td>78.0</td>\n      <td>23.0</td>\n      <td>15.0</td>\n      <td>NaN</td>\n      <td>1320.0</td>\n      <td>NaN</td>\n      <td>89.0</td>\n      <td>19.0</td>\n      <td>NaN</td>\n      <td>6.0</td>\n    </tr>\n    <tr>\n      <th>3</th>\n      <td>10003</td>\n      <td>2012</td>\n      <td>1.0</td>\n      <td>10</td>\n      <td>240.0</td>\n      <td>14.0</td>\n      <td>9.0</td>\n      <td>0.0</td>\n      <td>NaN</td>\n      <td>1070.0</td>\n      <td>NaN</td>\n      <td>11.0</td>\n      <td>14.0</td>\n      <td>NaN</td>\n      <td>1.0</td>\n    </tr>\n    <tr>\n      <th>4</th>\n      <td>10004</td>\n      <td>2012</td>\n      <td>1.0</td>\n      <td>10</td>\n      <td>220.0</td>\n      <td>14.0</td>\n      <td>6.0</td>\n      <td>0.0</td>\n      <td>NaN</td>\n      <td>1220.0</td>\n      <td>NaN</td>\n      <td>23.0</td>\n      <td>5.0</td>\n      <td>NaN</td>\n      <td>2.0</td>\n    </tr>\n    <tr>\n      <th>...</th>\n      <td>...</td>\n      <td>...</td>\n      <td>...</td>\n      <td>...</td>\n      <td>...</td>\n      <td>...</td>\n      <td>...</td>\n      <td>...</td>\n      <td>...</td>\n      <td>...</td>\n      <td>...</td>\n      <td>...</td>\n      <td>...</td>\n      <td>...</td>\n      <td>...</td>\n    </tr>\n    <tr>\n      <th>23703</th>\n      <td>99</td>\n      <td>2012</td>\n      <td>23.0</td>\n      <td>3</td>\n      <td>331.0</td>\n      <td>16.0</td>\n      <td>6.0</td>\n      <td>1.0</td>\n      <td>65.0</td>\n      <td>440.0</td>\n      <td>NaN</td>\n      <td>31.0</td>\n      <td>19.0</td>\n      <td>4.0</td>\n      <td>1.0</td>\n    </tr>\n    <tr>\n      <th>23704</th>\n      <td>995</td>\n      <td>2012</td>\n      <td>82.0</td>\n      <td>9</td>\n      <td>500.0</td>\n      <td>28.0</td>\n      <td>9.0</td>\n      <td>0.0</td>\n      <td>165.0</td>\n      <td>920.0</td>\n      <td>NaN</td>\n      <td>41.0</td>\n      <td>19.0</td>\n      <td>3.0</td>\n      <td>NaN</td>\n    </tr>\n    <tr>\n      <th>23705</th>\n      <td>996</td>\n      <td>2012</td>\n      <td>83.0</td>\n      <td>9</td>\n      <td>570.0</td>\n      <td>29.0</td>\n      <td>11.0</td>\n      <td>0.0</td>\n      <td>275.0</td>\n      <td>1240.0</td>\n      <td>NaN</td>\n      <td>50.0</td>\n      <td>26.0</td>\n      <td>4.0</td>\n      <td>2.0</td>\n    </tr>\n    <tr>\n      <th>23706</th>\n      <td>997</td>\n      <td>2012</td>\n      <td>83.0</td>\n      <td>9</td>\n      <td>450.0</td>\n      <td>16.0</td>\n      <td>7.0</td>\n      <td>0.0</td>\n      <td>275.0</td>\n      <td>1200.0</td>\n      <td>NaN</td>\n      <td>51.0</td>\n      <td>24.0</td>\n      <td>5.0</td>\n      <td>2.0</td>\n    </tr>\n    <tr>\n      <th>23707</th>\n      <td>998</td>\n      <td>2012</td>\n      <td>83.0</td>\n      <td>9</td>\n      <td>470.0</td>\n      <td>18.0</td>\n      <td>8.0</td>\n      <td>5.0</td>\n      <td>195.0</td>\n      <td>920.0</td>\n      <td>NaN</td>\n      <td>51.0</td>\n      <td>24.0</td>\n      <td>4.0</td>\n      <td>2.0</td>\n    </tr>\n  </tbody>\n</table>\n<p>16163 rows × 15 columns</p>\n</div>"
     },
     "metadata": {},
     "output_type": "display_data"
    },
    {
     "data": {
      "text/plain": "         combo_id  item_id  year             builds  cat_id\n20      103271011    10020  2012          Main Item       8\n34      103271012    10034  2012          Main Item       8\n35      103271013    10035  2012          Main Item       8\n38      103271014    10038  2012          Main Item       8\n39      103271015    10039  2012          Main Item       8\n...           ...      ...   ...                ...     ...\n23546    11431291      730  2012  Accompanying Item      11\n23547    11431292      730  2012  Accompanying Item      11\n23562  2223129816      758  2012          Main Item       9\n23602  2332731111      819  2012          Main Item       9\n23612  2223129817      833  2012          Main Item       9\n\n[8402 rows x 5 columns]",
      "text/html": "<div>\n<style scoped>\n    .dataframe tbody tr th:only-of-type {\n        vertical-align: middle;\n    }\n\n    .dataframe tbody tr th {\n        vertical-align: top;\n    }\n\n    .dataframe thead th {\n        text-align: right;\n    }\n</style>\n<table border=\"1\" class=\"dataframe\">\n  <thead>\n    <tr style=\"text-align: right;\">\n      <th></th>\n      <th>combo_id</th>\n      <th>item_id</th>\n      <th>year</th>\n      <th>builds</th>\n      <th>cat_id</th>\n    </tr>\n  </thead>\n  <tbody>\n    <tr>\n      <th>20</th>\n      <td>103271011</td>\n      <td>10020</td>\n      <td>2012</td>\n      <td>Main Item</td>\n      <td>8</td>\n    </tr>\n    <tr>\n      <th>34</th>\n      <td>103271012</td>\n      <td>10034</td>\n      <td>2012</td>\n      <td>Main Item</td>\n      <td>8</td>\n    </tr>\n    <tr>\n      <th>35</th>\n      <td>103271013</td>\n      <td>10035</td>\n      <td>2012</td>\n      <td>Main Item</td>\n      <td>8</td>\n    </tr>\n    <tr>\n      <th>38</th>\n      <td>103271014</td>\n      <td>10038</td>\n      <td>2012</td>\n      <td>Main Item</td>\n      <td>8</td>\n    </tr>\n    <tr>\n      <th>39</th>\n      <td>103271015</td>\n      <td>10039</td>\n      <td>2012</td>\n      <td>Main Item</td>\n      <td>8</td>\n    </tr>\n    <tr>\n      <th>...</th>\n      <td>...</td>\n      <td>...</td>\n      <td>...</td>\n      <td>...</td>\n      <td>...</td>\n    </tr>\n    <tr>\n      <th>23546</th>\n      <td>11431291</td>\n      <td>730</td>\n      <td>2012</td>\n      <td>Accompanying Item</td>\n      <td>11</td>\n    </tr>\n    <tr>\n      <th>23547</th>\n      <td>11431292</td>\n      <td>730</td>\n      <td>2012</td>\n      <td>Accompanying Item</td>\n      <td>11</td>\n    </tr>\n    <tr>\n      <th>23562</th>\n      <td>2223129816</td>\n      <td>758</td>\n      <td>2012</td>\n      <td>Main Item</td>\n      <td>9</td>\n    </tr>\n    <tr>\n      <th>23602</th>\n      <td>2332731111</td>\n      <td>819</td>\n      <td>2012</td>\n      <td>Main Item</td>\n      <td>9</td>\n    </tr>\n    <tr>\n      <th>23612</th>\n      <td>2223129817</td>\n      <td>833</td>\n      <td>2012</td>\n      <td>Main Item</td>\n      <td>9</td>\n    </tr>\n  </tbody>\n</table>\n<p>8402 rows × 5 columns</p>\n</div>"
     },
     "metadata": {},
     "output_type": "display_data"
    }
   ],
   "source": [
    "dat = pd.read_csv('Customizable_Annual_Data/Annual_Data2012.csv')\n",
    "transform_data(dat, year='2012')\n"
   ],
   "metadata": {
    "collapsed": false,
    "pycharm": {
     "name": "#%%\n"
    }
   }
  },
  {
   "cell_type": "code",
   "execution_count": 136,
   "outputs": [
    {
     "data": {
      "text/plain": "       item_id  year                                 item_name  \\\n0          102  2010           1/2 lb FlameThrower GrillBurger   \n1        10296  2010   Chopped Farmhouse Chicken Salad, Crispy   \n2        10297  2010  Chopped Farmhouse Chicken Salad, Grilled   \n3        10298  2010                        Chopped Side Salad   \n4        10299  2010                  Philly Beef Toasted Subs   \n...        ...   ...                                       ...   \n10357      977  2010           Egg & Cheese Breakfast Sandwich   \n10358      978  2010  Sausage, Egg & Cheese Breakfast Sandwich   \n10359      985  2010    Breakfast Toaster, Bacon, Egg & Cheese   \n10360      987  2010      Breakfast Toaster, Ham, Egg & Cheese   \n10361      989  2010  Breakfast Toaster, Sausage, Egg & Cheese   \n\n                                        item_description  \n0               1/2 lb FlameThrower GrillBurger, Burgers  \n1      Chopped Farmhouse Chicken Salad, Crispy, w/out...  \n2      Chopped Farmhouse Chicken Salad, Grilled, w/ou...  \n3        Chopped Side Salad, Market Fresh Chopped Salads  \n4      Philly Beef Toasted Subs, Arby's Toasted Sandw...  \n...                                                  ...  \n10357  Egg & Cheese Breakfast Sandwich, Grilled Break...  \n10358  Sausage, Egg & Cheese Breakfast Sandwich, Gril...  \n10359  Breakfast Toaster, Bacon, Egg & Cheese, TOASTE...  \n10360  Breakfast Toaster, Ham, Egg & Cheese, TOASTER ...  \n10361  Breakfast Toaster, Sausage, Egg & Cheese, TOAS...  \n\n[8623 rows x 4 columns]",
      "text/html": "<div>\n<style scoped>\n    .dataframe tbody tr th:only-of-type {\n        vertical-align: middle;\n    }\n\n    .dataframe tbody tr th {\n        vertical-align: top;\n    }\n\n    .dataframe thead th {\n        text-align: right;\n    }\n</style>\n<table border=\"1\" class=\"dataframe\">\n  <thead>\n    <tr style=\"text-align: right;\">\n      <th></th>\n      <th>item_id</th>\n      <th>year</th>\n      <th>item_name</th>\n      <th>item_description</th>\n    </tr>\n  </thead>\n  <tbody>\n    <tr>\n      <th>0</th>\n      <td>102</td>\n      <td>2010</td>\n      <td>1/2 lb FlameThrower GrillBurger</td>\n      <td>1/2 lb FlameThrower GrillBurger, Burgers</td>\n    </tr>\n    <tr>\n      <th>1</th>\n      <td>10296</td>\n      <td>2010</td>\n      <td>Chopped Farmhouse Chicken Salad, Crispy</td>\n      <td>Chopped Farmhouse Chicken Salad, Crispy, w/out...</td>\n    </tr>\n    <tr>\n      <th>2</th>\n      <td>10297</td>\n      <td>2010</td>\n      <td>Chopped Farmhouse Chicken Salad, Grilled</td>\n      <td>Chopped Farmhouse Chicken Salad, Grilled, w/ou...</td>\n    </tr>\n    <tr>\n      <th>3</th>\n      <td>10298</td>\n      <td>2010</td>\n      <td>Chopped Side Salad</td>\n      <td>Chopped Side Salad, Market Fresh Chopped Salads</td>\n    </tr>\n    <tr>\n      <th>4</th>\n      <td>10299</td>\n      <td>2010</td>\n      <td>Philly Beef Toasted Subs</td>\n      <td>Philly Beef Toasted Subs, Arby's Toasted Sandw...</td>\n    </tr>\n    <tr>\n      <th>...</th>\n      <td>...</td>\n      <td>...</td>\n      <td>...</td>\n      <td>...</td>\n    </tr>\n    <tr>\n      <th>10357</th>\n      <td>977</td>\n      <td>2010</td>\n      <td>Egg &amp; Cheese Breakfast Sandwich</td>\n      <td>Egg &amp; Cheese Breakfast Sandwich, Grilled Break...</td>\n    </tr>\n    <tr>\n      <th>10358</th>\n      <td>978</td>\n      <td>2010</td>\n      <td>Sausage, Egg &amp; Cheese Breakfast Sandwich</td>\n      <td>Sausage, Egg &amp; Cheese Breakfast Sandwich, Gril...</td>\n    </tr>\n    <tr>\n      <th>10359</th>\n      <td>985</td>\n      <td>2010</td>\n      <td>Breakfast Toaster, Bacon, Egg &amp; Cheese</td>\n      <td>Breakfast Toaster, Bacon, Egg &amp; Cheese, TOASTE...</td>\n    </tr>\n    <tr>\n      <th>10360</th>\n      <td>987</td>\n      <td>2010</td>\n      <td>Breakfast Toaster, Ham, Egg &amp; Cheese</td>\n      <td>Breakfast Toaster, Ham, Egg &amp; Cheese, TOASTER ...</td>\n    </tr>\n    <tr>\n      <th>10361</th>\n      <td>989</td>\n      <td>2010</td>\n      <td>Breakfast Toaster, Sausage, Egg &amp; Cheese</td>\n      <td>Breakfast Toaster, Sausage, Egg &amp; Cheese, TOAS...</td>\n    </tr>\n  </tbody>\n</table>\n<p>8623 rows × 4 columns</p>\n</div>"
     },
     "metadata": {},
     "output_type": "display_data"
    },
    {
     "name": "stdout",
     "output_type": "stream",
     "text": [
      "0\n",
      "0\n",
      "0\n",
      "0\n",
      "0\n",
      "65\n",
      "0\n",
      "0\n",
      "0\n",
      "0\n",
      "0\n",
      "0\n"
     ]
    },
    {
     "data": {
      "text/plain": "       item_id  year  r_id  cat_id  calories  total_fat  saturated_fat  \\\n0          102  2010  24.0       3    1060.0       75.0           26.0   \n1        10296  2010   2.0       8     460.0       25.0            9.0   \n2        10297  2010   2.0       8     260.0       14.0            7.0   \n3        10298  2010   2.0       8      70.0        5.0            3.0   \n4        10299  2010   2.0       9     570.0       27.0            8.0   \n...        ...   ...   ...     ...       ...        ...            ...   \n10357      977  2010  65.0       9     380.0       14.0            6.0   \n10358      978  2010  65.0       9     550.0       30.0           12.0   \n10359      985  2010  81.0       9     530.0       32.0           10.0   \n10360      987  2010  81.0       9     490.0       26.0            8.0   \n10361      989  2010  81.0       9     620.0       42.0           13.0   \n\n       trans_fat  cholesterol  sodium  potassium  carbs  protein  sugar  \\\n0            2.0        165.0  1980.0        NaN   41.0     54.0    9.0   \n1            0.0         65.0  1090.0        NaN   29.0     32.0    5.0   \n2            0.0         70.0   770.0        NaN   10.0     26.0    5.0   \n3            0.0         15.0   100.0        NaN    4.0      4.0    2.0   \n4            1.0         65.0  1490.0        NaN   55.0     29.0    3.0   \n...          ...          ...     ...        ...    ...      ...    ...   \n10357        0.0        190.0   620.0        NaN   43.0     18.0    1.0   \n10358        0.0        220.0   800.0        NaN   44.0     25.0    2.0   \n10359        5.0        325.0  1440.0        NaN   40.0     20.0    7.0   \n10360        5.0        325.0  1700.0        NaN   40.0     24.0    6.0   \n10361        1.0        340.0  1380.0        NaN   40.0     20.0    6.0   \n\n       dietary_Fiber  \n0                2.0  \n1                4.0  \n2                3.0  \n3                1.0  \n4                3.0  \n...              ...  \n10357            2.0  \n10358            2.0  \n10359            2.0  \n10360            2.0  \n10361            2.0  \n\n[8623 rows x 15 columns]",
      "text/html": "<div>\n<style scoped>\n    .dataframe tbody tr th:only-of-type {\n        vertical-align: middle;\n    }\n\n    .dataframe tbody tr th {\n        vertical-align: top;\n    }\n\n    .dataframe thead th {\n        text-align: right;\n    }\n</style>\n<table border=\"1\" class=\"dataframe\">\n  <thead>\n    <tr style=\"text-align: right;\">\n      <th></th>\n      <th>item_id</th>\n      <th>year</th>\n      <th>r_id</th>\n      <th>cat_id</th>\n      <th>calories</th>\n      <th>total_fat</th>\n      <th>saturated_fat</th>\n      <th>trans_fat</th>\n      <th>cholesterol</th>\n      <th>sodium</th>\n      <th>potassium</th>\n      <th>carbs</th>\n      <th>protein</th>\n      <th>sugar</th>\n      <th>dietary_Fiber</th>\n    </tr>\n  </thead>\n  <tbody>\n    <tr>\n      <th>0</th>\n      <td>102</td>\n      <td>2010</td>\n      <td>24.0</td>\n      <td>3</td>\n      <td>1060.0</td>\n      <td>75.0</td>\n      <td>26.0</td>\n      <td>2.0</td>\n      <td>165.0</td>\n      <td>1980.0</td>\n      <td>NaN</td>\n      <td>41.0</td>\n      <td>54.0</td>\n      <td>9.0</td>\n      <td>2.0</td>\n    </tr>\n    <tr>\n      <th>1</th>\n      <td>10296</td>\n      <td>2010</td>\n      <td>2.0</td>\n      <td>8</td>\n      <td>460.0</td>\n      <td>25.0</td>\n      <td>9.0</td>\n      <td>0.0</td>\n      <td>65.0</td>\n      <td>1090.0</td>\n      <td>NaN</td>\n      <td>29.0</td>\n      <td>32.0</td>\n      <td>5.0</td>\n      <td>4.0</td>\n    </tr>\n    <tr>\n      <th>2</th>\n      <td>10297</td>\n      <td>2010</td>\n      <td>2.0</td>\n      <td>8</td>\n      <td>260.0</td>\n      <td>14.0</td>\n      <td>7.0</td>\n      <td>0.0</td>\n      <td>70.0</td>\n      <td>770.0</td>\n      <td>NaN</td>\n      <td>10.0</td>\n      <td>26.0</td>\n      <td>5.0</td>\n      <td>3.0</td>\n    </tr>\n    <tr>\n      <th>3</th>\n      <td>10298</td>\n      <td>2010</td>\n      <td>2.0</td>\n      <td>8</td>\n      <td>70.0</td>\n      <td>5.0</td>\n      <td>3.0</td>\n      <td>0.0</td>\n      <td>15.0</td>\n      <td>100.0</td>\n      <td>NaN</td>\n      <td>4.0</td>\n      <td>4.0</td>\n      <td>2.0</td>\n      <td>1.0</td>\n    </tr>\n    <tr>\n      <th>4</th>\n      <td>10299</td>\n      <td>2010</td>\n      <td>2.0</td>\n      <td>9</td>\n      <td>570.0</td>\n      <td>27.0</td>\n      <td>8.0</td>\n      <td>1.0</td>\n      <td>65.0</td>\n      <td>1490.0</td>\n      <td>NaN</td>\n      <td>55.0</td>\n      <td>29.0</td>\n      <td>3.0</td>\n      <td>3.0</td>\n    </tr>\n    <tr>\n      <th>...</th>\n      <td>...</td>\n      <td>...</td>\n      <td>...</td>\n      <td>...</td>\n      <td>...</td>\n      <td>...</td>\n      <td>...</td>\n      <td>...</td>\n      <td>...</td>\n      <td>...</td>\n      <td>...</td>\n      <td>...</td>\n      <td>...</td>\n      <td>...</td>\n      <td>...</td>\n    </tr>\n    <tr>\n      <th>10357</th>\n      <td>977</td>\n      <td>2010</td>\n      <td>65.0</td>\n      <td>9</td>\n      <td>380.0</td>\n      <td>14.0</td>\n      <td>6.0</td>\n      <td>0.0</td>\n      <td>190.0</td>\n      <td>620.0</td>\n      <td>NaN</td>\n      <td>43.0</td>\n      <td>18.0</td>\n      <td>1.0</td>\n      <td>2.0</td>\n    </tr>\n    <tr>\n      <th>10358</th>\n      <td>978</td>\n      <td>2010</td>\n      <td>65.0</td>\n      <td>9</td>\n      <td>550.0</td>\n      <td>30.0</td>\n      <td>12.0</td>\n      <td>0.0</td>\n      <td>220.0</td>\n      <td>800.0</td>\n      <td>NaN</td>\n      <td>44.0</td>\n      <td>25.0</td>\n      <td>2.0</td>\n      <td>2.0</td>\n    </tr>\n    <tr>\n      <th>10359</th>\n      <td>985</td>\n      <td>2010</td>\n      <td>81.0</td>\n      <td>9</td>\n      <td>530.0</td>\n      <td>32.0</td>\n      <td>10.0</td>\n      <td>5.0</td>\n      <td>325.0</td>\n      <td>1440.0</td>\n      <td>NaN</td>\n      <td>40.0</td>\n      <td>20.0</td>\n      <td>7.0</td>\n      <td>2.0</td>\n    </tr>\n    <tr>\n      <th>10360</th>\n      <td>987</td>\n      <td>2010</td>\n      <td>81.0</td>\n      <td>9</td>\n      <td>490.0</td>\n      <td>26.0</td>\n      <td>8.0</td>\n      <td>5.0</td>\n      <td>325.0</td>\n      <td>1700.0</td>\n      <td>NaN</td>\n      <td>40.0</td>\n      <td>24.0</td>\n      <td>6.0</td>\n      <td>2.0</td>\n    </tr>\n    <tr>\n      <th>10361</th>\n      <td>989</td>\n      <td>2010</td>\n      <td>81.0</td>\n      <td>9</td>\n      <td>620.0</td>\n      <td>42.0</td>\n      <td>13.0</td>\n      <td>1.0</td>\n      <td>340.0</td>\n      <td>1380.0</td>\n      <td>NaN</td>\n      <td>40.0</td>\n      <td>20.0</td>\n      <td>6.0</td>\n      <td>2.0</td>\n    </tr>\n  </tbody>\n</table>\n<p>8623 rows × 15 columns</p>\n</div>"
     },
     "metadata": {},
     "output_type": "display_data"
    },
    {
     "data": {
      "text/plain": "        combo_id  item_id  year             builds  cat_id\n1       10241061    10296  2010          Main Item       8\n2       10241062    10297  2010          Main Item       8\n11      10231031    10357  2010          Main Item       5\n12      10231032    10358  2010          Main Item       5\n21      10231031    10392  2010  Accompanying Item      11\n...          ...      ...   ...                ...     ...\n10266  223211601    86031  2010  Accompanying Item      11\n10271  223311551    86035  2010  Accompanying Item      11\n10272  223311552    86035  2010  Accompanying Item      11\n10279  156656431    86042  2010          Main Item       9\n10280   17458271    86044  2010          Main Item       5\n\n[2116 rows x 5 columns]",
      "text/html": "<div>\n<style scoped>\n    .dataframe tbody tr th:only-of-type {\n        vertical-align: middle;\n    }\n\n    .dataframe tbody tr th {\n        vertical-align: top;\n    }\n\n    .dataframe thead th {\n        text-align: right;\n    }\n</style>\n<table border=\"1\" class=\"dataframe\">\n  <thead>\n    <tr style=\"text-align: right;\">\n      <th></th>\n      <th>combo_id</th>\n      <th>item_id</th>\n      <th>year</th>\n      <th>builds</th>\n      <th>cat_id</th>\n    </tr>\n  </thead>\n  <tbody>\n    <tr>\n      <th>1</th>\n      <td>10241061</td>\n      <td>10296</td>\n      <td>2010</td>\n      <td>Main Item</td>\n      <td>8</td>\n    </tr>\n    <tr>\n      <th>2</th>\n      <td>10241062</td>\n      <td>10297</td>\n      <td>2010</td>\n      <td>Main Item</td>\n      <td>8</td>\n    </tr>\n    <tr>\n      <th>11</th>\n      <td>10231031</td>\n      <td>10357</td>\n      <td>2010</td>\n      <td>Main Item</td>\n      <td>5</td>\n    </tr>\n    <tr>\n      <th>12</th>\n      <td>10231032</td>\n      <td>10358</td>\n      <td>2010</td>\n      <td>Main Item</td>\n      <td>5</td>\n    </tr>\n    <tr>\n      <th>21</th>\n      <td>10231031</td>\n      <td>10392</td>\n      <td>2010</td>\n      <td>Accompanying Item</td>\n      <td>11</td>\n    </tr>\n    <tr>\n      <th>...</th>\n      <td>...</td>\n      <td>...</td>\n      <td>...</td>\n      <td>...</td>\n      <td>...</td>\n    </tr>\n    <tr>\n      <th>10266</th>\n      <td>223211601</td>\n      <td>86031</td>\n      <td>2010</td>\n      <td>Accompanying Item</td>\n      <td>11</td>\n    </tr>\n    <tr>\n      <th>10271</th>\n      <td>223311551</td>\n      <td>86035</td>\n      <td>2010</td>\n      <td>Accompanying Item</td>\n      <td>11</td>\n    </tr>\n    <tr>\n      <th>10272</th>\n      <td>223311552</td>\n      <td>86035</td>\n      <td>2010</td>\n      <td>Accompanying Item</td>\n      <td>11</td>\n    </tr>\n    <tr>\n      <th>10279</th>\n      <td>156656431</td>\n      <td>86042</td>\n      <td>2010</td>\n      <td>Main Item</td>\n      <td>9</td>\n    </tr>\n    <tr>\n      <th>10280</th>\n      <td>17458271</td>\n      <td>86044</td>\n      <td>2010</td>\n      <td>Main Item</td>\n      <td>5</td>\n    </tr>\n  </tbody>\n</table>\n<p>2116 rows × 5 columns</p>\n</div>"
     },
     "metadata": {},
     "output_type": "display_data"
    }
   ],
   "source": [
    "dat = pd.read_csv('Customizable_Annual_Data/Annual_Data2010.csv')\n",
    "transform_data(dat, year='2010')"
   ],
   "metadata": {
    "collapsed": false,
    "pycharm": {
     "name": "#%%\n"
    }
   }
  },
  {
   "cell_type": "code",
   "execution_count": 137,
   "outputs": [
    {
     "data": {
      "text/plain": "       item_id  year                                   item_name  \\\n0          100  2008             ButterBurger Cheese, Kids Meals   \n1       100353  2008              Chicken Florentine w/ Dressing   \n2         1009  2008    Western w/ Cheese Breakfast Sandwich, 6\"   \n3       101776  2008         Vanilla Latte w/ Whole Milk, Grande   \n4       102444  2008                             Guacamole, Side   \n...        ...   ...                                         ...   \n11673      989  2008  Breakfast Toaster w/ Sausage, Egg & Cheese   \n11674    99121  2008                Frontega Chicken on Focaccia   \n11675      996  2008                     Breakfast Sausage Bagel   \n11676      997  2008                       Breakfast Bacon Bagel   \n11677      998  2008                 Breakfast Steakburger Bagel   \n\n                                        item_description  \n0                  ButterBurger Cheese, Kids Meals, Kids  \n1      Chicken Florentine w/ Dressing, Insalata Salad...  \n2      Western w/ Cheese Breakfast Sandwich, Breakfas...  \n3                    Vanilla Latte w/ Whole Milk, Grande  \n4                           Guacamole, Side, Specialties  \n...                                                  ...  \n11673  Breakfast Toaster w/ Sausage, Egg & Cheese, Br...  \n11674  Frontega Chicken on Focaccia, Hot Panini, From...  \n11675                 Breakfast Sausage Bagel, Breakfast  \n11676                   Breakfast Bacon Bagel, Breakfast  \n11677             Breakfast Steakburger Bagel, Breakfast  \n\n[7807 rows x 4 columns]",
      "text/html": "<div>\n<style scoped>\n    .dataframe tbody tr th:only-of-type {\n        vertical-align: middle;\n    }\n\n    .dataframe tbody tr th {\n        vertical-align: top;\n    }\n\n    .dataframe thead th {\n        text-align: right;\n    }\n</style>\n<table border=\"1\" class=\"dataframe\">\n  <thead>\n    <tr style=\"text-align: right;\">\n      <th></th>\n      <th>item_id</th>\n      <th>year</th>\n      <th>item_name</th>\n      <th>item_description</th>\n    </tr>\n  </thead>\n  <tbody>\n    <tr>\n      <th>0</th>\n      <td>100</td>\n      <td>2008</td>\n      <td>ButterBurger Cheese, Kids Meals</td>\n      <td>ButterBurger Cheese, Kids Meals, Kids</td>\n    </tr>\n    <tr>\n      <th>1</th>\n      <td>100353</td>\n      <td>2008</td>\n      <td>Chicken Florentine w/ Dressing</td>\n      <td>Chicken Florentine w/ Dressing, Insalata Salad...</td>\n    </tr>\n    <tr>\n      <th>2</th>\n      <td>1009</td>\n      <td>2008</td>\n      <td>Western w/ Cheese Breakfast Sandwich, 6\"</td>\n      <td>Western w/ Cheese Breakfast Sandwich, Breakfas...</td>\n    </tr>\n    <tr>\n      <th>3</th>\n      <td>101776</td>\n      <td>2008</td>\n      <td>Vanilla Latte w/ Whole Milk, Grande</td>\n      <td>Vanilla Latte w/ Whole Milk, Grande</td>\n    </tr>\n    <tr>\n      <th>4</th>\n      <td>102444</td>\n      <td>2008</td>\n      <td>Guacamole, Side</td>\n      <td>Guacamole, Side, Specialties</td>\n    </tr>\n    <tr>\n      <th>...</th>\n      <td>...</td>\n      <td>...</td>\n      <td>...</td>\n      <td>...</td>\n    </tr>\n    <tr>\n      <th>11673</th>\n      <td>989</td>\n      <td>2008</td>\n      <td>Breakfast Toaster w/ Sausage, Egg &amp; Cheese</td>\n      <td>Breakfast Toaster w/ Sausage, Egg &amp; Cheese, Br...</td>\n    </tr>\n    <tr>\n      <th>11674</th>\n      <td>99121</td>\n      <td>2008</td>\n      <td>Frontega Chicken on Focaccia</td>\n      <td>Frontega Chicken on Focaccia, Hot Panini, From...</td>\n    </tr>\n    <tr>\n      <th>11675</th>\n      <td>996</td>\n      <td>2008</td>\n      <td>Breakfast Sausage Bagel</td>\n      <td>Breakfast Sausage Bagel, Breakfast</td>\n    </tr>\n    <tr>\n      <th>11676</th>\n      <td>997</td>\n      <td>2008</td>\n      <td>Breakfast Bacon Bagel</td>\n      <td>Breakfast Bacon Bagel, Breakfast</td>\n    </tr>\n    <tr>\n      <th>11677</th>\n      <td>998</td>\n      <td>2008</td>\n      <td>Breakfast Steakburger Bagel</td>\n      <td>Breakfast Steakburger Bagel, Breakfast</td>\n    </tr>\n  </tbody>\n</table>\n<p>7807 rows × 4 columns</p>\n</div>"
     },
     "metadata": {},
     "output_type": "display_data"
    },
    {
     "name": "stdout",
     "output_type": "stream",
     "text": [
      "0\n",
      "0\n",
      "0\n",
      "0\n",
      "0\n",
      "85\n",
      "0\n",
      "0\n",
      "0\n",
      "0\n",
      "0\n",
      "0\n"
     ]
    },
    {
     "data": {
      "text/plain": "       item_id  year  r_id  cat_id  calories  total_fat  saturated_fat  \\\n0          100  2008  23.0       3     396.0       20.0            8.0   \n1       100353  2008  76.0       8     840.0       53.0            8.0   \n2         1009  2008  84.0       9     450.0       19.0            8.0   \n3       101776  2008  82.0       2     280.0       11.0            6.0   \n4       102444  2008  86.0      11      70.0        5.0            1.0   \n...        ...   ...   ...     ...       ...        ...            ...   \n11673      989  2008  81.0       9     620.0       42.0           13.0   \n11674    99121  2008  65.0       9     810.0       34.0            9.0   \n11675      996  2008  83.0       9     576.0      295.0          115.0   \n11676      997  2008  83.0       9     458.0      165.0            7.0   \n11677      998  2008  83.0       9     460.0      155.0            7.0   \n\n       trans_fat  cholesterol  sodium  potassium  carbs  protein  sugar  \\\n0            1.0         78.0   955.0        NaN   36.0     22.0    NaN   \n1            NaN          NaN  5460.0        NaN   62.0     33.0    NaN   \n2            0.0        200.0  1390.0        NaN   46.0     28.0    6.0   \n3            0.0         35.0   135.0        NaN   36.0     11.0   33.0   \n4            0.0          0.0   180.0        NaN    5.0      1.0    1.0   \n...          ...          ...     ...        ...    ...      ...    ...   \n11673        1.0        340.0  1380.0        NaN   40.0     20.0    6.0   \n11674        5.0        100.0  2140.0        NaN   79.0     45.0    6.0   \n11675        0.0        212.0  1120.0        NaN   51.0     26.0    6.0   \n11676        0.0        193.0  1102.0        NaN   51.0     25.0    7.0   \n11677        5.0        205.0   795.0        NaN   50.0     27.0    6.0   \n\n       dietary_Fiber  \n0                1.0  \n1                7.0  \n2                5.0  \n3                0.0  \n4                2.0  \n...              ...  \n11673            2.0  \n11674            5.0  \n11675            2.0  \n11676            2.0  \n11677            2.0  \n\n[7807 rows x 15 columns]",
      "text/html": "<div>\n<style scoped>\n    .dataframe tbody tr th:only-of-type {\n        vertical-align: middle;\n    }\n\n    .dataframe tbody tr th {\n        vertical-align: top;\n    }\n\n    .dataframe thead th {\n        text-align: right;\n    }\n</style>\n<table border=\"1\" class=\"dataframe\">\n  <thead>\n    <tr style=\"text-align: right;\">\n      <th></th>\n      <th>item_id</th>\n      <th>year</th>\n      <th>r_id</th>\n      <th>cat_id</th>\n      <th>calories</th>\n      <th>total_fat</th>\n      <th>saturated_fat</th>\n      <th>trans_fat</th>\n      <th>cholesterol</th>\n      <th>sodium</th>\n      <th>potassium</th>\n      <th>carbs</th>\n      <th>protein</th>\n      <th>sugar</th>\n      <th>dietary_Fiber</th>\n    </tr>\n  </thead>\n  <tbody>\n    <tr>\n      <th>0</th>\n      <td>100</td>\n      <td>2008</td>\n      <td>23.0</td>\n      <td>3</td>\n      <td>396.0</td>\n      <td>20.0</td>\n      <td>8.0</td>\n      <td>1.0</td>\n      <td>78.0</td>\n      <td>955.0</td>\n      <td>NaN</td>\n      <td>36.0</td>\n      <td>22.0</td>\n      <td>NaN</td>\n      <td>1.0</td>\n    </tr>\n    <tr>\n      <th>1</th>\n      <td>100353</td>\n      <td>2008</td>\n      <td>76.0</td>\n      <td>8</td>\n      <td>840.0</td>\n      <td>53.0</td>\n      <td>8.0</td>\n      <td>NaN</td>\n      <td>NaN</td>\n      <td>5460.0</td>\n      <td>NaN</td>\n      <td>62.0</td>\n      <td>33.0</td>\n      <td>NaN</td>\n      <td>7.0</td>\n    </tr>\n    <tr>\n      <th>2</th>\n      <td>1009</td>\n      <td>2008</td>\n      <td>84.0</td>\n      <td>9</td>\n      <td>450.0</td>\n      <td>19.0</td>\n      <td>8.0</td>\n      <td>0.0</td>\n      <td>200.0</td>\n      <td>1390.0</td>\n      <td>NaN</td>\n      <td>46.0</td>\n      <td>28.0</td>\n      <td>6.0</td>\n      <td>5.0</td>\n    </tr>\n    <tr>\n      <th>3</th>\n      <td>101776</td>\n      <td>2008</td>\n      <td>82.0</td>\n      <td>2</td>\n      <td>280.0</td>\n      <td>11.0</td>\n      <td>6.0</td>\n      <td>0.0</td>\n      <td>35.0</td>\n      <td>135.0</td>\n      <td>NaN</td>\n      <td>36.0</td>\n      <td>11.0</td>\n      <td>33.0</td>\n      <td>0.0</td>\n    </tr>\n    <tr>\n      <th>4</th>\n      <td>102444</td>\n      <td>2008</td>\n      <td>86.0</td>\n      <td>11</td>\n      <td>70.0</td>\n      <td>5.0</td>\n      <td>1.0</td>\n      <td>0.0</td>\n      <td>0.0</td>\n      <td>180.0</td>\n      <td>NaN</td>\n      <td>5.0</td>\n      <td>1.0</td>\n      <td>1.0</td>\n      <td>2.0</td>\n    </tr>\n    <tr>\n      <th>...</th>\n      <td>...</td>\n      <td>...</td>\n      <td>...</td>\n      <td>...</td>\n      <td>...</td>\n      <td>...</td>\n      <td>...</td>\n      <td>...</td>\n      <td>...</td>\n      <td>...</td>\n      <td>...</td>\n      <td>...</td>\n      <td>...</td>\n      <td>...</td>\n      <td>...</td>\n    </tr>\n    <tr>\n      <th>11673</th>\n      <td>989</td>\n      <td>2008</td>\n      <td>81.0</td>\n      <td>9</td>\n      <td>620.0</td>\n      <td>42.0</td>\n      <td>13.0</td>\n      <td>1.0</td>\n      <td>340.0</td>\n      <td>1380.0</td>\n      <td>NaN</td>\n      <td>40.0</td>\n      <td>20.0</td>\n      <td>6.0</td>\n      <td>2.0</td>\n    </tr>\n    <tr>\n      <th>11674</th>\n      <td>99121</td>\n      <td>2008</td>\n      <td>65.0</td>\n      <td>9</td>\n      <td>810.0</td>\n      <td>34.0</td>\n      <td>9.0</td>\n      <td>5.0</td>\n      <td>100.0</td>\n      <td>2140.0</td>\n      <td>NaN</td>\n      <td>79.0</td>\n      <td>45.0</td>\n      <td>6.0</td>\n      <td>5.0</td>\n    </tr>\n    <tr>\n      <th>11675</th>\n      <td>996</td>\n      <td>2008</td>\n      <td>83.0</td>\n      <td>9</td>\n      <td>576.0</td>\n      <td>295.0</td>\n      <td>115.0</td>\n      <td>0.0</td>\n      <td>212.0</td>\n      <td>1120.0</td>\n      <td>NaN</td>\n      <td>51.0</td>\n      <td>26.0</td>\n      <td>6.0</td>\n      <td>2.0</td>\n    </tr>\n    <tr>\n      <th>11676</th>\n      <td>997</td>\n      <td>2008</td>\n      <td>83.0</td>\n      <td>9</td>\n      <td>458.0</td>\n      <td>165.0</td>\n      <td>7.0</td>\n      <td>0.0</td>\n      <td>193.0</td>\n      <td>1102.0</td>\n      <td>NaN</td>\n      <td>51.0</td>\n      <td>25.0</td>\n      <td>7.0</td>\n      <td>2.0</td>\n    </tr>\n    <tr>\n      <th>11677</th>\n      <td>998</td>\n      <td>2008</td>\n      <td>83.0</td>\n      <td>9</td>\n      <td>460.0</td>\n      <td>155.0</td>\n      <td>7.0</td>\n      <td>5.0</td>\n      <td>205.0</td>\n      <td>795.0</td>\n      <td>NaN</td>\n      <td>50.0</td>\n      <td>27.0</td>\n      <td>6.0</td>\n      <td>2.0</td>\n    </tr>\n  </tbody>\n</table>\n<p>7807 rows × 15 columns</p>\n</div>"
     },
     "metadata": {},
     "output_type": "display_data"
    },
    {
     "data": {
      "text/plain": "         combo_id  item_id  year             builds  cat_id\n124     103871011    10508  2008  Accompanying Item      11\n125    1038710110    10508  2008  Accompanying Item      11\n126    1038710111    10508  2008  Accompanying Item      11\n127    1038710112    10508  2008  Accompanying Item      11\n128    1038710113    10508  2008  Accompanying Item      11\n...           ...      ...   ...                ...     ...\n11556    16822481    86031  2008  Accompanying Item      11\n11590  1038710163    90970  2008          Main Item       4\n11591  1038710164    90972  2008          Main Item       4\n11597   108181102    91453  2008          Main Item       5\n11602   112201185    92163  2008          Main Item       3\n\n[4395 rows x 5 columns]",
      "text/html": "<div>\n<style scoped>\n    .dataframe tbody tr th:only-of-type {\n        vertical-align: middle;\n    }\n\n    .dataframe tbody tr th {\n        vertical-align: top;\n    }\n\n    .dataframe thead th {\n        text-align: right;\n    }\n</style>\n<table border=\"1\" class=\"dataframe\">\n  <thead>\n    <tr style=\"text-align: right;\">\n      <th></th>\n      <th>combo_id</th>\n      <th>item_id</th>\n      <th>year</th>\n      <th>builds</th>\n      <th>cat_id</th>\n    </tr>\n  </thead>\n  <tbody>\n    <tr>\n      <th>124</th>\n      <td>103871011</td>\n      <td>10508</td>\n      <td>2008</td>\n      <td>Accompanying Item</td>\n      <td>11</td>\n    </tr>\n    <tr>\n      <th>125</th>\n      <td>1038710110</td>\n      <td>10508</td>\n      <td>2008</td>\n      <td>Accompanying Item</td>\n      <td>11</td>\n    </tr>\n    <tr>\n      <th>126</th>\n      <td>1038710111</td>\n      <td>10508</td>\n      <td>2008</td>\n      <td>Accompanying Item</td>\n      <td>11</td>\n    </tr>\n    <tr>\n      <th>127</th>\n      <td>1038710112</td>\n      <td>10508</td>\n      <td>2008</td>\n      <td>Accompanying Item</td>\n      <td>11</td>\n    </tr>\n    <tr>\n      <th>128</th>\n      <td>1038710113</td>\n      <td>10508</td>\n      <td>2008</td>\n      <td>Accompanying Item</td>\n      <td>11</td>\n    </tr>\n    <tr>\n      <th>...</th>\n      <td>...</td>\n      <td>...</td>\n      <td>...</td>\n      <td>...</td>\n      <td>...</td>\n    </tr>\n    <tr>\n      <th>11556</th>\n      <td>16822481</td>\n      <td>86031</td>\n      <td>2008</td>\n      <td>Accompanying Item</td>\n      <td>11</td>\n    </tr>\n    <tr>\n      <th>11590</th>\n      <td>1038710163</td>\n      <td>90970</td>\n      <td>2008</td>\n      <td>Main Item</td>\n      <td>4</td>\n    </tr>\n    <tr>\n      <th>11591</th>\n      <td>1038710164</td>\n      <td>90972</td>\n      <td>2008</td>\n      <td>Main Item</td>\n      <td>4</td>\n    </tr>\n    <tr>\n      <th>11597</th>\n      <td>108181102</td>\n      <td>91453</td>\n      <td>2008</td>\n      <td>Main Item</td>\n      <td>5</td>\n    </tr>\n    <tr>\n      <th>11602</th>\n      <td>112201185</td>\n      <td>92163</td>\n      <td>2008</td>\n      <td>Main Item</td>\n      <td>3</td>\n    </tr>\n  </tbody>\n</table>\n<p>4395 rows × 5 columns</p>\n</div>"
     },
     "metadata": {},
     "output_type": "display_data"
    }
   ],
   "source": [
    "dat = pd.read_csv('Customizable_Annual_Data/Annual_Data2008.csv')\n",
    "transform_data(dat, year='2008')"
   ],
   "metadata": {
    "collapsed": false,
    "pycharm": {
     "name": "#%%\n"
    }
   }
  },
  {
   "cell_type": "code",
   "execution_count": null,
   "outputs": [],
   "source": [],
   "metadata": {
    "collapsed": false,
    "pycharm": {
     "name": "#%%\n"
    }
   }
  },
  {
   "cell_type": "markdown",
   "source": [
    "### Note:\n",
    "\n",
    "We have a small amount of NULLs in restaurant id column in year 2008, 2010, and 2012\n",
    "which means that these restaurants were no longer in the menu data record in later years.\n",
    "So they are ok to ignore."
   ],
   "metadata": {
    "collapsed": false,
    "pycharm": {
     "name": "#%% md\n"
    }
   }
  }
 ],
 "metadata": {
  "kernelspec": {
   "display_name": "Python 3",
   "language": "python",
   "name": "python3"
  },
  "language_info": {
   "codemirror_mode": {
    "name": "ipython",
    "version": 2
   },
   "file_extension": ".py",
   "mimetype": "text/x-python",
   "name": "python",
   "nbconvert_exporter": "python",
   "pygments_lexer": "ipython2",
   "version": "2.7.6"
  }
 },
 "nbformat": 4,
 "nbformat_minor": 0
}