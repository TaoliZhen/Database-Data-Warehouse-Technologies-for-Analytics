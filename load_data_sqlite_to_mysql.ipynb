{
 "cells": [
  {
   "cell_type": "markdown",
   "metadata": {
    "collapsed": true,
    "pycharm": {
     "name": "#%% md\n"
    }
   },
   "source": [
    "# SQLite Python: Inserting Data\n",
    "Reference: https://www.sqlitetutorial.net/sqlite-python/"
   ]
  },
  {
   "cell_type": "code",
   "execution_count": 4,
   "outputs": [],
   "source": [
    "import pandas as pd\n",
    "import sqlite3\n",
    "import sqlalchemy\n",
    "from IPython.display import display\n"
   ],
   "metadata": {
    "collapsed": false,
    "pycharm": {
     "name": "#%%\n"
    }
   }
  },
  {
   "cell_type": "markdown",
   "source": [
    "### Create a new SQLite database\n",
    "If there is the menu_data.db file, then this function will connect to the database.\n",
    "If the menu_data.db file doesn't exist, then this function will create a new database file.\n"
   ],
   "metadata": {
    "collapsed": false,
    "pycharm": {
     "name": "#%% md\n"
    }
   }
  },
  {
   "cell_type": "code",
   "execution_count": 66,
   "outputs": [
    {
     "name": "stdout",
     "output_type": "stream",
     "text": [
      "menu_data.db connected/created successfully\n",
      "SQLite version: 2.6.0\n"
     ]
    }
   ],
   "source": [
    "def create_sqlite_database(db_file):\n",
    "    \"\"\" create a database connection to a SQLite database \"\"\"\n",
    "    conn = None\n",
    "    try:\n",
    "        conn = sqlite3.connect(db_file)\n",
    "        print(db_file, \"connected/created successfully\")\n",
    "        print(\"SQLite version:\", sqlite3.version)\n",
    "    except sqlite3.Error as e:\n",
    "        print(e)\n",
    "    finally:\n",
    "        if conn:\n",
    "            conn.close()\n",
    "\n",
    "if __name__ == '__main__':\n",
    "    create_sqlite_database(r\"menu_data.db\")"
   ],
   "metadata": {
    "collapsed": false,
    "pycharm": {
     "name": "#%%\n"
    }
   }
  },
  {
   "cell_type": "markdown",
   "source": [
    "### Use the create_connection function, the create_table function, and the main function\n",
    "### to create tables, define attribute domains, and define constrains\n",
    "Note that, tables are defined and created, don't have to run this chunk of code"
   ],
   "metadata": {
    "collapsed": false
   }
  },
  {
   "cell_type": "code",
   "execution_count": 67,
   "outputs": [],
   "source": [
    "def create_connection(db_file):\n",
    "    \"\"\" create a database connection to the SQLite database\n",
    "        specified by db_file\n",
    "    :param db_file: database file\n",
    "    :return: Connection object or None\n",
    "    \"\"\"\n",
    "    conn = None\n",
    "    try:\n",
    "        conn = sqlite3.connect(db_file)\n",
    "        return conn\n",
    "    except sqlite3.Error as e:\n",
    "        print(e)\n",
    "\n",
    "    return conn\n",
    "\n",
    "def create_table(conn, create_table_sql):\n",
    "    \"\"\" create a table from the create_table_sql statement\n",
    "    :param conn: Connection object\n",
    "    :param create_table_sql: a CREATE TABLE statement\n",
    "    :return:\n",
    "    \"\"\"\n",
    "    try:\n",
    "        c = conn.cursor()\n",
    "        c.execute(create_table_sql)\n",
    "    except sqlite3.Error as e:\n",
    "        print(e)\n",
    "\n",
    "### Create the main function to create tables\n",
    "def main():\n",
    "    sql_create_restaurant_table = \"\"\" CREATE TABLE IF NOT EXISTS restaurant (\n",
    "                                        r_id integer PRIMARY KEY,\n",
    "                                        r_name text NOT NULL\n",
    "                                    ); \"\"\"\n",
    "\n",
    "    sql_create_food_category_table = \"\"\"CREATE TABLE IF NOT EXISTS food_category (\n",
    "                                    cat_id integer PRIMARY KEY,\n",
    "                                    cat_name text NOT NULL\n",
    "                                );\"\"\"\n",
    "\n",
    "    sql_create_item_info_table = \"\"\"CREATE TABLE IF NOT EXISTS item_info (\n",
    "                                    item_id integer NOT NULL,\n",
    "                                    year integer NOT NULL,\n",
    "                                    item_name text NOT NULL,\n",
    "                                    item_description text,\n",
    "                                    PRIMARY KEY (item_id, year)\n",
    "                                );\"\"\"\n",
    "\n",
    "    sql_create_nutrition_facts_table = \"\"\"CREATE TABLE IF NOT EXISTS nutrition_facts (\n",
    "                                    item_id integer NOT NULL,\n",
    "                                    year integer NOT NULL,\n",
    "                                    r_id integer,\n",
    "                                    cat_id integer,\n",
    "                                    calories integer,\n",
    "                                    total_fat integer,\n",
    "                                    saturated_fat integer,\n",
    "                                    trans_fat integer,\n",
    "                                    cholesterol integer,\n",
    "                                    sodium integer,\n",
    "                                    potassium integer,\n",
    "                                    carbs integer,\n",
    "                                    protein integer,\n",
    "                                    sugar integer,\n",
    "                                    dietary_Fiber integer,\n",
    "                                    PRIMARY KEY (item_id, year),\n",
    "                                    FOREIGN KEY (item_id) REFERENCES item_info (item_id),\n",
    "                                    FOREIGN KEY (year) REFERENCES item_info (year),\n",
    "                                    FOREIGN KEY (r_id) REFERENCES restaurant (r_id),\n",
    "                                    FOREIGN KEY (cat_id) REFERENCES food_category (cat_id)\n",
    "                                );\"\"\"\n",
    "\n",
    "    sql_create_combo_facts_table = \"\"\"CREATE TABLE IF NOT EXISTS combo_facts (\n",
    "                                    combo_id integer NOT NULL,\n",
    "                                    item_id integer NOT NULL,\n",
    "                                    year integer NOT NULL,\n",
    "                                    cat_id integer,\n",
    "                                    builds text,\n",
    "                                    PRIMARY KEY (combo_id, item_id, year, cat_id),\n",
    "                                    FOREIGN KEY (item_id) REFERENCES item_info (item_id),\n",
    "                                    FOREIGN KEY (year) REFERENCES item_info (year),\n",
    "                                    FOREIGN KEY (cat_id) REFERENCES food_category (cat_id)\n",
    "                                );\"\"\"\n",
    "\n",
    "    # create a database connection\n",
    "    conn = create_connection(r\"menu_data.db\")\n",
    "\n",
    "    # create tables\n",
    "    if conn is not None:\n",
    "        # create tables\n",
    "        try:\n",
    "            create_table(conn, sql_create_restaurant_table)\n",
    "            create_table(conn, sql_create_food_category_table)\n",
    "            create_table(conn, sql_create_item_info_table)\n",
    "            create_table(conn, sql_create_nutrition_facts_table)\n",
    "            create_table(conn, sql_create_combo_facts_table)\n",
    "        except:\n",
    "            print(\"Error! cannot create the database connection.\")\n",
    "        finally:\n",
    "            if conn:\n",
    "                conn.close()\n",
    "\n",
    "if __name__ == '__main__':\n",
    "    main()"
   ],
   "metadata": {
    "collapsed": false,
    "pycharm": {
     "name": "#%%\n"
    }
   }
  },
  {
   "cell_type": "markdown",
   "source": [
    "### Testing: check tables"
   ],
   "metadata": {
    "collapsed": false
   }
  },
  {
   "cell_type": "code",
   "execution_count": 68,
   "outputs": [
    {
     "name": "stdout",
     "output_type": "stream",
     "text": [
      "[('restaurant',), ('food_category',), ('item_info',), ('nutrition_facts',), ('combo_facts',)]\n"
     ]
    }
   ],
   "source": [
    "conn = None\n",
    "sql = \"\"\"SELECT name FROM sqlite_master WHERE type='table';\"\"\"\n",
    "sql2 = \"\"\"SELECT sql\n",
    "        FROM sqlite_master\n",
    "        WHERE name = 'nutrition_facts'\"\"\"\n",
    "sql3 = \"\"\"DROP TABLE combo_facts\"\"\"\n",
    "try:\n",
    "    conn = sqlite3.connect(r\"menu_data.db\")\n",
    "    if conn is not None:\n",
    "        cursor = conn.cursor()\n",
    "        cursor.execute(sql)\n",
    "        print(cursor.fetchall())\n",
    "        cursor.close()\n",
    "        conn.close()\n",
    "except sqlite3.Error as e:\n",
    "    print(e)"
   ],
   "metadata": {
    "collapsed": false,
    "pycharm": {
     "name": "#%%\n"
    }
   }
  },
  {
   "cell_type": "markdown",
   "source": [
    "# Exporting pandas DataFrames into SQLite with SQLAlchemy, Appending DataFrame to DB Tables\n",
    "Reference: https://www.fullstackpython.com/blog/export-pandas-dataframes-sqlite-sqlalchemy.html\n",
    "\n",
    "### Funtions used to append pandas dataframe into the target table"
   ],
   "metadata": {
    "collapsed": false
   }
  },
  {
   "cell_type": "code",
   "execution_count": 69,
   "outputs": [],
   "source": [
    "def append_table(db_file, tbl_name, pd_df):\n",
    "    \"\"\"\n",
    "    Use SQLAlchemy to append pandas dataframe to the target table in the SQLite db\n",
    "    :param db_file: SQLite db file name\n",
    "    :param tbl_name: SQLite db table name, target table\n",
    "    :param pd_df: Pandas dataframe name, the exporting df\n",
    "    :return:\n",
    "    \"\"\"\n",
    "    db_path = 'sqlite:///' + db_file\n",
    "    engine = sqlalchemy.create_engine(db_path, echo=True)\n",
    "    sqlite_connection = engine.connect()\n",
    "    sqlite_table = tbl_name\n",
    "    pd_df.to_sql(sqlite_table, sqlite_connection, if_exists='append', index = False)\n",
    "    sqlite_connection.close()\n",
    "\n",
    "def load_data(year, file_name, target_table):\n",
    "    \"\"\"\n",
    "    calls append_table() to load data\n",
    "    :param year: the year of the dataset\n",
    "    :param file_name: file name\n",
    "    :param target_table:\n",
    "    :return:\n",
    "    \"\"\"\n",
    "    path = 'cleaned_tables_by_year/' + year + '/' + file_name\n",
    "    dat = pd.read_csv(path)\n",
    "    append_table(db_file=\"menu_data.db\", tbl_name=target_table, pd_df=dat)"
   ],
   "metadata": {
    "collapsed": false,
    "pycharm": {
     "name": "#%%\n"
    }
   }
  },
  {
   "cell_type": "markdown",
   "source": [
    "## Do not run the load data code again, would duplicate the data"
   ],
   "metadata": {
    "collapsed": false,
    "pycharm": {
     "name": "#%% md\n"
    }
   }
  },
  {
   "cell_type": "code",
   "execution_count": 70,
   "outputs": [],
   "source": [
    "#load_data(year='2018', file_name='food_category.csv', target_table='food_category')\n",
    "#load_data(year='2018', file_name='restaurant.csv', target_table='restaurant')\n",
    "#load_data(year='2018', file_name='item_info.csv', target_table='item_info')\n",
    "#load_data(year='2018', file_name='nutrition_facts.csv', target_table='nutrition_facts')\n",
    "#load_data(year='2018', file_name='combo_facts.csv', target_table='combo_facts')"
   ],
   "metadata": {
    "collapsed": false,
    "pycharm": {
     "name": "#%%\n"
    }
   }
  },
  {
   "cell_type": "code",
   "execution_count": 71,
   "outputs": [],
   "source": [
    "#load_data(year='2017', file_name='item_info.csv', target_table='item_info')\n",
    "#load_data(year='2017', file_name='nutrition_facts.csv', target_table='nutrition_facts')\n",
    "#load_data(year='2017', file_name='combo_facts.csv', target_table='combo_facts')"
   ],
   "metadata": {
    "collapsed": false,
    "pycharm": {
     "name": "#%%\n"
    }
   }
  },
  {
   "cell_type": "code",
   "execution_count": 72,
   "outputs": [],
   "source": [
    "#load_data(year='2016', file_name='item_info.csv', target_table='item_info')\n",
    "#load_data(year='2016', file_name='nutrition_facts.csv', target_table='nutrition_facts')\n",
    "#load_data(year='2016', file_name='combo_facts.csv', target_table='combo_facts')"
   ],
   "metadata": {
    "collapsed": false,
    "pycharm": {
     "name": "#%%\n"
    }
   }
  },
  {
   "cell_type": "code",
   "execution_count": 73,
   "outputs": [],
   "source": [
    "#load_data(year='2015', file_name='item_info.csv', target_table='item_info')\n",
    "#load_data(year='2015', file_name='nutrition_facts.csv', target_table='nutrition_facts')\n",
    "# Failed to load 2015 combo_facts data"
   ],
   "metadata": {
    "collapsed": false,
    "pycharm": {
     "name": "#%%\n"
    }
   }
  },
  {
   "cell_type": "code",
   "execution_count": 74,
   "outputs": [],
   "source": [
    "#load_data(year='2014', file_name='item_info.csv', target_table='item_info')\n",
    "#load_data(year='2014', file_name='nutrition_facts.csv', target_table='nutrition_facts')\n",
    "# Failed to load 2014 combo_facts data"
   ],
   "metadata": {
    "collapsed": false,
    "pycharm": {
     "name": "#%%\n"
    }
   }
  },
  {
   "cell_type": "code",
   "execution_count": 75,
   "outputs": [],
   "source": [
    "#load_data(year='2013', file_name='item_info.csv', target_table='item_info')\n",
    "#load_data(year='2013', file_name='nutrition_facts.csv', target_table='nutrition_facts')\n",
    "# Failed to load 2013 combo_facts data"
   ],
   "metadata": {
    "collapsed": false,
    "pycharm": {
     "name": "#%%\n"
    }
   }
  },
  {
   "cell_type": "code",
   "execution_count": 76,
   "outputs": [],
   "source": [
    "#load_data(year='2012', file_name='item_info.csv', target_table='item_info')\n",
    "#load_data(year='2012', file_name='nutrition_facts.csv', target_table='nutrition_facts')\n",
    "#load_data(year='2012', file_name='combo_facts.csv', target_table='combo_facts')"
   ],
   "metadata": {
    "collapsed": false,
    "pycharm": {
     "name": "#%%\n"
    }
   }
  },
  {
   "cell_type": "code",
   "execution_count": 77,
   "outputs": [],
   "source": [
    "#load_data(year='2010', file_name='item_info.csv', target_table='item_info')\n",
    "#load_data(year='2010', file_name='nutrition_facts.csv', target_table='nutrition_facts')\n",
    "# Failed to load 2010 combo_facts data"
   ],
   "metadata": {
    "collapsed": false,
    "pycharm": {
     "name": "#%%\n"
    }
   }
  },
  {
   "cell_type": "code",
   "execution_count": 78,
   "outputs": [],
   "source": [
    "#load_data(year='2008', file_name='item_info.csv', target_table='item_info')\n",
    "#load_data(year='2008', file_name='nutrition_facts.csv', target_table='nutrition_facts')\n",
    "#load_data(year='2008', file_name='combo_facts.csv', target_table='combo_facts')"
   ],
   "metadata": {
    "collapsed": false,
    "pycharm": {
     "name": "#%%\n"
    }
   }
  },
  {
   "cell_type": "markdown",
   "source": [
    "#### Note:\n",
    "Failed to load combo_facts data for year 2015, 2014, 2013, and 2010.\n",
    "Which is ok, we only need the latest menu data (2018) if we choose to analyst the combo data."
   ],
   "metadata": {
    "collapsed": false,
    "pycharm": {
     "name": "#%% md\n"
    }
   }
  },
  {
   "cell_type": "markdown",
   "source": [
    "## The query_as_df function is used to display the SQL query result table"
   ],
   "metadata": {
    "collapsed": false
   }
  },
  {
   "cell_type": "code",
   "execution_count": 3,
   "outputs": [],
   "source": [
    "def query_as_df(db_file, sql):\n",
    "    \"\"\"\n",
    "    Display SQLite db query results as a pandas df\n",
    "    :param db_file: SQLite db file name\n",
    "    :param sql: the sql query in this form '''query'''\n",
    "    :return:\n",
    "    \"\"\"\n",
    "    conn = None\n",
    "    try:\n",
    "        conn = sqlite3.connect(db_file)\n",
    "        if conn is not None:\n",
    "            df = pd.read_sql(sql, con = conn)\n",
    "            conn.close()\n",
    "    except sqlite3.Error as e:\n",
    "        print(e)\n",
    "    display(df)"
   ],
   "metadata": {
    "collapsed": false,
    "pycharm": {
     "name": "#%%\n"
    }
   }
  },
  {
   "cell_type": "markdown",
   "source": [
    "### Testing database connection and the target table with imported data"
   ],
   "metadata": {
    "collapsed": false,
    "pycharm": {
     "name": "#%% md\n"
    }
   }
  },
  {
   "cell_type": "code",
   "execution_count": 80,
   "outputs": [
    {
     "data": {
      "text/plain": "    cat_id                cat_name\n0        0      Appetizers & Sides\n1        1             Baked Goods\n2        2               Beverages\n3        3                 Burgers\n4        4                Desserts\n5        5                 Entrees\n6        6          Fried Potatoes\n7        7                   Pizza\n8        8                  Salads\n9        9              Sandwiches\n10      10                    Soup\n11      11  Toppings & Ingredients",
      "text/html": "<div>\n<style scoped>\n    .dataframe tbody tr th:only-of-type {\n        vertical-align: middle;\n    }\n\n    .dataframe tbody tr th {\n        vertical-align: top;\n    }\n\n    .dataframe thead th {\n        text-align: right;\n    }\n</style>\n<table border=\"1\" class=\"dataframe\">\n  <thead>\n    <tr style=\"text-align: right;\">\n      <th></th>\n      <th>cat_id</th>\n      <th>cat_name</th>\n    </tr>\n  </thead>\n  <tbody>\n    <tr>\n      <th>0</th>\n      <td>0</td>\n      <td>Appetizers &amp; Sides</td>\n    </tr>\n    <tr>\n      <th>1</th>\n      <td>1</td>\n      <td>Baked Goods</td>\n    </tr>\n    <tr>\n      <th>2</th>\n      <td>2</td>\n      <td>Beverages</td>\n    </tr>\n    <tr>\n      <th>3</th>\n      <td>3</td>\n      <td>Burgers</td>\n    </tr>\n    <tr>\n      <th>4</th>\n      <td>4</td>\n      <td>Desserts</td>\n    </tr>\n    <tr>\n      <th>5</th>\n      <td>5</td>\n      <td>Entrees</td>\n    </tr>\n    <tr>\n      <th>6</th>\n      <td>6</td>\n      <td>Fried Potatoes</td>\n    </tr>\n    <tr>\n      <th>7</th>\n      <td>7</td>\n      <td>Pizza</td>\n    </tr>\n    <tr>\n      <th>8</th>\n      <td>8</td>\n      <td>Salads</td>\n    </tr>\n    <tr>\n      <th>9</th>\n      <td>9</td>\n      <td>Sandwiches</td>\n    </tr>\n    <tr>\n      <th>10</th>\n      <td>10</td>\n      <td>Soup</td>\n    </tr>\n    <tr>\n      <th>11</th>\n      <td>11</td>\n      <td>Toppings &amp; Ingredients</td>\n    </tr>\n  </tbody>\n</table>\n</div>"
     },
     "metadata": {},
     "output_type": "display_data"
    }
   ],
   "source": [
    "sql = '''\n",
    "SELECT * FROM food_category;\n",
    "'''\n",
    "query_as_df(\"menu_data.db\", sql)"
   ],
   "metadata": {
    "collapsed": false,
    "pycharm": {
     "name": "#%%\n"
    }
   }
  },
  {
   "cell_type": "code",
   "execution_count": 81,
   "outputs": [
    {
     "data": {
      "text/plain": "    r_id                       r_name\n0      0                     7 Eleven\n1      1                   Applebee's\n2      2                       Arby's\n3      3                Auntie Anne's\n4      4  BJ's Restaurant & Brewhouse\n..   ...                          ...\n91    91                  Whataburger\n92    92                 White Castle\n93    93                     Wingstop\n94    94                   Yard House\n95    95                      Zaxby's\n\n[96 rows x 2 columns]",
      "text/html": "<div>\n<style scoped>\n    .dataframe tbody tr th:only-of-type {\n        vertical-align: middle;\n    }\n\n    .dataframe tbody tr th {\n        vertical-align: top;\n    }\n\n    .dataframe thead th {\n        text-align: right;\n    }\n</style>\n<table border=\"1\" class=\"dataframe\">\n  <thead>\n    <tr style=\"text-align: right;\">\n      <th></th>\n      <th>r_id</th>\n      <th>r_name</th>\n    </tr>\n  </thead>\n  <tbody>\n    <tr>\n      <th>0</th>\n      <td>0</td>\n      <td>7 Eleven</td>\n    </tr>\n    <tr>\n      <th>1</th>\n      <td>1</td>\n      <td>Applebee's</td>\n    </tr>\n    <tr>\n      <th>2</th>\n      <td>2</td>\n      <td>Arby's</td>\n    </tr>\n    <tr>\n      <th>3</th>\n      <td>3</td>\n      <td>Auntie Anne's</td>\n    </tr>\n    <tr>\n      <th>4</th>\n      <td>4</td>\n      <td>BJ's Restaurant &amp; Brewhouse</td>\n    </tr>\n    <tr>\n      <th>...</th>\n      <td>...</td>\n      <td>...</td>\n    </tr>\n    <tr>\n      <th>91</th>\n      <td>91</td>\n      <td>Whataburger</td>\n    </tr>\n    <tr>\n      <th>92</th>\n      <td>92</td>\n      <td>White Castle</td>\n    </tr>\n    <tr>\n      <th>93</th>\n      <td>93</td>\n      <td>Wingstop</td>\n    </tr>\n    <tr>\n      <th>94</th>\n      <td>94</td>\n      <td>Yard House</td>\n    </tr>\n    <tr>\n      <th>95</th>\n      <td>95</td>\n      <td>Zaxby's</td>\n    </tr>\n  </tbody>\n</table>\n<p>96 rows × 2 columns</p>\n</div>"
     },
     "metadata": {},
     "output_type": "display_data"
    }
   ],
   "source": [
    "sql = '''\n",
    "SELECT * FROM restaurant;\n",
    "'''\n",
    "query_as_df(\"menu_data.db\", sql)"
   ],
   "metadata": {
    "collapsed": false,
    "pycharm": {
     "name": "#%%\n"
    }
   }
  },
  {
   "cell_type": "code",
   "execution_count": 82,
   "outputs": [
    {
     "data": {
      "text/plain": "        item_id  year                                   item_name  \\\n0        100054  2018                                Burrito Bowl   \n1        100057  2018                        Quesadilla Kids Meal   \n2        100060  2018                                     Burrito   \n3        100073  2018                     Flour Tortilla, 12.5 in   \n4         10012  2018                           French Onion Soup   \n...         ...   ...                                         ...   \n209527      989  2008  Breakfast Toaster w/ Sausage, Egg & Cheese   \n209528    99121  2008                Frontega Chicken on Focaccia   \n209529      996  2008                     Breakfast Sausage Bagel   \n209530      997  2008                       Breakfast Bacon Bagel   \n209531      998  2008                 Breakfast Steakburger Bagel   \n\n                                         item_description  \n0       Burrito Bowl, Burritos & More, Vegetarian Eats...  \n1       Quesadilla Kids Meal w/ Quesadilla, Applesauce...  \n2       Burrito, Burritos & More, Vegetarian Eats; Cho...  \n3        Flour Tortilla, 12.5 in, Ingredients for Entrees  \n4       French Onion Soup w/ Melted Cheese & Croutons,...  \n...                                                   ...  \n209527  Breakfast Toaster w/ Sausage, Egg & Cheese, Br...  \n209528  Frontega Chicken on Focaccia, Hot Panini, From...  \n209529                 Breakfast Sausage Bagel, Breakfast  \n209530                   Breakfast Bacon Bagel, Breakfast  \n209531             Breakfast Steakburger Bagel, Breakfast  \n\n[209532 rows x 4 columns]",
      "text/html": "<div>\n<style scoped>\n    .dataframe tbody tr th:only-of-type {\n        vertical-align: middle;\n    }\n\n    .dataframe tbody tr th {\n        vertical-align: top;\n    }\n\n    .dataframe thead th {\n        text-align: right;\n    }\n</style>\n<table border=\"1\" class=\"dataframe\">\n  <thead>\n    <tr style=\"text-align: right;\">\n      <th></th>\n      <th>item_id</th>\n      <th>year</th>\n      <th>item_name</th>\n      <th>item_description</th>\n    </tr>\n  </thead>\n  <tbody>\n    <tr>\n      <th>0</th>\n      <td>100054</td>\n      <td>2018</td>\n      <td>Burrito Bowl</td>\n      <td>Burrito Bowl, Burritos &amp; More, Vegetarian Eats...</td>\n    </tr>\n    <tr>\n      <th>1</th>\n      <td>100057</td>\n      <td>2018</td>\n      <td>Quesadilla Kids Meal</td>\n      <td>Quesadilla Kids Meal w/ Quesadilla, Applesauce...</td>\n    </tr>\n    <tr>\n      <th>2</th>\n      <td>100060</td>\n      <td>2018</td>\n      <td>Burrito</td>\n      <td>Burrito, Burritos &amp; More, Vegetarian Eats; Cho...</td>\n    </tr>\n    <tr>\n      <th>3</th>\n      <td>100073</td>\n      <td>2018</td>\n      <td>Flour Tortilla, 12.5 in</td>\n      <td>Flour Tortilla, 12.5 in, Ingredients for Entrees</td>\n    </tr>\n    <tr>\n      <th>4</th>\n      <td>10012</td>\n      <td>2018</td>\n      <td>French Onion Soup</td>\n      <td>French Onion Soup w/ Melted Cheese &amp; Croutons,...</td>\n    </tr>\n    <tr>\n      <th>...</th>\n      <td>...</td>\n      <td>...</td>\n      <td>...</td>\n      <td>...</td>\n    </tr>\n    <tr>\n      <th>209527</th>\n      <td>989</td>\n      <td>2008</td>\n      <td>Breakfast Toaster w/ Sausage, Egg &amp; Cheese</td>\n      <td>Breakfast Toaster w/ Sausage, Egg &amp; Cheese, Br...</td>\n    </tr>\n    <tr>\n      <th>209528</th>\n      <td>99121</td>\n      <td>2008</td>\n      <td>Frontega Chicken on Focaccia</td>\n      <td>Frontega Chicken on Focaccia, Hot Panini, From...</td>\n    </tr>\n    <tr>\n      <th>209529</th>\n      <td>996</td>\n      <td>2008</td>\n      <td>Breakfast Sausage Bagel</td>\n      <td>Breakfast Sausage Bagel, Breakfast</td>\n    </tr>\n    <tr>\n      <th>209530</th>\n      <td>997</td>\n      <td>2008</td>\n      <td>Breakfast Bacon Bagel</td>\n      <td>Breakfast Bacon Bagel, Breakfast</td>\n    </tr>\n    <tr>\n      <th>209531</th>\n      <td>998</td>\n      <td>2008</td>\n      <td>Breakfast Steakburger Bagel</td>\n      <td>Breakfast Steakburger Bagel, Breakfast</td>\n    </tr>\n  </tbody>\n</table>\n<p>209532 rows × 4 columns</p>\n</div>"
     },
     "metadata": {},
     "output_type": "display_data"
    }
   ],
   "source": [
    "sql = '''\n",
    "SELECT * FROM item_info;\n",
    "'''\n",
    "query_as_df(\"menu_data.db\", sql)\n"
   ],
   "metadata": {
    "collapsed": false,
    "pycharm": {
     "name": "#%%\n"
    }
   }
  },
  {
   "cell_type": "code",
   "execution_count": 6,
   "outputs": [
    {
     "data": {
      "text/plain": "        item_id  year  r_id  cat_id  calories  total_fat  saturated_fat  \\\n0        100054  2018  72.0       5       NaN        NaN            NaN   \n1        100057  2018  72.0       9       NaN        NaN            NaN   \n2        100060  2018  72.0       9       NaN        NaN            NaN   \n3        100073  2018  72.0      11     300.0        7.0            3.0   \n4         10012  2018   1.0      10     380.0       22.0           13.0   \n...         ...   ...   ...     ...       ...        ...            ...   \n209527      989  2008  81.0       9     620.0       42.0           13.0   \n209528    99121  2008  65.0       9     810.0       34.0            9.0   \n209529      996  2008  83.0       9     576.0      295.0          115.0   \n209530      997  2008  83.0       9     458.0      165.0            7.0   \n209531      998  2008  83.0       9     460.0      155.0            7.0   \n\n        trans_fat  cholesterol  sodium  potassium  carbs  protein  sugar  \\\n0             NaN          NaN     NaN        NaN    NaN      NaN    NaN   \n1             NaN          NaN     NaN        NaN    NaN      NaN    NaN   \n2             NaN          NaN     NaN        NaN    NaN      NaN    NaN   \n3             0.0          0.0   760.0       50.0   52.0      8.0    2.0   \n4             0.0         60.0  1390.0        NaN   27.0     17.0    7.0   \n...           ...          ...     ...        ...    ...      ...    ...   \n209527        1.0        340.0  1380.0        NaN   40.0     20.0    6.0   \n209528        5.0        100.0  2140.0        NaN   79.0     45.0    6.0   \n209529        0.0        212.0  1120.0        NaN   51.0     26.0    6.0   \n209530        0.0        193.0  1102.0        NaN   51.0     25.0    7.0   \n209531        5.0        205.0   795.0        NaN   50.0     27.0    6.0   \n\n        dietary_Fiber  \n0                 NaN  \n1                 NaN  \n2                 NaN  \n3                 3.0  \n4                 2.0  \n...               ...  \n209527            2.0  \n209528            5.0  \n209529            2.0  \n209530            2.0  \n209531            2.0  \n\n[209532 rows x 15 columns]",
      "text/html": "<div>\n<style scoped>\n    .dataframe tbody tr th:only-of-type {\n        vertical-align: middle;\n    }\n\n    .dataframe tbody tr th {\n        vertical-align: top;\n    }\n\n    .dataframe thead th {\n        text-align: right;\n    }\n</style>\n<table border=\"1\" class=\"dataframe\">\n  <thead>\n    <tr style=\"text-align: right;\">\n      <th></th>\n      <th>item_id</th>\n      <th>year</th>\n      <th>r_id</th>\n      <th>cat_id</th>\n      <th>calories</th>\n      <th>total_fat</th>\n      <th>saturated_fat</th>\n      <th>trans_fat</th>\n      <th>cholesterol</th>\n      <th>sodium</th>\n      <th>potassium</th>\n      <th>carbs</th>\n      <th>protein</th>\n      <th>sugar</th>\n      <th>dietary_Fiber</th>\n    </tr>\n  </thead>\n  <tbody>\n    <tr>\n      <th>0</th>\n      <td>100054</td>\n      <td>2018</td>\n      <td>72.0</td>\n      <td>5</td>\n      <td>NaN</td>\n      <td>NaN</td>\n      <td>NaN</td>\n      <td>NaN</td>\n      <td>NaN</td>\n      <td>NaN</td>\n      <td>NaN</td>\n      <td>NaN</td>\n      <td>NaN</td>\n      <td>NaN</td>\n      <td>NaN</td>\n    </tr>\n    <tr>\n      <th>1</th>\n      <td>100057</td>\n      <td>2018</td>\n      <td>72.0</td>\n      <td>9</td>\n      <td>NaN</td>\n      <td>NaN</td>\n      <td>NaN</td>\n      <td>NaN</td>\n      <td>NaN</td>\n      <td>NaN</td>\n      <td>NaN</td>\n      <td>NaN</td>\n      <td>NaN</td>\n      <td>NaN</td>\n      <td>NaN</td>\n    </tr>\n    <tr>\n      <th>2</th>\n      <td>100060</td>\n      <td>2018</td>\n      <td>72.0</td>\n      <td>9</td>\n      <td>NaN</td>\n      <td>NaN</td>\n      <td>NaN</td>\n      <td>NaN</td>\n      <td>NaN</td>\n      <td>NaN</td>\n      <td>NaN</td>\n      <td>NaN</td>\n      <td>NaN</td>\n      <td>NaN</td>\n      <td>NaN</td>\n    </tr>\n    <tr>\n      <th>3</th>\n      <td>100073</td>\n      <td>2018</td>\n      <td>72.0</td>\n      <td>11</td>\n      <td>300.0</td>\n      <td>7.0</td>\n      <td>3.0</td>\n      <td>0.0</td>\n      <td>0.0</td>\n      <td>760.0</td>\n      <td>50.0</td>\n      <td>52.0</td>\n      <td>8.0</td>\n      <td>2.0</td>\n      <td>3.0</td>\n    </tr>\n    <tr>\n      <th>4</th>\n      <td>10012</td>\n      <td>2018</td>\n      <td>1.0</td>\n      <td>10</td>\n      <td>380.0</td>\n      <td>22.0</td>\n      <td>13.0</td>\n      <td>0.0</td>\n      <td>60.0</td>\n      <td>1390.0</td>\n      <td>NaN</td>\n      <td>27.0</td>\n      <td>17.0</td>\n      <td>7.0</td>\n      <td>2.0</td>\n    </tr>\n    <tr>\n      <th>...</th>\n      <td>...</td>\n      <td>...</td>\n      <td>...</td>\n      <td>...</td>\n      <td>...</td>\n      <td>...</td>\n      <td>...</td>\n      <td>...</td>\n      <td>...</td>\n      <td>...</td>\n      <td>...</td>\n      <td>...</td>\n      <td>...</td>\n      <td>...</td>\n      <td>...</td>\n    </tr>\n    <tr>\n      <th>209527</th>\n      <td>989</td>\n      <td>2008</td>\n      <td>81.0</td>\n      <td>9</td>\n      <td>620.0</td>\n      <td>42.0</td>\n      <td>13.0</td>\n      <td>1.0</td>\n      <td>340.0</td>\n      <td>1380.0</td>\n      <td>NaN</td>\n      <td>40.0</td>\n      <td>20.0</td>\n      <td>6.0</td>\n      <td>2.0</td>\n    </tr>\n    <tr>\n      <th>209528</th>\n      <td>99121</td>\n      <td>2008</td>\n      <td>65.0</td>\n      <td>9</td>\n      <td>810.0</td>\n      <td>34.0</td>\n      <td>9.0</td>\n      <td>5.0</td>\n      <td>100.0</td>\n      <td>2140.0</td>\n      <td>NaN</td>\n      <td>79.0</td>\n      <td>45.0</td>\n      <td>6.0</td>\n      <td>5.0</td>\n    </tr>\n    <tr>\n      <th>209529</th>\n      <td>996</td>\n      <td>2008</td>\n      <td>83.0</td>\n      <td>9</td>\n      <td>576.0</td>\n      <td>295.0</td>\n      <td>115.0</td>\n      <td>0.0</td>\n      <td>212.0</td>\n      <td>1120.0</td>\n      <td>NaN</td>\n      <td>51.0</td>\n      <td>26.0</td>\n      <td>6.0</td>\n      <td>2.0</td>\n    </tr>\n    <tr>\n      <th>209530</th>\n      <td>997</td>\n      <td>2008</td>\n      <td>83.0</td>\n      <td>9</td>\n      <td>458.0</td>\n      <td>165.0</td>\n      <td>7.0</td>\n      <td>0.0</td>\n      <td>193.0</td>\n      <td>1102.0</td>\n      <td>NaN</td>\n      <td>51.0</td>\n      <td>25.0</td>\n      <td>7.0</td>\n      <td>2.0</td>\n    </tr>\n    <tr>\n      <th>209531</th>\n      <td>998</td>\n      <td>2008</td>\n      <td>83.0</td>\n      <td>9</td>\n      <td>460.0</td>\n      <td>155.0</td>\n      <td>7.0</td>\n      <td>5.0</td>\n      <td>205.0</td>\n      <td>795.0</td>\n      <td>NaN</td>\n      <td>50.0</td>\n      <td>27.0</td>\n      <td>6.0</td>\n      <td>2.0</td>\n    </tr>\n  </tbody>\n</table>\n<p>209532 rows × 15 columns</p>\n</div>"
     },
     "metadata": {},
     "output_type": "display_data"
    }
   ],
   "source": [
    "sql = '''\n",
    "SELECT * FROM nutrition_facts;\n",
    "'''\n",
    "query_as_df(\"menu_data.db\", sql)\n"
   ],
   "metadata": {
    "collapsed": false,
    "pycharm": {
     "name": "#%%\n"
    }
   }
  },
  {
   "cell_type": "code",
   "execution_count": 7,
   "outputs": [
    {
     "data": {
      "text/plain": "          combo_id  item_id  year  cat_id             builds\n0        704214541   100054  2018       5          Main Item\n1         70814571   100057  2018       9          Main Item\n2        704214551   100060  2018       9          Main Item\n3          2301341    10012  2018      10  Accompanying Item\n4          2331351    10012  2018      10  Accompanying Item\n...            ...      ...   ...     ...                ...\n150966    16822481    86031  2008      11  Accompanying Item\n150967  1038710163    90970  2008       4          Main Item\n150968  1038710164    90972  2008       4          Main Item\n150969   108181102    91453  2008       5          Main Item\n150970   112201185    92163  2008       3          Main Item\n\n[150971 rows x 5 columns]",
      "text/html": "<div>\n<style scoped>\n    .dataframe tbody tr th:only-of-type {\n        vertical-align: middle;\n    }\n\n    .dataframe tbody tr th {\n        vertical-align: top;\n    }\n\n    .dataframe thead th {\n        text-align: right;\n    }\n</style>\n<table border=\"1\" class=\"dataframe\">\n  <thead>\n    <tr style=\"text-align: right;\">\n      <th></th>\n      <th>combo_id</th>\n      <th>item_id</th>\n      <th>year</th>\n      <th>cat_id</th>\n      <th>builds</th>\n    </tr>\n  </thead>\n  <tbody>\n    <tr>\n      <th>0</th>\n      <td>704214541</td>\n      <td>100054</td>\n      <td>2018</td>\n      <td>5</td>\n      <td>Main Item</td>\n    </tr>\n    <tr>\n      <th>1</th>\n      <td>70814571</td>\n      <td>100057</td>\n      <td>2018</td>\n      <td>9</td>\n      <td>Main Item</td>\n    </tr>\n    <tr>\n      <th>2</th>\n      <td>704214551</td>\n      <td>100060</td>\n      <td>2018</td>\n      <td>9</td>\n      <td>Main Item</td>\n    </tr>\n    <tr>\n      <th>3</th>\n      <td>2301341</td>\n      <td>10012</td>\n      <td>2018</td>\n      <td>10</td>\n      <td>Accompanying Item</td>\n    </tr>\n    <tr>\n      <th>4</th>\n      <td>2331351</td>\n      <td>10012</td>\n      <td>2018</td>\n      <td>10</td>\n      <td>Accompanying Item</td>\n    </tr>\n    <tr>\n      <th>...</th>\n      <td>...</td>\n      <td>...</td>\n      <td>...</td>\n      <td>...</td>\n      <td>...</td>\n    </tr>\n    <tr>\n      <th>150966</th>\n      <td>16822481</td>\n      <td>86031</td>\n      <td>2008</td>\n      <td>11</td>\n      <td>Accompanying Item</td>\n    </tr>\n    <tr>\n      <th>150967</th>\n      <td>1038710163</td>\n      <td>90970</td>\n      <td>2008</td>\n      <td>4</td>\n      <td>Main Item</td>\n    </tr>\n    <tr>\n      <th>150968</th>\n      <td>1038710164</td>\n      <td>90972</td>\n      <td>2008</td>\n      <td>4</td>\n      <td>Main Item</td>\n    </tr>\n    <tr>\n      <th>150969</th>\n      <td>108181102</td>\n      <td>91453</td>\n      <td>2008</td>\n      <td>5</td>\n      <td>Main Item</td>\n    </tr>\n    <tr>\n      <th>150970</th>\n      <td>112201185</td>\n      <td>92163</td>\n      <td>2008</td>\n      <td>3</td>\n      <td>Main Item</td>\n    </tr>\n  </tbody>\n</table>\n<p>150971 rows × 5 columns</p>\n</div>"
     },
     "metadata": {},
     "output_type": "display_data"
    }
   ],
   "source": [
    "sql = '''\n",
    "SELECT * FROM combo_facts;\n",
    "'''\n",
    "query_as_df(\"menu_data.db\", sql)\n"
   ],
   "metadata": {
    "collapsed": false,
    "pycharm": {
     "name": "#%%\n"
    }
   }
  },
  {
   "cell_type": "code",
   "execution_count": 4,
   "outputs": [
    {
     "name": "stdout",
     "output_type": "stream",
     "text": [
      "[NbConvertApp] Converting notebook load_data.ipynb to html\r\n",
      "[NbConvertApp] Writing 620991 bytes to load_data.html\r\n"
     ]
    }
   ],
   "source": [
    "!jupyter nbconvert load_data.ipynb --to html"
   ],
   "metadata": {
    "collapsed": false,
    "pycharm": {
     "name": "#%%\n"
    }
   }
  },
  {
   "cell_type": "markdown",
   "source": [
    "# From SQLite to MySQL\n",
    "- Run the following comand in the terminal to import tables over to MySQL\n",
    "- you might need to change the current working directory to the path of the sqlite.db\n",
    "- or specify the path of the sqlite.db in -f\n",
    "\n",
    "reference: https://pypi.org/project/sqlite3-to-mysql/\n",
    "\n",
    "#### sqlite3mysql -f menu_data.db -t combo_facts -d menu_data -u root -p\n",
    "- -f, --sqlite-file PATH\n",
    "- -t, --sqlite-tables TEXT\n",
    "- -d, --mysql-database TEXT\n",
    "- -u, --mysql-user TEXT\n",
    "- -p, --prompt-mysql-password"
   ],
   "metadata": {
    "collapsed": false,
    "pycharm": {
     "name": "#%% md\n"
    }
   }
  },
  {
   "cell_type": "code",
   "execution_count": null,
   "outputs": [],
   "source": [],
   "metadata": {
    "collapsed": false,
    "pycharm": {
     "name": "#%%\n"
    }
   }
  }
 ],
 "metadata": {
  "kernelspec": {
   "display_name": "Python 3",
   "language": "python",
   "name": "python3"
  },
  "language_info": {
   "codemirror_mode": {
    "name": "ipython",
    "version": 2
   },
   "file_extension": ".py",
   "mimetype": "text/x-python",
   "name": "python",
   "nbconvert_exporter": "python",
   "pygments_lexer": "ipython2",
   "version": "2.7.6"
  }
 },
 "nbformat": 4,
 "nbformat_minor": 0
}